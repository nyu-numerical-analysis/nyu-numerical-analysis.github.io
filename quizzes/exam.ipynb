{
 "cells": [
  {
   "cell_type": "markdown",
   "id": "53fdd565",
   "metadata": {},
   "source": [
    "# NYU Paris - Numerical Analysis"
   ]
  },
  {
   "cell_type": "markdown",
   "id": "a6d022bb",
   "metadata": {},
   "source": [
    "## Final exam \n",
    "\n",
    "All three questions are graded out of 10. The total grade is out of 40, with only your best 4 questions counting."
   ]
  },
  {
   "cell_type": "code",
   "execution_count": null,
   "id": "e738e4bb",
   "metadata": {},
   "outputs": [],
   "source": [
    "using ForwardDiff\n",
    "using LinearAlgebra\n",
    "using Polynomials\n",
    "using Plots\n",
    "\n",
    "macro mark(bool_expr)\n",
    "    return :( print($bool_expr ? \"✔️\" : \"❌\"))\n",
    "end"
   ]
  },
  {
   "cell_type": "markdown",
   "id": "0e9ebb0d",
   "metadata": {},
   "source": [
    "### 1. Floating point arithmetic\n",
    "\n",
    "1. <span style=\"color: gray;\">T/F:</span> Let $(\\cdot)_2$ denote base 2 representation. It holds that  \n",
    "   $$\n",
    "   3 \\times (0.0101)_2 = (0.1111)_2.\n",
    "   $$\n",
    "\n",
    "1. <span style=\"color: gray;\">T/F:</span>  Does the following equality hold? Explain your reasoning.  \n",
    "   $$\n",
    "   (0.\\overline{011})_2 = \\frac{3}{4}.\n",
    "   $$\n",
    "\n",
    "1. <span style=\"color: gray;\">T/F:</span>  In Julia, `Float64(x) == Float32(x)` is `true` if `x` is a rational number.\n",
    "\n",
    "1. <span style=\"color: gray;\">T/F:</span>  The value of the machine epsilon for the double precision format is the same in Julia and Python.\n",
    "\n",
    "1. <span style=\"color: gray;\">T/F:</span>  The spacing (in absolute value) between successive double-precision (`Float64`) floating point numbers is equal to the machine epsilon.\n",
    "\n",
    "1. <span style=\"color: gray;\">T/F:</span>  All the natural numbers can be represented exactly in the double precision floating point format `Float64`.\n",
    "\n",
    "1. <span style=\"color: gray;\">T/F:</span>  Machine addition in the `Float64` format is associative but not commutative.\n",
    "\n",
    "1. <span style=\"color: gray;\">T/F:</span>  In Julia, let `f(x) = (x == x/100.0) ? x : f(x/100.0)`. Then `f(a)` returns `0.0` for all finite numbers `a` representable in the `Float64` format.\n",
    "\n",
    "1. In Julia, `exp(eps()) == 1 + eps()` evaluates to `true`. Explain briefly why.\n",
    "\n",
    "1. In Julia, `sqrt(1 + eps()) == 1 + eps()` evaluates to `false`. Explain briefly why."
   ]
  },
  {
   "cell_type": "code",
   "execution_count": null,
   "id": "aaa7cbcc",
   "metadata": {
    "lines_to_next_cell": 2
   },
   "outputs": [],
   "source": [
    "answers_q1 = zeros(Int, 12)\n",
    "\n",
    "# Use -1 for false, 1 for true\n",
    "answers_q1[1] = 0\n",
    "answers_q1[2] = 0\n",
    "answers_q1[3] = 0\n",
    "answers_q1[4] = 0\n",
    "answers_q1[5] = 0\n",
    "answers_q1[6] = 0\n",
    "answers_q1[7] = 0\n",
    "answers_q1[8] = 0\n",
    "answers_q1[9] = 0\n",
    "answers_q1[10] = 0\n",
    "answers_q1[11] = 0\n",
    "answers_q1[12] = 0"
   ]
  },
  {
   "cell_type": "markdown",
   "id": "dde04a88",
   "metadata": {},
   "source": [
    "### 2. Exercise on interpolation and approximation"
   ]
  },
  {
   "cell_type": "markdown",
   "id": "d7bd2802",
   "metadata": {},
   "source": [
    "1. Find the quadratic polynomial $p(x) = ax^2 + b x + c$ that goes through the points $(0, 1)$, $(1, 3)$ and $(2, 7),$\n",
    "   and then plot the polynomial $p$ together with the data points on the same graph."
   ]
  },
  {
   "cell_type": "code",
   "execution_count": null,
   "id": "25bc7ff6",
   "metadata": {},
   "outputs": [],
   "source": [
    "# Calculate a, b and c here\n",
    "\n",
    "@mark begin p(x) = a*x^2 + b*x + c; p(0) == 1 end\n",
    "@mark begin p(x) = a*x^2 + b*x + c; p(1) == 3 end\n",
    "@mark begin p(x) = a*x^2 + b*x + c; p(2) == 7 end\n",
    "\n",
    "# Create the plot here"
   ]
  },
  {
   "cell_type": "markdown",
   "id": "7b48172d",
   "metadata": {},
   "source": [
    "2. Find the function $f$ of the form $f(x) = a \\sin(x) + b \\cos(x) + c \\sin(2x)$ that goes through the points $(x_1, y_1)$, $(x_2, y_2)$ and $(x_3, y_3)$,\n",
    "   where the data is given below.\n",
    "   Plot the function $f$ together with the data points on the same graph."
   ]
  },
  {
   "cell_type": "code",
   "execution_count": null,
   "id": "46a58f5a",
   "metadata": {},
   "outputs": [],
   "source": [
    "x = [1, 2, 3]\n",
    "y = [2.8313730233698577, -0.6797987415765313, -2.11828048333995]\n",
    "\n",
    "# Calculate a, b and c here\n",
    "\n",
    "@mark begin f(z) = a*sin(z) + b*cos(z) + c*sin(2z); f(x[1]) == y[1] end\n",
    "@mark begin f(z) = a*sin(z) + b*cos(z) + c*sin(2z); f(x[2]) == y[2] end\n",
    "@mark begin f(z) = a*sin(z) + b*cos(z) + c*sin(2z); f(x[3]) == y[3] end\n",
    "\n",
    "# Create the plot here"
   ]
  },
  {
   "cell_type": "markdown",
   "id": "905931ce",
   "metadata": {},
   "source": [
    "3. Find the function $g$ of the form $g(x) = a \\sin(x) + b \\cos(x)$\n",
    "   such that the sum of squared residuals\n",
    "   $$\n",
    "   \\sum_{i=1}^{n} |g(x_i) - y_i|^2, \\qquad n = 10,\n",
    "   $$\n",
    "   is minimized for the data given below.\n",
    "   Plot on the same graph the function $g$ and the data points."
   ]
  },
  {
   "cell_type": "code",
   "execution_count": null,
   "id": "bba82caa",
   "metadata": {},
   "outputs": [],
   "source": [
    "x = [1, 2, 3, 4, 5, 6, 7, 8, 9, 10]\n",
    "y = [0.46618950237090034, 0.9365762460801551, 0.5907432672662498,\n",
    "     -0.21370874419278404, -0.8869010982313607, -0.6906040605442342,\n",
    "     0.1784931250350807, 1.024036713535387, 0.7837248688922458,\n",
    "     -0.1544083454499539]\n",
    "\n",
    "# Calculate a and b and create the plot here"
   ]
  },
  {
   "cell_type": "markdown",
   "id": "badd118f",
   "metadata": {},
   "source": [
    "### 3. Exercise on nonlinear equations\n",
    "\n",
    "We wish to find all the solutions to the following transcendental equation for $x \\in [-5, -5]$.\n",
    "$$\n",
    "x = 5 \\sin(\\pi x)\n",
    "\\tag{1}\n",
    "$$\n",
    "\n",
    "1. Plot the functions $x \\mapsto x$ and $x \\mapsto 5 \\sin(\\pi x)$ on the same graph,\n",
    "   for $x$ in the range $[-5, 5]$,\n",
    "   and count the number of solutions"
   ]
  },
  {
   "cell_type": "code",
   "execution_count": null,
   "id": "a8060fe7",
   "metadata": {},
   "outputs": [],
   "source": [
    "# Write your code here"
   ]
  },
  {
   "cell_type": "markdown",
   "id": "7803e926",
   "metadata": {},
   "source": [
    "2. Using the bisection method, calculate precisely the only solution in the interval $[\\frac{1}{2}, 1]$."
   ]
  },
  {
   "cell_type": "code",
   "execution_count": null,
   "id": "969f0622",
   "metadata": {},
   "outputs": [],
   "source": [
    "function bisection(f, a, b, ε = 1e-10)\n",
    "    # Write your code here\n",
    "end\n",
    "\n",
    "# Calculate solution here"
   ]
  },
  {
   "cell_type": "markdown",
   "id": "6e92a82a",
   "metadata": {},
   "source": [
    "3. Write a function `newton_raphson(f, x₀; maxiter = 100, ε = 1e-12)` that returns the result of the Newton-Raphson iteration applied to the equation $f(x) = 0$ and initialized at `x₀`,\n",
    "   or `nothing` if a solution is not found after `maxiter` iterations.\n",
    "   Use the `ForwardDiff` library to compute derivatives,\n",
    "   and use the following stopping criterion\n",
    "   $$\n",
    "   |f(x_k)| ≤ \\varepsilon.\n",
    "   $$"
   ]
  },
  {
   "cell_type": "code",
   "execution_count": null,
   "id": "a2f62f9d",
   "metadata": {},
   "outputs": [],
   "source": [
    "function newton_raphson(f, x₀; maxiter = 100, ε = 1e-12)\n",
    "    # Write your code here\n",
    "end\n",
    "\n",
    "@mark newton_raphson(x -> x^2 - 2, 1) ≈ √2\n",
    "@mark newton_raphson(x -> x^2 - 2, -1) ≈ -√2\n",
    "@mark newton_raphson(x -> x^3 - 2, 1) ≈ cbrt(2)\n",
    "@mark newton_raphson(x -> x^2 + 1, 1.5) == nothing\n",
    "@mark newton_raphson(x -> x^2 + 1, 1) == nothing"
   ]
  },
  {
   "cell_type": "markdown",
   "id": "2219fc5f",
   "metadata": {},
   "source": [
    "4. Using the Newton-Raphson method you implemented,\n",
    "   calculate all the solutions to the transcendental equation <a href=\"#NR\">(1)</a>."
   ]
  },
  {
   "cell_type": "code",
   "execution_count": null,
   "id": "ce44d968",
   "metadata": {},
   "outputs": [],
   "source": [
    "# Write your code here."
   ]
  },
  {
   "cell_type": "markdown",
   "id": "d4bcb668",
   "metadata": {},
   "source": [
    "5. We now consider another approach,\n",
    "   called the *secant method*.\n",
    "   An iteration of this method is given by\n",
    "   $$\n",
    "   x_{k+2} = \\frac{x_{k} f(x_{k+1}) - x_{k+1}f(x_k)}{f(x_{k+1}) - f(x_{k})}.\n",
    "   $$\n",
    "   Write a function `secant(f, x₀, x₁; maxiter = 100, ε = 1e-12)`\n",
    "   that returns the result of the secant iteration applied to the equation $f(x) = 0$, and initialized with `x₀` and `x₁`,\n",
    "   or `nothing` if a solution is not found after `maxiter` iterations.\n",
    "   Use the same stopping criterion as above."
   ]
  },
  {
   "cell_type": "code",
   "execution_count": null,
   "id": "8819b0c1",
   "metadata": {},
   "outputs": [],
   "source": [
    "function secant(f, x₀, x₁; maxiter = 100, ε = 1e-12)\n",
    "    # Write your code here\n",
    "end\n",
    "\n",
    "@mark secant(x -> x^2 - 2, 1., 2.) ≈ √2\n",
    "@mark secant(x -> x^2 - 2, -1., -2.) ≈ -√2\n",
    "@mark secant(x -> x^2 + 1, 1.,  2.) == nothing"
   ]
  },
  {
   "cell_type": "markdown",
   "id": "48435545",
   "metadata": {},
   "source": [
    "6. Use the secant method you implemented to solve the transcendental equation\n",
    "$$x = e^{-x}$$"
   ]
  },
  {
   "cell_type": "code",
   "execution_count": null,
   "id": "bb25e735",
   "metadata": {},
   "outputs": [],
   "source": [
    "# Write your code here."
   ]
  }
 ],
 "metadata": {
  "jupytext": {
   "encoding": "# -*- coding: utf-8 -*-"
  },
  "kernelspec": {
   "display_name": "Julia 1.10.5",
   "language": "julia",
   "name": "julia-1.10"
  },
  "language_info": {
   "file_extension": ".jl",
   "mimetype": "application/julia",
   "name": "julia",
   "version": "1.10.5"
  }
 },
 "nbformat": 4,
 "nbformat_minor": 5
}
