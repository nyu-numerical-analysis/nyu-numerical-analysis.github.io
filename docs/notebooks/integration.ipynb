{
 "cells": [
  {
   "cell_type": "markdown",
   "id": "20acee3a",
   "metadata": {},
   "source": [
    "# NYU Paris - Numerical Analysis"
   ]
  },
  {
   "cell_type": "markdown",
   "id": "1165f09a",
   "metadata": {},
   "source": [
    "Before you turn in this notebook, make sure everything runs as expected. First, **restart the kernel** and then **run all cells**. Make sure you fill in any place that says `YOUR CODE HERE` or \"YOUR ANSWER HERE\", as well as your name and group number below:"
   ]
  },
  {
   "cell_type": "code",
   "execution_count": null,
   "id": "6de233e8",
   "metadata": {},
   "outputs": [],
   "source": [
    "NAME = \"\"\n",
    "GROUP = \"\""
   ]
  },
  {
   "cell_type": "markdown",
   "id": "dbcd568a",
   "metadata": {},
   "source": [
    "## Notebook 4: Integration"
   ]
  },
  {
   "cell_type": "code",
   "execution_count": null,
   "id": "dc126453",
   "metadata": {
    "deletable": false,
    "editable": false,
    "lines_to_next_cell": 2,
    "nbgrader": {
     "cell_type": "code",
     "checksum": "771eef11e04d983baa251fbd42bada2a",
     "grade": false,
     "grade_id": "cell-66fb32acfe72fcce",
     "locked": true,
     "schema_version": 3,
     "solution": false,
     "task": false
    }
   },
   "outputs": [],
   "source": [
    "using Polynomials\n",
    "using Plots\n",
    "using LaTeXStrings\n",
    "using LinearAlgebra\n",
    "\n",
    "macro mark(bool_expr)\n",
    "    return :(print($bool_expr ? \"✔️\" : \"❌\"))\n",
    "end"
   ]
  },
  {
   "cell_type": "markdown",
   "id": "cfd71fea",
   "metadata": {
    "deletable": false,
    "editable": false,
    "jp-MarkdownHeadingCollapsed": true,
    "nbgrader": {
     "cell_type": "markdown",
     "checksum": "e433beb592eb4645eee813a44e8bda1d",
     "grade": false,
     "grade_id": "cell-0025dd0a265bc32f",
     "locked": true,
     "schema_version": 3,
     "solution": false,
     "task": false
    }
   },
   "source": [
    "### <font color='green'>Numerical integration</font>"
   ]
  },
  {
   "cell_type": "markdown",
   "id": "f6c3eb17",
   "metadata": {
    "deletable": false,
    "editable": false,
    "nbgrader": {
     "cell_type": "markdown",
     "checksum": "ae379bc4552662a252a4156313f937fe",
     "grade": false,
     "grade_id": "trapezium",
     "locked": true,
     "schema_version": 3,
     "solution": false,
     "task": false
    }
   },
   "source": [
    "### <font color='orange'>[Exercise 1]</font> Trapezium rule and Simpson's rule\n",
    "\n",
    "1. Write a function `composite_trapezoidal(u, a, b, n)` to approximate the integral\n",
    "   $$\n",
    "   I := \\int_a^b u(x) \\, \\mathrm d x\n",
    "   $$\n",
    "   using the composite trapezoidal rule with `n` equidistant points $a = x_1 < x_2 < \\dots < x_{n-1} < x_n = b$.\n",
    "   Assume that $n \\geq 2$."
   ]
  },
  {
   "cell_type": "code",
   "execution_count": null,
   "id": "838f8729",
   "metadata": {
    "deletable": false,
    "nbgrader": {
     "cell_type": "code",
     "checksum": "62146999617c75ba9aaf214acab38b07",
     "grade": false,
     "grade_id": "cell-22ab8c91a0cef270",
     "locked": false,
     "schema_version": 3,
     "solution": true,
     "task": false
    }
   },
   "outputs": [],
   "source": [
    "function composite_trapezoidal(u, a, b, n)\n",
    "    # YOUR CODE HERE\n",
    "end"
   ]
  },
  {
   "cell_type": "code",
   "execution_count": null,
   "id": "91df2522",
   "metadata": {
    "deletable": false,
    "editable": false,
    "nbgrader": {
     "cell_type": "code",
     "checksum": "49999d9b64e820ff5f613dbec0f25167",
     "grade": true,
     "grade_id": "cell-23fbd5cc569c45d1",
     "locked": true,
     "points": 0,
     "schema_version": 3,
     "solution": false,
     "task": false
    }
   },
   "outputs": [],
   "source": [
    "@mark composite_trapezoidal(x -> 5, 1, 2, 100) ≈ 5\n",
    "@mark composite_trapezoidal(x -> x, 1, 2, 100) ≈ 3/2\n",
    "@mark composite_trapezoidal(x -> x, 1, 2, 2) ≈ 3/2\n",
    "@mark composite_trapezoidal(x -> x^2, 0, 1, 2) ≈ 1/2\n",
    "@mark composite_trapezoidal(x -> x^2, 1, 2, 2) ≈ 5/2"
   ]
  },
  {
   "cell_type": "markdown",
   "id": "3b1cabc7",
   "metadata": {},
   "source": [
    "2. Write a function `composite_simpson(u, a, b, n)` to approximate the integral $I$ using the composite Simpson's rule\n",
    "   based on evaluating `u` at an **odd** number `n` of equidistant points such that $a = x_1 < x_2 < \\dots < x_{n-1} < x_n = b$.\n",
    "   Assume that `n` is odd and $n \\geq 3$.\n",
    "\n",
    "   > **Note**: `n` here is the number of points where the function `u` is evaluated,\n",
    "   > and not the number of intervals where Simpson's rule is locally applied."
   ]
  },
  {
   "cell_type": "code",
   "execution_count": null,
   "id": "5552b272",
   "metadata": {
    "deletable": false,
    "nbgrader": {
     "cell_type": "code",
     "checksum": "0613be7b5dfcfff6738356038319776d",
     "grade": false,
     "grade_id": "cell-2a2ecfcd1b57be9e",
     "locked": false,
     "schema_version": 3,
     "solution": true,
     "task": false
    }
   },
   "outputs": [],
   "source": [
    "function composite_simpson(u, a, b, n)\n",
    "    @assert n % 2 == 1 \"`n` must be odd\"\n",
    "    # YOUR CODE HERE\n",
    "end"
   ]
  },
  {
   "cell_type": "code",
   "execution_count": null,
   "id": "95fc446d",
   "metadata": {
    "deletable": false,
    "editable": false,
    "nbgrader": {
     "cell_type": "code",
     "checksum": "6494107530ba689b9221e949b1594c2f",
     "grade": true,
     "grade_id": "cell-055fee01abf94618",
     "locked": true,
     "points": 0,
     "schema_version": 3,
     "solution": false,
     "task": false
    }
   },
   "outputs": [],
   "source": [
    "@mark composite_simpson(x -> 1  , 1, 2, 101) ≈ 1\n",
    "@mark composite_simpson(x -> x  , 1, 2, 101) ≈ 3/2\n",
    "@mark composite_simpson(x -> x^2, 1, 2, 101) ≈ 7/3\n",
    "@mark composite_simpson(x -> x^3, 1, 2, 101) ≈ 15/4\n",
    "@mark composite_simpson(x -> x  , 0, 1, 3) ≈ 1/2\n",
    "@mark composite_simpson(x -> x^2, 0, 1, 3) ≈ 1/3\n",
    "@mark composite_simpson(x -> x^3, 0, 1, 3) ≈ 1/4"
   ]
  },
  {
   "cell_type": "markdown",
   "id": "9ec3a2d0",
   "metadata": {
    "deletable": false,
    "editable": false,
    "nbgrader": {
     "cell_type": "markdown",
     "checksum": "7c52487dd3f486b5a739f6c97dae77ff",
     "grade": false,
     "grade_id": "cell-2c415728e0c980d5",
     "locked": true,
     "schema_version": 3,
     "solution": false,
     "task": false
    }
   },
   "source": [
    "### <font color='orange'>[Exercise 2]</font> Implementing a composite integrator"
   ]
  },
  {
   "cell_type": "markdown",
   "id": "4403ba9f",
   "metadata": {
    "deletable": false,
    "editable": false,
    "nbgrader": {
     "cell_type": "markdown",
     "checksum": "c16c9fb5f658a1b11ac5607b556ad31e",
     "grade": false,
     "grade_id": "cell-7408e9108eb33b36",
     "locked": true,
     "schema_version": 3,
     "solution": false,
     "task": false
    }
   },
   "source": [
    "Milne's integration rule reads\n",
    "$$\n",
    "    \\int_{-1}^{1} u(x) \\, dx \\approx \\frac{2}{3} \\left( 2 u\\left(-\\frac{1}{2}\\right) - u(0) + 2 u\\left(\\frac{1}{2}\\right) \\right)\n",
    "$$\n",
    "\n",
    "1. Write a function `composite_milne(u, a, b, N)`,\n",
    "   which returns an approximation of the integral\n",
    "   $$\n",
    "       \\int_{a}^{b} u(x) \\, dx\n",
    "   $$\n",
    "   obtained by partitioning the integration interval $[a, b]$ into $N$ equally large cells,\n",
    "   and applying Milne's rule within each cell."
   ]
  },
  {
   "cell_type": "code",
   "execution_count": null,
   "id": "04ac35fd",
   "metadata": {
    "deletable": false,
    "nbgrader": {
     "cell_type": "code",
     "checksum": "48982f486b236ba6a1fa6d47de55903d",
     "grade": false,
     "grade_id": "cell-43c2da48c1477196",
     "locked": false,
     "schema_version": 3,
     "solution": true,
     "task": false
    }
   },
   "outputs": [],
   "source": [
    "function composite_milne(u, a, b, N)\n",
    "    # YOUR CODE HERE\n",
    "end"
   ]
  },
  {
   "cell_type": "code",
   "execution_count": null,
   "id": "25fe72d2",
   "metadata": {
    "deletable": false,
    "editable": false,
    "nbgrader": {
     "cell_type": "code",
     "checksum": "1284390c7a3e77b26245bf850401a735",
     "grade": true,
     "grade_id": "cell-a314a4b61e8261ee",
     "locked": true,
     "points": 2,
     "schema_version": 3,
     "solution": false,
     "task": false
    }
   },
   "outputs": [],
   "source": [
    "@mark (abs∘composite_milne)(x -> x, -1, 1, 10) < 1e-13\n",
    "@mark composite_milne(x -> x, 1, 2, 10) ≈ 3/2\n",
    "@mark composite_milne(x -> x^2, -1, 1, 1) ≈ 2/3\n",
    "@mark composite_milne(x -> x^4, -1, 1, 1) ≈ 2/12"
   ]
  },
  {
   "cell_type": "markdown",
   "id": "e21bb55a",
   "metadata": {
    "deletable": false,
    "editable": false,
    "nbgrader": {
     "cell_type": "markdown",
     "checksum": "28c660e8578a617375d82f7554b9035b",
     "grade": false,
     "grade_id": "cell-0e067f9a85be26e7",
     "locked": true,
     "schema_version": 3,
     "solution": false,
     "task": false
    }
   },
   "source": [
    "2. Take $u(x) = \\cos(x)$, $a = -1$ and $b = 1$.\n",
    "   Plot using `scatter` the evolution of the error,\n",
    "   in absolute value, for the values of $N$ given,\n",
    "   using a logarithmic scale for both axes."
   ]
  },
  {
   "cell_type": "code",
   "execution_count": null,
   "id": "125645a3",
   "metadata": {
    "deletable": false,
    "nbgrader": {
     "cell_type": "code",
     "checksum": "11b3c4f46946c1e596d60eb208d62a97",
     "grade": true,
     "grade_id": "cell-5548465f6106bca4",
     "locked": false,
     "points": 2,
     "schema_version": 3,
     "solution": true,
     "task": false
    }
   },
   "outputs": [],
   "source": [
    "u = x -> cos(x)\n",
    "a, b = -1 , 1\n",
    "\n",
    "# Number of intervals\n",
    "Ns = (round∘^).(10, LinRange(0, 3, 20))\n",
    "\n",
    "# Exact value of the integral\n",
    "I_exact = 2sin(1)\n",
    "\n",
    "# YOUR CODE HERE\n",
    "\n",
    "# Set log scale for both axes\n",
    "plot!(xscale=:log10, yscale=:log10)"
   ]
  },
  {
   "cell_type": "markdown",
   "id": "768e9f9c",
   "metadata": {
    "deletable": false,
    "editable": false,
    "nbgrader": {
     "cell_type": "markdown",
     "checksum": "c441ce72a27f776d2e01f33fa18eea36",
     "grade": false,
     "grade_id": "cell-01b6fe96b7536998",
     "locked": true,
     "schema_version": 3,
     "solution": false,
     "task": false
    }
   },
   "source": [
    "3. Estimate the order of convergence with respect to $N$, i.e. find $\\gamma$ such that\n",
    "   $$\n",
    "       \\lvert \\widehat{I}_{N} - I \\rvert \\propto \\beta N^{-\\gamma},\n",
    "   $$\n",
    "   where $I$ denotes the exact value of the integral and $\\widehat{I}_{N}$ denotes its approbetamation.\n",
    "   In order to find $\\beta$ and $\\gamma$, use the function `Polynomials.fit` to find a linear approximation of the form\n",
    "   $$\n",
    "       \\log \\lvert \\widehat{I}_{N} - I \\rvert \\approx \\log (\\beta) - \\gamma \\log(N).\n",
    "   $$\n",
    "   If your calculation is correct, the function `N -> β*N^(-γ)`\n",
    "   should give a good approximation of the integration error."
   ]
  },
  {
   "cell_type": "code",
   "execution_count": null,
   "id": "0096e82d",
   "metadata": {
    "deletable": false,
    "nbgrader": {
     "cell_type": "code",
     "checksum": "081073ec8231add3a4e3f95907aad1dc",
     "grade": false,
     "grade_id": "cell-976b43ea8ab74c42",
     "locked": false,
     "schema_version": 3,
     "solution": true,
     "task": false
    }
   },
   "outputs": [],
   "source": [
    "# Calculate β and γ\n",
    "# YOUR CODE HERE\n",
    "plot!(N -> β*N^(-γ), label=L\"%$β \\times N^{%$γ}\")"
   ]
  },
  {
   "cell_type": "code",
   "execution_count": null,
   "id": "8c9bb482",
   "metadata": {
    "deletable": false,
    "editable": false,
    "nbgrader": {
     "cell_type": "code",
     "checksum": "83aec608fe79da266010b31db9ca0231",
     "grade": true,
     "grade_id": "cell-1ecc10e556e00c30",
     "locked": true,
     "points": 2,
     "schema_version": 3,
     "solution": false,
     "task": false
    }
   },
   "outputs": [],
   "source": [
    "@mark round(β, sigdigits=1) ≤ .1\n",
    "@mark round(β, sigdigits=1) ≥ 1e-3\n",
    "@mark round(γ, sigdigits=1) == 4"
   ]
  },
  {
   "cell_type": "markdown",
   "id": "5bc7e238",
   "metadata": {
    "deletable": false,
    "editable": false,
    "lines_to_next_cell": 0,
    "nbgrader": {
     "cell_type": "markdown",
     "checksum": "1baa4790262bd296d41f74a023c5c89c",
     "grade": false,
     "grade_id": "duplicate_id",
     "locked": true,
     "schema_version": 3,
     "solution": false,
     "task": false
    }
   },
   "source": [
    "### <font color='orange'>[Exercise 3]</font> Composite Gauss-Legendre integration\n",
    "\n",
    "1. Write a function `legendre(n)` that returns the Legendre polynomial of degree $n$,\n",
    "   in the form of a `Polynomial` structure from the `Polynomials` library.\n",
    "   To do this, you can use the `Polynomials` library and Rodrigues' formula:\n",
    "   $$\n",
    "   L_n(x) = \\frac{1}{2^n n!} \\frac{\\mathrm{d}^n}{\\mathrm{d} x^n} \\left(x^2 - 1\\right)^n.\n",
    "   $$\n",
    "\n",
    "    <details>\n",
    "        <summary>\n",
    "            <em><font color='gray'>Hint (click to show)</font></em>\n",
    "        </summary>\n",
    "\n",
    "    - The function `factorial(n)` can be used to calculate the factorial of `n`.\n",
    "\n",
    "    - The function `Polynomials.Polynomial` allows you to create a polynomial from its coefficients:\n",
    "      ```julia\n",
    "      p = Polynomial([1, 2, 3])  # p(x) = 1 + 2x + 3x²\n",
    "      ```\n",
    "    - The function `Polynomials.derivative` allows you to compute the derivatives of a polynomial:\n",
    "      ```julia\n",
    "      dp = derivative(p)  # dp(x) = 2 + 6x\n",
    "      ddp = derivative(p, 2)  # ddp(x) = 6\n",
    "      ```\n",
    "    </details>"
   ]
  },
  {
   "cell_type": "code",
   "execution_count": null,
   "id": "cc02f24b",
   "metadata": {
    "deletable": false,
    "nbgrader": {
     "cell_type": "code",
     "checksum": "24e3a71b166c90a2a4350146ec02c6e7",
     "grade": true,
     "grade_id": "cell-f185b67b8c210741",
     "locked": false,
     "points": 0,
     "schema_version": 3,
     "solution": true,
     "task": false
    }
   },
   "outputs": [],
   "source": [
    "function legendre(n)\n",
    "    # YOUR CODE HERE\n",
    "end;"
   ]
  },
  {
   "cell_type": "markdown",
   "id": "64cf3356",
   "metadata": {},
   "source": [
    "2. Write a function `get_nodes_and_weights(n)` that computes,\n",
    "   without using any libraries other than those imported at the beginning of the notebook,\n",
    "   the nodes $(x_i)_{i \\in \\{1, \\dots, n\\}}$ and weights $(w_i)_{i \\in \\{1, \\dots, n\\}}$ of the Gauss-Legendre quadrature with $n$ nodes.\n",
    "   Recall that the nodes and weights should be such that the approximation\n",
    "   $$\n",
    "   \\int_{-1}^{1} f(x) \\, \\mathrm d x\n",
    "   \\approx \\sum_{i=1}^{n} w_i f(x_i)\n",
    "   $$\n",
    "   is exact for any polynomial $f$ of degree up to $2n-1$.\n",
    "   <details>\n",
    "       <summary>\n",
    "           <em><font color='gray'>Hint (click to show)</font></em>\n",
    "       </summary>\n",
    "\n",
    "   - Recall that the integration nodes are given by the roots of the Legendre polynomial of degree `n`.\n",
    "     These roots can be computed using the `roots` function from the `Polynomials.jl` library.\n",
    "\n",
    "   - To construct the Lagrange polynomials to compute the weights,\n",
    "     it may be useful to use the `fromroots` and `integrate` functions from the `Polynomials.jl` library.\n",
    "\n",
    "     ```julia\n",
    "         p = fromroots([1., 2.])  # Constructs (x - 1)(x - 2) = x² - 3x + 2\n",
    "         q = integrate(p)  # q = x^3/3 - 3x^2/2 + 2x\n",
    "     ```\n",
    "   </details>"
   ]
  },
  {
   "cell_type": "code",
   "execution_count": null,
   "id": "ad64611b",
   "metadata": {
    "deletable": false,
    "nbgrader": {
     "cell_type": "code",
     "checksum": "d7c151b11ff7e5ad9b78aa8318262677",
     "grade": false,
     "grade_id": "cell-b62fb5fa66cbd77e",
     "locked": false,
     "schema_version": 3,
     "solution": true,
     "task": false
    }
   },
   "outputs": [],
   "source": [
    "function get_nodes_and_weights(n)\n",
    "    # YOUR CODE HERE\n",
    "    return nodes, weights\n",
    "end;"
   ]
  },
  {
   "cell_type": "code",
   "execution_count": null,
   "id": "ab4ceefa",
   "metadata": {
    "deletable": false,
    "editable": false,
    "nbgrader": {
     "cell_type": "code",
     "checksum": "04e6047ee67f2f066a18b694fe8cde1d",
     "grade": true,
     "grade_id": "cell-34216ccc29eceadb",
     "locked": true,
     "points": 0,
     "schema_version": 3,
     "solution": false,
     "task": false
    }
   },
   "outputs": [],
   "source": [
    "@mark get_nodes_and_weights(5) |> length == 2\n",
    "@mark get_nodes_and_weights(5)[1] |> length == 5\n",
    "@mark get_nodes_and_weights(5)[2] |> length == 5\n",
    "@mark get_nodes_and_weights(1)[1] ≈ [0.]\n",
    "@mark get_nodes_and_weights(1)[2] ≈ [2.0]\n",
    "@mark get_nodes_and_weights(3)[1] .|> legendre(3) |> abs∘sum < 1e-10\n",
    "@mark get_nodes_and_weights(5)[1] .|> legendre(5) |> abs∘sum < 1e-10\n",
    "@mark get_nodes_and_weights(5)[2] |> sum ≈ 2"
   ]
  },
  {
   "cell_type": "markdown",
   "id": "1a222854",
   "metadata": {},
   "source": [
    "3. Write a function `composite_gauss_legendre(u, a, b, n, N)` that returns an approximation of the integral\n",
    "    $$\n",
    "    \\int_{a}^{b} u(x) \\, \\mathrm{d} x\n",
    "    $$\n",
    "    obtained by partitioning the integration interval $[a, b]$ into $N$ subintervals of equal length,\n",
    "    and applying the Gauss-Legendre quadrature with $n$ nodes in each subinterval."
   ]
  },
  {
   "cell_type": "code",
   "execution_count": null,
   "id": "8d333ed6",
   "metadata": {
    "deletable": false,
    "nbgrader": {
     "cell_type": "code",
     "checksum": "65cc15a3035506a5e20f733b107bf8e5",
     "grade": false,
     "grade_id": "cell-e1ec8934b0cd9c80",
     "locked": false,
     "schema_version": 3,
     "solution": true,
     "task": false
    }
   },
   "outputs": [],
   "source": [
    "function composite_gauss_legendre(u, a, b, n, N)\n",
    "    # YOUR CODE HERE\n",
    "end;"
   ]
  },
  {
   "cell_type": "code",
   "execution_count": null,
   "id": "606cf76f",
   "metadata": {
    "deletable": false,
    "editable": false,
    "nbgrader": {
     "cell_type": "code",
     "checksum": "9955968e6fad706adcd2d4c1b3fc6c99",
     "grade": true,
     "grade_id": "cell-a74bd85a82d3ff87",
     "locked": true,
     "points": 0,
     "schema_version": 3,
     "solution": false,
     "task": false
    }
   },
   "outputs": [],
   "source": [
    "_short(f, n, N) = composite_gauss_legendre(f, 0, 1, n, N)\n",
    "for d in 1:9\n",
    "    @assert _short(x -> x^d, 5, 1) ≈ 1/(d+1)\n",
    "    @assert _short(x -> x^d, 5, 2) ≈ 1/(d+1)\n",
    "    @assert _short(x -> x^d, 5, 3) ≈ 1/(d+1)\n",
    "end\n",
    "@mark !(_short(x -> x^10, 2, 1) ≈ 1/11)\n",
    "@mark !(_short(x -> x^10, 2, 2) ≈ 1/11)\n",
    "@mark _short(x -> x^10, 5, 200) ≈ 1/11\n",
    "@mark _short(x -> exp(x), 5, 200) ≈ ℯ - 1"
   ]
  },
  {
   "cell_type": "markdown",
   "id": "fe0db08b",
   "metadata": {},
   "source": [
    "4. Consider the special case where $u(x) = \\cos(x)$, $a = -1$ and $b = 1$,\n",
    "    and define the integration error,\n",
    "    viewed as a function of $N$ where $n$ is a fixed parameter,\n",
    "    by the formula\n",
    "    $$\n",
    "    E_{n}(N) = \\lvert \\widehat I_{n, N} - I_{\\rm exact} \\rvert.\n",
    "    $$\n",
    "    In this equation,\n",
    "    $I_{\\rm exact}$ is the exact value of the integral\n",
    "    while $\\widehat I_{n, N}$ is its approximation using the composite Gauss-Legendre rule.\n",
    "    The task is to\n",
    "\n",
    "    - Estimate, for each value of $n \\in \\{1, 2, 3\\}$,\n",
    "      the order of convergence of the composite Gauss-Legendre quadrature with respect to $N$,\n",
    "      that is, to find $\\beta = \\beta(n)$ such that\n",
    "      $$\n",
    "      E_n(N) \\propto C N^{-\\beta}.\n",
    "      $$\n",
    "\n",
    "    - Illustrate on the same graph,\n",
    "      using the `Plots.scatter` function,\n",
    "      the functions $E_1, E_2, E_3$,\n",
    "      for values of $N$ ranging from 1 to 40.\n",
    "      Use logarithmic scales for both axes,\n",
    "      and include the convergence order `β` found in the legend,\n",
    "      by passing the argument `label=\"n=$n, β=$β\"` to the `scatter` function."
   ]
  },
  {
   "cell_type": "code",
   "execution_count": null,
   "id": "bf1442e5",
   "metadata": {
    "deletable": false,
    "nbgrader": {
     "cell_type": "code",
     "checksum": "bba2d33743bab2eb64666f52c6df0f04",
     "grade": true,
     "grade_id": "cell-c461e77ce5661391",
     "locked": false,
     "points": 0,
     "schema_version": 3,
     "solution": true,
     "task": false
    }
   },
   "outputs": [],
   "source": [
    "# Function to integrate\n",
    "u = x -> cos(x)\n",
    "\n",
    "# Integration interval\n",
    "a, b = -1, 1\n",
    "\n",
    "# Exact value of the integral\n",
    "I_exact = 2sin(1)\n",
    "\n",
    "# YOUR CODE HERE"
   ]
  },
  {
   "cell_type": "markdown",
   "id": "396fd7b7",
   "metadata": {
    "deletable": false,
    "editable": false,
    "lines_to_next_cell": 2,
    "nbgrader": {
     "cell_type": "markdown",
     "checksum": "87a8eac716e9c330a6fd7477d7588209",
     "grade": false,
     "grade_id": "gauss_laguerre",
     "locked": true,
     "schema_version": 3,
     "solution": false,
     "task": false
    }
   },
   "source": [
    "### <font color='orange'>[Exercise 4]</font> Gauss Laguerre integration"
   ]
  },
  {
   "cell_type": "markdown",
   "id": "9a5a4839",
   "metadata": {
    "deletable": false,
    "editable": false,
    "nbgrader": {
     "cell_type": "markdown",
     "checksum": "1540e70b3b59aa86dd865cee5d48041e",
     "grade": false,
     "grade_id": "cell-0c94b3c8ae1f8b0f",
     "locked": true,
     "schema_version": 3,
     "solution": false,
     "task": false
    }
   },
   "source": [
    "Our goal in this exercise is to write a program in order to calculate integrals of the form\n",
    "$$\n",
    "I[f] := \\int_0^{\\infty} f(x) \\mathrm e^{-x} \\, \\mathrm d x\n",
    "$$\n",
    "To this end, we will use Laguerre polynomials,\n",
    "which are orthogonal polynomials for the following inner product:\n",
    "$$\n",
    " \\langle f, g \\rangle := \\int_0^{\\infty} f(x) g(x) \\mathrm e^{-x} \\, \\mathrm d x\n",
    "$$\n",
    "These polynomials can be constructed by using the Gram-Schmidt algorithm.\n",
    "1. Using that Laguerre polynomials satisfy the recurrence relation\n",
    "   $$\n",
    "       L_{k + 1}(x) = \\frac{(2k + 1 - x)L_k(x) - k L_{k - 1}(x)}{k + 1}, \\qquad L_0(x) = 1, \\qquad L_1(x) = 1-x,\n",
    "   $$\n",
    "   we first write a function `laguerre(n)` which returns the Laguerre polynomial of degree $n$."
   ]
  },
  {
   "cell_type": "code",
   "execution_count": null,
   "id": "406559e4",
   "metadata": {},
   "outputs": [],
   "source": [
    "function laguerre(n)\n",
    "    if n == 0\n",
    "        return Polynomial([1])\n",
    "    elseif n == 1\n",
    "        return Polynomial([1, -1])\n",
    "    else\n",
    "        k = n-1\n",
    "        x = Polynomial([0, 1])\n",
    "        return ((2k + 1 - x) * laguerre(k) - k*laguerre(k-1))/(k+1)\n",
    "    end\n",
    "end"
   ]
  },
  {
   "cell_type": "markdown",
   "id": "eb120eb1",
   "metadata": {
    "deletable": false,
    "editable": false,
    "nbgrader": {
     "cell_type": "markdown",
     "checksum": "8f50fe1671faa36fd3e6b5a240693fa2",
     "grade": false,
     "grade_id": "cell-5f8a18b310ec6ec0",
     "locked": true,
     "schema_version": 3,
     "solution": false,
     "task": false
    }
   },
   "source": [
    "2. Write a function `get_nodes_and_weights(n)` which returns the nodes and weights of the Gauss-Laguerre quadrature with $n$ nodes.\n",
    "   <details>\n",
    "       <summary>\n",
    "           <em><font color='gray'>Hint (click to display)</font></em>\n",
    "       </summary>\n",
    "\n",
    "   - Recall that the nodes of the quadrature are the roots of the Laguerre polynomial of degree $n$.\n",
    "     To find these, use the `roots` function from the `Polynomials` package.\n",
    "\n",
    "     ```julia\n",
    "         p = Polynomial([1, 0, -1])\n",
    "         r = roots(p)  # r = [-1.0, 1.0]\n",
    "     ```\n",
    "\n",
    "   - Once you have found the nodes of the quadrature,\n",
    "     the weights can be obtained from the relation\n",
    "     $$\n",
    "     \\int_0^{\\infty} q(x) \\, \\mathrm e^{-x} \\, \\mathrm d x\n",
    "     = \\sum_{i=1}^n w_i q(x_i),\n",
    "     $$\n",
    "     which should hold true for any polynomial $q$ of degree at most $2n - 1$.\n",
    "     Taking $q = \\ell_i$ to be the Lagrange polynomial associated with node $i$ immediately gives that\n",
    "     $$\n",
    "     w_i = \\int_0^{\\infty} \\ell_i(x) \\, \\mathrm e^{-x} \\, \\mathrm d x,\n",
    "     \\qquad \\ell_i = \\prod_{\\substack{j=1 \\\\ j \\neq i}}^n \\frac{x - x_j}{x_i - x_j}.\n",
    "     $$\n",
    "\n",
    "   - In order to construct Lagrange polynomials $\\ell_i$,\n",
    "     you may find it useful to use the `fromroots` function from the `Polynomials` package.\n",
    "\n",
    "     ```julia\n",
    "         r = [-1.0, 1.0]\n",
    "         p = fromroots(r)  # p = Polynomial(-1.0 + 1.0*x^2)\n",
    "     ```\n",
    "\n",
    "     Recall also that, for a vector `x`,\n",
    "     the expression `x[1:end .!= 5]` returns the vector obtained by removing the fifth element from `x`.\n",
    "\n",
    "   - To calculate the integral of Lagrange polynomials against the exponential weight,\n",
    "     recall that\n",
    "     $$\n",
    "     \\int_0^{\\infty} x^n \\mathrm e^{-x} \\, \\mathrm dx = n!\n",
    "     $$"
   ]
  },
  {
   "cell_type": "code",
   "execution_count": null,
   "id": "2fe069e4",
   "metadata": {
    "deletable": false,
    "nbgrader": {
     "cell_type": "code",
     "checksum": "4da3b529e1bc82b71836f5d7f7107759",
     "grade": false,
     "grade_id": "cell-d236591d98aa1643",
     "locked": false,
     "schema_version": 3,
     "solution": true,
     "task": false
    }
   },
   "outputs": [],
   "source": [
    "function get_nodes_and_weights(n)\n",
    "    # YOUR CODE HERE\n",
    "end"
   ]
  },
  {
   "cell_type": "code",
   "execution_count": null,
   "id": "e13bcacf",
   "metadata": {
    "deletable": false,
    "editable": false,
    "nbgrader": {
     "cell_type": "code",
     "checksum": "b20546d02996802b1069b1350922a9ce",
     "grade": true,
     "grade_id": "cell-025cfd3eeaaa68b3",
     "locked": true,
     "points": 2,
     "schema_version": 3,
     "solution": false,
     "task": false
    }
   },
   "outputs": [],
   "source": [
    "@mark get_nodes_and_weights(5) |> length == 2\n",
    "@mark get_nodes_and_weights(5)[1] |> length == 5\n",
    "@mark get_nodes_and_weights(5)[2] |> length == 5\n",
    "@mark get_nodes_and_weights(1)[1] ≈ [1.0]\n",
    "@mark get_nodes_and_weights(1)[2] ≈ [1.0]\n",
    "@mark get_nodes_and_weights(3)[1] .|> laguerre(3) |> abs∘sum < 1e-10\n",
    "@mark get_nodes_and_weights(5)[1] .|> laguerre(5) |> abs∘sum < 1e-10\n",
    "@mark get_nodes_and_weights(5)[2] |> sum ≈ 1"
   ]
  },
  {
   "cell_type": "markdown",
   "id": "6733728c",
   "metadata": {
    "deletable": false,
    "editable": false,
    "nbgrader": {
     "cell_type": "markdown",
     "checksum": "d4684bd627c8cfc1ea07e252aa81caa8",
     "grade": false,
     "grade_id": "cell-b179cd82ea1938b4",
     "locked": true,
     "schema_version": 3,
     "solution": false,
     "task": false
    }
   },
   "source": [
    "3. Write a function `integrate_laguerre(f, n)`, which returns an approximation of $I[f]$ obtained by Gauss-Laguerre integration with $n$ nodes."
   ]
  },
  {
   "cell_type": "code",
   "execution_count": null,
   "id": "4689eee8",
   "metadata": {
    "deletable": false,
    "nbgrader": {
     "cell_type": "code",
     "checksum": "186cdd2879fe00580caa4bd965f729b4",
     "grade": false,
     "grade_id": "cell-ceb45bbfb11ebbe0",
     "locked": false,
     "schema_version": 3,
     "solution": true,
     "task": false
    }
   },
   "outputs": [],
   "source": [
    "function integrate_laguerre(f, n)\n",
    "    # YOUR CODE HERE\n",
    "end"
   ]
  },
  {
   "cell_type": "code",
   "execution_count": null,
   "id": "b0715e2f",
   "metadata": {
    "deletable": false,
    "editable": false,
    "nbgrader": {
     "cell_type": "code",
     "checksum": "35f7c8220c9d02d93e08fe87358378b4",
     "grade": true,
     "grade_id": "cell-d5d9da82bf6cd802",
     "locked": true,
     "points": 2,
     "schema_version": 3,
     "solution": false,
     "task": false
    }
   },
   "outputs": [],
   "source": [
    "@mark integrate_laguerre(x -> x, 5) ≈ 1\n",
    "@mark integrate_laguerre(x -> x^2, 5) ≈ 2\n",
    "@mark integrate_laguerre(x -> x^3, 5) ≈ 6\n",
    "@mark integrate_laguerre(x -> exp(-x), 15) ≈ 1/2\n",
    "@mark integrate_laguerre(x -> exp(-2x), 15) ≈ 1/3"
   ]
  },
  {
   "cell_type": "markdown",
   "id": "494bc8f5",
   "metadata": {
    "deletable": false,
    "editable": false,
    "nbgrader": {
     "cell_type": "markdown",
     "checksum": "86ade4210b7bcc63eee242138d62ca6e",
     "grade": false,
     "grade_id": "cell-fdac51dcfa785395",
     "locked": true,
     "schema_version": 3,
     "solution": false,
     "task": false
    }
   },
   "source": [
    "4. Setting $n = 5$,\n",
    "   we calculate numerically that the degree of exactness equals 9."
   ]
  },
  {
   "cell_type": "code",
   "execution_count": null,
   "id": "66bea41e",
   "metadata": {},
   "outputs": [],
   "source": [
    "n = 5\n",
    "for i in 1:9\n",
    "    correct = integrate_laguerre(x -> x^i, n) ≈ factorial(i)\n",
    "    println(\"f = x^$i, Rule exact? \", correct)\n",
    "    @assert correct\n",
    "end"
   ]
  },
  {
   "cell_type": "markdown",
   "id": "790d0c08",
   "metadata": {
    "deletable": false,
    "editable": false,
    "nbgrader": {
     "cell_type": "markdown",
     "checksum": "055d9636466c92522b778718fa8ee423",
     "grade": false,
     "grade_id": "cell-39ba7434ecdedd6c",
     "locked": true,
     "schema_version": 3,
     "solution": false,
     "task": false
    }
   },
   "source": [
    "5. Set $f(x) = \\sin(x)$, and plot the integration error as a function of $n$,\n",
    "   using appropriate scales for the `x` and `y` axes."
   ]
  },
  {
   "cell_type": "code",
   "execution_count": null,
   "id": "83b2d7cd",
   "metadata": {
    "deletable": false,
    "nbgrader": {
     "cell_type": "code",
     "checksum": "b608d7fcfacffd424f1f09c0efb31bba",
     "grade": true,
     "grade_id": "cell-79f344a45c317fbd",
     "locked": false,
     "points": 2,
     "schema_version": 3,
     "solution": true,
     "task": false
    }
   },
   "outputs": [],
   "source": [
    "# YOUR CODE HERE"
   ]
  },
  {
   "cell_type": "markdown",
   "id": "918e984b",
   "metadata": {
    "deletable": false,
    "editable": false,
    "nbgrader": {
     "cell_type": "markdown",
     "checksum": "19cc511736d0667421b64b8ec7f0eabc",
     "grade": false,
     "grade_id": "cell-0beb5bbefc393ffc",
     "locked": true,
     "schema_version": 3,
     "solution": false,
     "task": false
    }
   },
   "source": [
    "### <font color='orange'>[Exercise 5]</font> Probabilistic integration\n",
    "\n",
    "Let $B_{d}$ denote the $d$-dimensional unit ball for the Euclidean norm:\n",
    "$$\n",
    "B_{d} = \\Bigl\\{ \\mathbf{x} \\in \\mathbb{R}^d : \\|\\mathbf{x}\\| \\leq 1 \\Bigr\\}.\n",
    "$$\n",
    "The volume of $B_{d}$ is defined as the integral of the characteristic function over $B_d$:\n",
    "$$\n",
    "{\\rm vol}(B_d) = \\underbrace{\\int_{\\mathbb{R}} \\dots \\int_{\\mathbb{R}}}_{\\text{$d$ times}} \\chi(\\mathbf{x}) \\, dx_1 \\dots dx_d,\n",
    "\\qquad\n",
    "\\chi(\\mathbf{x}) :=\n",
    "\\begin{cases}\n",
    "1 & \\text{if } \\mathbf{x} \\in B_d \\\\\n",
    "0 & \\text{otherwise.}\n",
    "\\end{cases}\n",
    "$$\n",
    "Complete the following tasks:\n",
    "- Write a function `hyperball_volume(dim, n)`\n",
    "that calculates the volume of the unit ball in dimension `dim`\n",
    "using a Monte Carlo approach with `n` samples drawn from an appropriate distribution.\n",
    "Your function should return an estimation of the volume\n",
    "together with the standard deviation of the estimator\n",
    "(which you should estimate from the samples)."
   ]
  },
  {
   "cell_type": "code",
   "execution_count": null,
   "id": "172c4fe3",
   "metadata": {
    "deletable": false,
    "nbgrader": {
     "cell_type": "code",
     "checksum": "199d8aeac94be09323cd0697fca9eef8",
     "grade": true,
     "grade_id": "cell-ec780856b6e6db94",
     "locked": false,
     "points": 0,
     "schema_version": 3,
     "solution": true,
     "task": false
    }
   },
   "outputs": [],
   "source": [
    "function hyperball_volume(dim, n)\n",
    "    # YOUR CODE HERE\n",
    "    return vol, σ\n",
    "end"
   ]
  },
  {
   "cell_type": "markdown",
   "id": "2dc5f064",
   "metadata": {},
   "source": [
    "Using the function hyperball_volume,\n",
    "plot the volumes for $d$ going from 1 to 15, together with a 99% confidence interval. See the example solution in Figure 1 with $n = 10^7$.\n",
    "You are allowed to use your knowledge of the fact that ${\\rm vol}(B_2) = \\pi$ and ${\\rm vol}(B_3) = \\frac{4\\pi}{3}$,\n",
    "but do not use the general formula for the volume of $B_d$."
   ]
  },
  {
   "cell_type": "code",
   "execution_count": null,
   "id": "86899790",
   "metadata": {
    "deletable": false,
    "nbgrader": {
     "cell_type": "code",
     "checksum": "2727957772052dd82c5b46f06d8d7246",
     "grade": true,
     "grade_id": "cell-291e0be8766f1f55",
     "locked": false,
     "points": 0,
     "schema_version": 3,
     "solution": true,
     "task": false
    }
   },
   "outputs": [],
   "source": [
    "n = 10^7\n",
    "\n",
    "# YOUR CODE HERE"
   ]
  }
 ],
 "metadata": {
  "jupytext": {
   "encoding": "# -*- coding: utf-8 -*-"
  },
  "kernelspec": {
   "display_name": "Julia 1.10.5",
   "language": "julia",
   "name": "julia-1.10"
  }
 },
 "nbformat": 4,
 "nbformat_minor": 5
}
