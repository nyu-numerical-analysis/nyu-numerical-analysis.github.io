{
 "cells": [
  {
   "cell_type": "markdown",
   "id": "94218420",
   "metadata": {},
   "source": [
    "# NYU Paris - Numerical Analysis"
   ]
  },
  {
   "cell_type": "markdown",
   "id": "f688896f",
   "metadata": {},
   "source": [
    "Before you turn in this notebook, make sure everything runs as expected. First, **restart the kernel** and then **run all cells**. Make sure you fill in any place that says `YOUR CODE HERE` or \"YOUR ANSWER HERE\", as well as your name and group number below:"
   ]
  },
  {
   "cell_type": "code",
   "execution_count": null,
   "id": "2e4cd13d",
   "metadata": {},
   "outputs": [],
   "source": [
    "NAME = \"\"\n",
    "GROUP = \"\""
   ]
  },
  {
   "cell_type": "markdown",
   "id": "f2a6b7f3",
   "metadata": {},
   "source": [
    "## Notebook 3: Approximation"
   ]
  },
  {
   "cell_type": "code",
   "execution_count": null,
   "id": "aa3a9eda",
   "metadata": {
    "deletable": false,
    "editable": false,
    "nbgrader": {
     "cell_type": "code",
     "checksum": "048caa0bd084885be14e08ce3e57bd0d",
     "grade": false,
     "grade_id": "cell-4d638a879ba6f86e",
     "locked": true,
     "schema_version": 3,
     "solution": false,
     "task": false
    }
   },
   "outputs": [],
   "source": [
    "using LaTeXStrings\n",
    "using LinearAlgebra\n",
    "using Plots\n",
    "using Polynomials"
   ]
  },
  {
   "cell_type": "markdown",
   "id": "f262b805",
   "metadata": {
    "deletable": false,
    "editable": false,
    "nbgrader": {
     "cell_type": "markdown",
     "checksum": "9b923c4fa907b2751bce68cb28d419e9",
     "grade": false,
     "grade_id": "cell-b493a5b381036ad7",
     "locked": true,
     "schema_version": 3,
     "solution": false,
     "task": false
    }
   },
   "source": [
    "### <font color='orange'>[Exercise 1]</font> Least squares approximation"
   ]
  },
  {
   "cell_type": "markdown",
   "id": "92c9f115",
   "metadata": {
    "deletable": false,
    "editable": false,
    "nbgrader": {
     "cell_type": "markdown",
     "checksum": "4266575d91324fa0aa8c3ac815bc40e5",
     "grade": false,
     "grade_id": "cell-9024d5e738948ab8",
     "locked": true,
     "schema_version": 3,
     "solution": false,
     "task": false
    }
   },
   "source": [
    "The objective of this exercise is to approximate some given data `x`, `y` using a\n",
    "polynomial of a given degree,\n",
    "potentially much lower than the number of data points.\n",
    "\n",
    "1. Without using any library,\n",
    "   write a function `polyfit(x, y, d)` which,\n",
    "   given data points\n",
    "   $\n",
    "       (x_1, y_1), \\dotsc, (x_N, y_N)\n",
    "   $\n",
    "   and an integer $0 \\leq d \\leq N-1$,\n",
    "   calculates the unique polynomial $p \\in \\mathbb R[x]$ of degree at most $d$ minimizing the total error\n",
    "\n",
    "   $$\n",
    "       E := \\frac{1}{2} \\sum_{n=0}^{N} \\bigl\\lvert p(x_n) - y_n \\bigr\\rvert^2.\n",
    "   $$\n",
    "   Your function should return a vector containing the $d+1$ coefficients of $p$,\n",
    "   starting from the constant term.\n",
    "   <details>\n",
    "       <summary>\n",
    "           <em><font color='gray'>Hint (click to display)</font></em>\n",
    "       </summary>\n",
    "\n",
    "   Within the function, you can proceed as follows.\n",
    "   First, create the following matrix and vector:\n",
    "   $$\n",
    "       \\mathbf{A} =\n",
    "       \\begin{pmatrix}\n",
    "           1 & x_0 & \\dots & x_0^d \\\\\n",
    "           \\vdots & \\vdots & & \\vdots \\\\\n",
    "           1 & x_{N} & \\dots & x_N^d\n",
    "       \\end{pmatrix},\n",
    "       \\qquad\n",
    "       \\mathbf{b} =\n",
    "       \\begin{pmatrix}\n",
    "           y_0 \\\\\n",
    "           \\vdots \\\\\n",
    "           y_N\n",
    "       \\end{pmatrix}.\n",
    "   $$\n",
    "   Note that the error $E$ rewrites as follows:\n",
    "   $$\n",
    "   E(\\boldsymbol \\alpha) = \\frac{1}{2} \\bigl\\lVert \\mathsf A \\boldsymbol \\alpha - \\boldsymbol b \\bigr\\rVert^2,\n",
    "   $$\n",
    "   where $\\boldsymbol \\alpha$ is a vector containing the coefficients\n",
    "   of the polynomial, in order of increasing degree, and $\\lVert \\cdot \\rVert$\n",
    "   is the Euclidean norm.\n",
    "   In other words, the function $E$ is a quadratic function of the\n",
    "   vector of coefficients of the polynomial.\n",
    "   Writing $\\nabla E(\\boldsymbol \\alpha) = 0$ leads to the so-called **normal equations**:\n",
    "   $$\n",
    "       \\mathsf{A}^\\top \\mathsf{A} \\boldsymbol{\\alpha} = \\mathsf{A}^\\top \\mathbf{b}.\n",
    "   $$\n",
    "   This is a linear system with a square invertible matrix on the left-hand side,\n",
    "   which can be solved using the backslash operator `\\`;\n",
    "   in fact you can write just `A\\b` instead of `(A'A)\\(A'b)`,\n",
    "   because the operator `\\` performs a least squares approximation by default.\n",
    "   </details>"
   ]
  },
  {
   "cell_type": "code",
   "execution_count": null,
   "id": "71e511c8",
   "metadata": {
    "deletable": false,
    "nbgrader": {
     "cell_type": "code",
     "checksum": "5ffde8a3ef3b26bc28112a5aa1e20d88",
     "grade": false,
     "grade_id": "cell-16c5d2765a6be02d",
     "locked": false,
     "schema_version": 3,
     "solution": true,
     "task": false
    }
   },
   "outputs": [],
   "source": [
    "# YOUR CODE HERE"
   ]
  },
  {
   "cell_type": "code",
   "execution_count": null,
   "id": "dd5dfe23",
   "metadata": {
    "deletable": false,
    "editable": false,
    "nbgrader": {
     "cell_type": "code",
     "checksum": "32ee4aad20a3280a0f77327142ae64c5",
     "grade": true,
     "grade_id": "cell-ba35e3fde06b7198",
     "locked": true,
     "points": 1,
     "schema_version": 3,
     "solution": false,
     "task": false
    }
   },
   "outputs": [],
   "source": [
    "n = 10 ; x = 1:n ; y = randn(n)\n",
    "@assert polyfit([0.], [0.], 0) ≈ [0.]\n",
    "@assert polyfit(1:5, 1:5, 1) ≈ [0., 1.]\n",
    "@assert polyfit(x, y, 0) ≈ [sum(y)/n]\n",
    "@assert polyfit(x, y, 0) ≈ [sum(y)/n]\n",
    "@assert polyfit(x, y, 2) ≈ fit(x, y, 2).coeffs"
   ]
  },
  {
   "cell_type": "markdown",
   "id": "b48fa71b",
   "metadata": {
    "deletable": false,
    "editable": false,
    "nbgrader": {
     "cell_type": "markdown",
     "checksum": "039d5f66a970d9a4a0672b6709122390",
     "grade": false,
     "grade_id": "cell-abfabcd8fa09fad4",
     "locked": true,
     "schema_version": 3,
     "solution": false,
     "task": false
    }
   },
   "source": [
    "2. Write also a function `polyval(α, X)`\n",
    "   to evaluate the polynomial\n",
    "   $$\n",
    "       p(x) = \\alpha_0 + \\alpha_1 x + \\dotsc + \\alpha_d x^d\n",
    "   $$\n",
    "   at all the points in `X`.\n",
    "   The function should return the result in a vector."
   ]
  },
  {
   "cell_type": "code",
   "execution_count": null,
   "id": "334e2f00",
   "metadata": {
    "deletable": false,
    "nbgrader": {
     "cell_type": "code",
     "checksum": "90712fb923d30f28223f1095e9f9aa42",
     "grade": false,
     "grade_id": "cell-ad0df3d23dd2927a",
     "locked": false,
     "schema_version": 3,
     "solution": true,
     "task": false
    }
   },
   "outputs": [],
   "source": [
    "# YOUR CODE HERE"
   ]
  },
  {
   "cell_type": "code",
   "execution_count": null,
   "id": "ead35cea",
   "metadata": {
    "deletable": false,
    "editable": false,
    "nbgrader": {
     "cell_type": "code",
     "checksum": "f38145232515cea4054767b53eb37206",
     "grade": true,
     "grade_id": "cell-e4b2a8fabeacbd21",
     "locked": true,
     "points": 1,
     "schema_version": 3,
     "solution": false,
     "task": false
    }
   },
   "outputs": [],
   "source": [
    "n = 10 ; α = randn(n)\n",
    "@assert polyval([0.], [1., 2., 3.]) == [0., 0., 0.]\n",
    "@assert polyval(α, [0., 1.]) ≈ [α[1], sum(α)]"
   ]
  },
  {
   "cell_type": "markdown",
   "id": "936b3dba",
   "metadata": {
    "deletable": false,
    "editable": false,
    "nbgrader": {
     "cell_type": "markdown",
     "checksum": "d56707e0d099058c529d41d7375032c0",
     "grade": false,
     "grade_id": "cell-107ce28d10b5c285",
     "locked": true,
     "schema_version": 3,
     "solution": false,
     "task": false
    }
   },
   "source": [
    "Use the data given below,\n",
    "of the altitude of a marble in free fall as a function of time on a remote planet, to test your code.\n",
    "The experiment was performed on a different planet. Can you find which one? See [Gravitational acceleration](https://en.wikipedia.org/wiki/Gravitational_acceleration)."
   ]
  },
  {
   "cell_type": "code",
   "execution_count": null,
   "id": "19636690",
   "metadata": {},
   "outputs": [],
   "source": [
    "# Time since dropping the marble\n",
    "x = [0., 1., 2., 3., 4., 5.]\n",
    "\n",
    "# Altitude of the marble\n",
    "y = [100., 98.26, 93.56, 81.79, 71.25, 53.22]\n",
    "\n",
    "# Fit using polyfit\n",
    "α = polyfit(x, y, 2)\n",
    "\n",
    "# Evalutate at X\n",
    "X = LinRange(0, 5, 200)\n",
    "Y = polyval(α, X)\n",
    "\n",
    "plot(X, Y, label=\"My approximation\")\n",
    "scatter!(x, y, label=\"Data\")"
   ]
  },
  {
   "cell_type": "markdown",
   "id": "a79ced20",
   "metadata": {
    "deletable": false,
    "editable": false,
    "nbgrader": {
     "cell_type": "markdown",
     "checksum": "e06099c8029d784192657c06794baa24",
     "grade": false,
     "grade_id": "cell-32309e8ba988d9c6",
     "locked": true,
     "schema_version": 3,
     "solution": false,
     "task": false
    }
   },
   "source": [
    "   <details>\n",
    "       <summary>\n",
    "           <em><font color='gray'>Least squares approximation using `Polynomials.fit` (click to display)</font></em>\n",
    "       </summary>\n",
    "\n",
    "   We learnt in the previous notebook that `Polynomials.fit` could be employed for\n",
    "   polynomial interpolation. This function can also be used for fitting\n",
    "   data by minimizing the sum of squared residuals,\n",
    "   which can be achieved as follows:\n",
    "   </details>"
   ]
  },
  {
   "cell_type": "code",
   "execution_count": null,
   "id": "650b85bb",
   "metadata": {
    "deletable": false,
    "editable": false,
    "nbgrader": {
     "cell_type": "code",
     "checksum": "e0cc27e2e533e19c2a8c803ab068763c",
     "grade": false,
     "grade_id": "cell-aa104b090b54806d",
     "locked": true,
     "schema_version": 3,
     "solution": false,
     "task": false
    }
   },
   "outputs": [],
   "source": [
    "# This returns structure of type `Polynomial`, with associated degree 2\n",
    "p = fit(x, y, 2)\n",
    "@show p\n",
    "\n",
    "# The coefficients can be obtained as follows\n",
    "@show p.coeffs\n",
    "\n",
    "# The structure `p` behaves like a function\n",
    "@show p(0)\n",
    "\n",
    "X = LinRange(0, 5, 200)\n",
    "plot(X, p.(X), label=\"Polynomials.jl approximation\")"
   ]
  },
  {
   "cell_type": "markdown",
   "id": "e54d2b70",
   "metadata": {
    "deletable": false,
    "editable": false,
    "nbgrader": {
     "cell_type": "markdown",
     "checksum": "edd95a3a1b6ee471bae7a7088fffd8c3",
     "grade": false,
     "grade_id": "least_squares",
     "locked": true,
     "schema_version": 3,
     "solution": false,
     "task": false
    }
   },
   "source": [
    "### <font color='orange'>[Exercise 2]</font> Least squares approximation for data analysis\n",
    "\n",
    "The dataset loaded through the following Julia commands contains data on the vapor pressure of mercury as a function of the temperature."
   ]
  },
  {
   "cell_type": "code",
   "execution_count": null,
   "id": "8ff1bd2d",
   "metadata": {},
   "outputs": [],
   "source": [
    "import RDatasets\n",
    "data = RDatasets.dataset(\"datasets\", \"pressure\")"
   ]
  },
  {
   "cell_type": "markdown",
   "id": "99036f56",
   "metadata": {},
   "source": [
    "Using `Polynomials.jl`,\n",
    "find a low-dimensional mathematical model of the form\n",
    "\\begin{equation}\n",
    "    p(T) = \\exp \\bigl( \\alpha_0 + \\alpha_1 T + \\alpha_2 T^2 + \\alpha_3 T^3 \\bigr)\n",
    "\\end{equation}\n",
    "for the pressure as a function of the temperature.\n",
    "Plot the approximation together with the data."
   ]
  },
  {
   "cell_type": "code",
   "execution_count": null,
   "id": "e054ec22",
   "metadata": {},
   "outputs": [],
   "source": []
  }
 ],
 "metadata": {
  "jupytext": {
   "encoding": "# -*- coding: utf-8 -*-"
  },
  "kernelspec": {
   "display_name": "Julia 1.10.5",
   "language": "julia",
   "name": "julia-1.10"
  },
  "language_info": {
   "file_extension": ".jl",
   "mimetype": "application/julia",
   "name": "julia",
   "version": "1.10.5"
  }
 },
 "nbformat": 4,
 "nbformat_minor": 5
}
