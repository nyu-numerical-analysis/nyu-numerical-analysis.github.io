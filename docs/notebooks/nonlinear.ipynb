{
 "cells": [
  {
   "cell_type": "markdown",
   "id": "453c5c87",
   "metadata": {},
   "source": [
    "# Cours ENPC - Pratique du calcul scientifique"
   ]
  },
  {
   "cell_type": "markdown",
   "id": "0884519e",
   "metadata": {},
   "source": [
    "Before you turn in this assignment, make sure everything runs as expected. First, **restart the kernel** and then **run all cells**. Make sure you fill in any place that says `YOUR CODE HERE` or \"YOUR ANSWER HERE\", as well as your name and group number below:"
   ]
  },
  {
   "cell_type": "code",
   "execution_count": null,
   "id": "87862d4e",
   "metadata": {},
   "outputs": [],
   "source": [
    "NAME = \"\"\n",
    "GROUP = \"\""
   ]
  },
  {
   "cell_type": "markdown",
   "id": "a30eaeba",
   "metadata": {},
   "source": [
    "## Semaine 5 : résolution de systèmes non linéaires et introduction à la différentiation automatique"
   ]
  },
  {
   "cell_type": "code",
   "execution_count": null,
   "id": "d3623bef",
   "metadata": {},
   "outputs": [],
   "source": [
    "using LinearAlgebra, Plots, Polynomials"
   ]
  },
  {
   "cell_type": "markdown",
   "id": "fe9a8d71",
   "metadata": {},
   "source": [
    "### <font color='green'> Système non linéaire</font>"
   ]
  },
  {
   "cell_type": "markdown",
   "id": "a97e8668",
   "metadata": {},
   "source": [
    "### <font color='orange'>[Exercice 1]</font> Newton-Raphson en dimension 2\n",
    "\n",
    "On considère le système non linéaire suivant\n",
    "$$\n",
    "\\left \\{\n",
    "    \\begin{aligned}\n",
    "        &y = (x-1)^2 \\\\\n",
    "        &x^2 + y^2 = 4\n",
    "    \\end{aligned}\n",
    "\\right.\n",
    "$$\n",
    "\n",
    "1. Tracer des graphiques appropriés pour visualiser grossièrement la (les) zone(s) contenant une (des) solution(s)\n"
   ]
  },
  {
   "cell_type": "code",
   "execution_count": null,
   "id": "7e4fea9a",
   "metadata": {
    "deletable": false,
    "nbgrader": {
     "cell_type": "code",
     "checksum": "bc3e9fc37952d4f857aeffbced5d1517",
     "grade": true,
     "grade_id": "cell-87d5b9021583a6dc",
     "locked": false,
     "points": 1,
     "schema_version": 3,
     "solution": true,
     "task": false
    }
   },
   "outputs": [],
   "source": [
    "# YOUR CODE HERE\n",
    "throw(ErrorException(\"No code provided\"))"
   ]
  },
  {
   "cell_type": "markdown",
   "id": "df1da8b8",
   "metadata": {},
   "source": [
    "2. Implémenter un algorithme de Newton-Raphson pour calculer une approximation de cette (ces) solution(s) en prenant soin de retourner non seulement la solution mais également l'ensemble des itérations (pour éviter de se retrouver plus tard face au calcul d'un logarithme de 0, attention à ne pas inclure dans l'ensemble des itérations la dernière valeur censée être la meilleure approximation de la solution et qui doit être retournée indépendamment). L'algorithme devra être suffisamment générique pour traiter aussi bien des cas scalaires que vectoriels."
   ]
  },
  {
   "cell_type": "code",
   "execution_count": null,
   "id": "4dbe5dfb",
   "metadata": {
    "deletable": false,
    "nbgrader": {
     "cell_type": "code",
     "checksum": "64833096666887b54e6e208325c704d0",
     "grade": false,
     "grade_id": "cell-7b74d9c54142cb7a",
     "locked": false,
     "schema_version": 3,
     "solution": true,
     "task": false
    }
   },
   "outputs": [],
   "source": [
    "function newton_raphson(x, f, Jᶠ, maxiter = 100; ε = 1e-12)\n",
    "    # YOUR CODE HERE\n",
    "    throw(ErrorException(\"No code provided\"))\n",
    "    return \"Failed to converge!\"\n",
    "end"
   ]
  },
  {
   "cell_type": "code",
   "execution_count": null,
   "id": "1ddff688",
   "metadata": {
    "deletable": false,
    "editable": false,
    "nbgrader": {
     "cell_type": "code",
     "checksum": "f647e3ed8b320b7d000bebaf6e20a120",
     "grade": true,
     "grade_id": "cell-30f65edf1bc6541a",
     "locked": true,
     "points": 1,
     "schema_version": 3,
     "solution": false,
     "task": false
    }
   },
   "outputs": [],
   "source": [
    "x, lx = newton_raphson(1., x->x^2-4, x->2x, 100 ; ε = 1e-12)\n",
    "@assert  x ≈ 2.\n",
    "@assert  all(lx .≈ [2.5, 2.05, 2.000609756097561, 2.0000000929222947])\n",
    "\n",
    "x, lx = newton_raphson([1.,1.], x->[x[1]^2-4, x[2]^2-9], x->2Diagonal(x), 100 ; ε = 1e-12)\n",
    "@assert  all(x .≈ [2.0, 3.0])\n",
    "@assert  all(lx .≈ [[2.5, 5.0], [2.05, 3.4], [2.000609756097561, 3.023529411764706], [2.0000000929222947, 3.00009155413138], [2.000000000000002, 3.000000001396984]])"
   ]
  },
  {
   "cell_type": "markdown",
   "id": "f5dc9522",
   "metadata": {},
   "source": [
    "3. Tracer l'évolution de l'erreur en fonction de l'itération pour la (les) solution(s) en utilisant une échelle appropriée en y. On pourra estimer qu'une solution donnée est fournie par la valeur finale de l'algorithme."
   ]
  },
  {
   "cell_type": "code",
   "execution_count": null,
   "id": "0268336e",
   "metadata": {
    "deletable": false,
    "nbgrader": {
     "cell_type": "code",
     "checksum": "0ce29f3fe8b2acf8208a91e9fb509a1c",
     "grade": true,
     "grade_id": "cell-9c161b437224ce1f",
     "locked": false,
     "points": 1,
     "schema_version": 3,
     "solution": true,
     "task": false
    }
   },
   "outputs": [],
   "source": [
    "# YOUR CODE HERE\n",
    "throw(ErrorException(\"No code provided\"))"
   ]
  },
  {
   "cell_type": "markdown",
   "id": "b4e46669",
   "metadata": {},
   "source": [
    "4. Estimer l'ordre de convergence i.e. $q$ tel que $\\lim_{k\\to\\infty} \\frac{\\lVert \\mathbf{x}_{k+1}-\\mathbf{x}_*\\rVert}{\\lVert \\mathbf{x}_{k}-\\mathbf{x}_*\\rVert^q} ∈ \\mathbb{R}^*_+$ pour la (les) solution(s). On pourra pour cela utiliser le vecteur `logerr` des logarithmes des erreurs successives et construire le polynôme de degré 1 associant $\\log{\\lVert \\mathbf{x}_{k}-\\mathbf{x}_*\\rVert }$ à $\\log{\\lVert \\mathbf{x}_{k+1}-\\mathbf{x}_*\\rVert }$ en considérant les sous-vecteurs `logerr[1:end-1]` et `logerr[2:end]`."
   ]
  },
  {
   "cell_type": "code",
   "execution_count": null,
   "id": "ebea1eae",
   "metadata": {
    "deletable": false,
    "nbgrader": {
     "cell_type": "code",
     "checksum": "71fb314f94f94d8bb92534a65d22f235",
     "grade": true,
     "grade_id": "cell-aaa07e2866c41119",
     "locked": false,
     "points": 1,
     "schema_version": 3,
     "solution": true,
     "task": false
    }
   },
   "outputs": [],
   "source": [
    "# YOUR CODE HERE\n",
    "throw(ErrorException(\"No code provided\"))"
   ]
  },
  {
   "cell_type": "markdown",
   "id": "42d828bf",
   "metadata": {},
   "source": [
    "--------------------\n",
    "--------------------\n",
    "--------------------"
   ]
  },
  {
   "cell_type": "markdown",
   "id": "5e66d4cd",
   "metadata": {},
   "source": [
    "### <font color='green'> Introduction à la différentiation automatique</font>"
   ]
  },
  {
   "cell_type": "markdown",
   "id": "f9e89b43",
   "metadata": {},
   "source": [
    "### <font color='orange'>[Exercice 2]</font> Calcul de la racine carrée par la méthode babylonienne\n",
    "\n",
    "Soit un paramètre réel $a>0$ et la suite définie par\n",
    "<a id=\"baby\"></a>\n",
    "$$\n",
    "\\tag{1}\n",
    "x_0>0 \\qquad ; \\qquad ∀k∈\\mathbb{N},\\quad x_{k+1}=\\frac{1}{2}\\left(x_k+\\frac{a}{x_k}\\right)\n",
    "$$\n",
    "\n",
    "  > *Questions préliminaires (à faire sur brouillon mais non demandées dans le rendu)*\n",
    "  > \n",
    "  > i) En écrivant $x_{k+1}-\\sqrt{a}$ en fonction de $x_k-\\sqrt{a}$ puis $x_{k+1}-x_k$, montrer que $(x_k)$ converge quadratiquement vers $x_*=\\sqrt{a}$ quel que soit $x_0>0$.\n",
    "  > \n",
    "  >    <details>\n",
    "  >        <summary>\n",
    "  >            <em><font color='gray'>Aide (cliquer pour afficher)</font></em>\n",
    "  >        </summary>\n",
    "  > \n",
    "  >    - Noter déjà que si $x_0>0$ alors $x_k>0$ pour tout $k$.\n",
    "  >    - Montrer que $x_{k+1}-\\sqrt{a}=\\frac{(x_k-\\sqrt{a})^2}{2 x_k}$ et que $x_{k+1}-x_k=\\frac{a-x_k^2}{2 x_k}$.\n",
    "  >    - En déduire que $(x_k)_{k⩾1}$ est minorée par $\\sqrt{a}$ et qu'elle est décroissante (attention à ne considérer le raisonnement que pour $k⩾1$) donc qu'elle converge.\n",
    "  >    - Conclure sur la limite qui est nécessairement $\\sqrt{a}$ et sur la convergence quadratique.\n",
    "  >    </details>\n",
    "  > \n",
    "  > ii) Montrer que la formulation par récurrence <a href=\"#baby\">(1)</a> n'est autre que l'algorithme de Newton-Raphson appliqué à une fonction à identifier s'annulant en $x_*=\\sqrt{a}$.\n",
    "\n",
    "1. Construire une fonction `Babylonian` prenant comme arguments `a` ainsi qu'un entier `n` valant `10` par défaut et qui renvoie le vecteur $[x_0,x_1,\\ldots,x_n]$ en initialisant la suite à $x_0=\\frac{1+a}{2}$."
   ]
  },
  {
   "cell_type": "code",
   "execution_count": null,
   "id": "05eb72f1",
   "metadata": {
    "deletable": false,
    "nbgrader": {
     "cell_type": "code",
     "checksum": "94caf267e8718e85081956fb3334cd8c",
     "grade": false,
     "grade_id": "cell-51aeec58821a4395",
     "locked": false,
     "schema_version": 3,
     "solution": true,
     "task": false
    }
   },
   "outputs": [],
   "source": [
    "function Babylonian(a; n = 10)\n",
    "    # YOUR CODE HERE\n",
    "    throw(ErrorException(\"No code provided\"))\n",
    "end"
   ]
  },
  {
   "cell_type": "code",
   "execution_count": null,
   "id": "9e6b0aae",
   "metadata": {
    "deletable": false,
    "editable": false,
    "nbgrader": {
     "cell_type": "code",
     "checksum": "d8b9da34ee346fed9e6acff46e43290f",
     "grade": true,
     "grade_id": "cell-77f4b908283dc59e",
     "locked": true,
     "points": 1,
     "schema_version": 3,
     "solution": false,
     "task": false
    }
   },
   "outputs": [],
   "source": [
    "for a in (0.1, 2, 25, 100)\n",
    "    @assert Babylonian(a)[end] ≈ √a\n",
    "end"
   ]
  },
  {
   "cell_type": "markdown",
   "id": "97ecf3d5",
   "metadata": {},
   "source": [
    "2. Tracer l'erreur $|x_k-x_*|$ en fonction du rang $k$ pour $a=2$."
   ]
  },
  {
   "cell_type": "code",
   "execution_count": null,
   "id": "095a9ed7",
   "metadata": {
    "deletable": false,
    "nbgrader": {
     "cell_type": "code",
     "checksum": "3d8855aeac84217268622d98c1ada1d2",
     "grade": true,
     "grade_id": "cell-928ca89fac43223b",
     "locked": false,
     "points": 1,
     "schema_version": 3,
     "solution": true,
     "task": false
    }
   },
   "outputs": [],
   "source": [
    "# YOUR CODE HERE\n",
    "throw(ErrorException(\"No code provided\"))"
   ]
  },
  {
   "cell_type": "markdown",
   "id": "0c8c90c0",
   "metadata": {},
   "source": [
    "   L'idée de la suite de l'exercice est d'appliquer la fonction `Babylonian` définie plus haut à un argument `a` non pas de type `Float64` mais d'un nouveau type permettant d'estimer à la fois la valeur de $\\sqrt{a}$ mais également de la dérivée de $a\\mapsto\\sqrt{a}$ soit $\\frac{1}{2\\sqrt{a}}$. Pour cela, on introduit de nouveaux nombres qu'on appelle **nombres duaux**. Ceux-ci sont définis à l'instar des nombres complexes à partir de la définition d'un nombre particulier noté $\\varepsilon$ de sorte qu'un nombre dual s'écrit $x=a+b\\varepsilon$ avec $a$ et $b$ réels. En quelque sorte $\\varepsilon$ joue un rôle analogue au $i$ complexe à la différence que l'on pose ici $\\varepsilon^2=0$. L'objectif de tels nombres est d'être en mesure de stocker à la fois la valeur d'une fonction mais également sa dérivée en posant\n",
    "\n",
    "   <a id=\"fdual\"></a>\n",
    "   $$\n",
    "   \\tag{2}\n",
    "   f(a+b\\varepsilon)=f(a)+f'(a)b\\varepsilon\n",
    "   $$\n",
    "\n",
    "   ce qui entraîne que la dérivée en $a$ de $f$ peut être obtenue en récupérant la composante sur $\\varepsilon$ de $f(a+\\varepsilon)$ (i.e. en prenant $b=1$).\n",
    "\n",
    "   En pratique, il est donc nécessaire de redéfinir le comportement des fonctions usuelles en cohérence avec <a href=\"#fdual\">(2)</a>. Toutefois dans l'application actuelle, seules les opérations `+`, `-`, `*` et `/` seront nécessaires et donc devront être surchargées pour pouvoir prendre comme arguments des nombres duaux. En outre, il sera également nécessaire d'implémenter les fonctions `convert` pour convertir un réel en nombre dual et `promote_rule` pour exprimer le fait qu'en présence d'une opération impliquant deux nombres dont l'un est dual, les deux doivent d'abord être exprimés sous forme de nombres duaux avant de lancer l'opération. À noter que la surcharge des opérateurs et fonctions de base n'est possible que si ceux-ci sont explicitement importés à l'aide par exemple de `import Base: +, -, ...`. Il est également possible de définir la fonction `Base.show` de manière à ce que l'affichage d'un nombre dual ait explicitement la forme `a+bɛ`.\n",
    "\n",
    "   La surcharge des opérateurs s'exprime mathématiquement par\n",
    "   $$\n",
    "   \\begin{align*}\n",
    "   (a+b\\varepsilon)+(c+d\\varepsilon)&=(a+c)+(b+d)\\varepsilon\\\\\n",
    "   (a+b\\varepsilon)-(c+d\\varepsilon)&=(a-c)+(b-d)\\varepsilon\\\\\n",
    "   (a+b\\varepsilon)*(c+d\\varepsilon)&=ac+(bc+ad)\\varepsilon\\\\\n",
    "   (a+b\\varepsilon)/(c+d\\varepsilon)&=\\frac{a}{c}+\\frac{bc-ad}{c^2}\\varepsilon\n",
    "   \\end{align*}\n",
    "   $$\n",
    "\n",
    "   Alternativement à cette dernière opération, on peut aussi définir $\\mathrm{inv}(a+b\\varepsilon)=\\frac{1}{a}-\\frac{b}{a^2}\\varepsilon$ puis `u/v=u*inv(v)`.\n",
    "\n",
    "3. Étudier le `struct D` défini ci-dessous pour représenter un nombre dual ainsi que les lignes de code associées. Compléter les parties de code manquantes, à savoir les implémentations de `/` et `inv`.\n",
    "\n",
    "\n"
   ]
  },
  {
   "cell_type": "code",
   "execution_count": null,
   "id": "dbe4bc43",
   "metadata": {
    "deletable": false,
    "nbgrader": {
     "cell_type": "code",
     "checksum": "f8264631a3824d42f81b44f9f2ec040f",
     "grade": false,
     "grade_id": "cell-6a89a36f52efd269",
     "locked": false,
     "schema_version": 3,
     "solution": true,
     "task": false
    }
   },
   "outputs": [],
   "source": [
    "import Base: +, -, *, /, inv, isapprox, convert, promote_rule\n",
    "using LinearAlgebra\n",
    "\n",
    "struct D <: Number\n",
    "    f::Tuple{Float64, Float64}\n",
    "end\n",
    "D(a::Real, b::Real) = D((a, b))\n",
    "+(x::D, y::D) = D(x.f .+ y.f)\n",
    "-(x::D, y::D) = D(x.f .- y.f)\n",
    "*(x::D, y::D) = D(x.f[1]*y.f[1], x.f[2]*y.f[1] + x.f[1]*y.f[2])\n",
    "# YOUR CODE HERE\n",
    "throw(ErrorException(\"No code provided\"))\n",
    "-(x::D) = D(.-(x.f))\n",
    "isapprox(x::D, y::D; kwargs...) = all(isapprox.(x.f, y.f ; kwargs...))\n",
    "convert(::Type{D}, x::Real) = D((x,zero(x)))\n",
    "promote_rule(::Type{D}, ::Type{<:Real}) = D\n",
    "Base.show(io::IO,x::D) = print(io,x.f[1],x.f[2]<0 ? \" - \" : \" + \",abs(x.f[2]),\" ε\")\n",
    "\n",
    "# Construction d'un nombre dual\n",
    "x = D(0.1, -1.6)"
   ]
  },
  {
   "cell_type": "markdown",
   "id": "fd793b83",
   "metadata": {},
   "source": [
    "4. Définir une instance du nombre `ɛ` (\\varepsilon puis touche TAB pour afficher ε), en d'autres termes le nombre `0+1ɛ` et effectuer quelques opérations pour vérifier les implémentations (utiliser la macro `@show` pour afficher un nombre dual), par exemple\n",
    "\n",
    "   ```julia\n",
    "   @show (1+2ɛ)*(3+4ɛ)\n",
    "   @show 1/(1+ɛ)\n",
    "   @show (1+2ɛ)/(2-ɛ)\n",
    "   ```"
   ]
  },
  {
   "cell_type": "code",
   "execution_count": null,
   "id": "b7b95770",
   "metadata": {
    "deletable": false,
    "nbgrader": {
     "cell_type": "code",
     "checksum": "dfb7695feb525309ee61914cd192cdf0",
     "grade": true,
     "grade_id": "cell-ec62ba59865b5495",
     "locked": false,
     "points": 1,
     "schema_version": 3,
     "solution": true,
     "task": false
    }
   },
   "outputs": [],
   "source": [
    "# YOUR CODE HERE\n",
    "throw(ErrorException(\"No code provided\"))"
   ]
  },
  {
   "cell_type": "code",
   "execution_count": null,
   "id": "437e8442",
   "metadata": {
    "deletable": false,
    "editable": false,
    "nbgrader": {
     "cell_type": "code",
     "checksum": "23b0889c859b253c25d2f90c021f8b24",
     "grade": true,
     "grade_id": "cell-c9da9f0b525d17d9",
     "locked": true,
     "points": 1,
     "schema_version": 3,
     "solution": false,
     "task": false
    }
   },
   "outputs": [],
   "source": [
    "@assert (1+2ɛ)*(3+4ɛ) == 3+10ɛ \"erreur\"\n",
    "@assert 1/(1+ɛ) == 1-ɛ \"erreur\"\n",
    "@assert (1+2ɛ)/(2-ɛ) == 1/2+5ɛ/4 \"erreur\"\n"
   ]
  },
  {
   "cell_type": "markdown",
   "id": "62fa612d",
   "metadata": {},
   "source": [
    "5. Exploiter la structure de nombre dual pour estimer la dérivée de la fonction racine à partir de la méthode babylonienne (en exploitant directement la fonction `Babylonian` sans la réécrire)."
   ]
  },
  {
   "cell_type": "code",
   "execution_count": null,
   "id": "30c55526",
   "metadata": {
    "deletable": false,
    "nbgrader": {
     "cell_type": "code",
     "checksum": "42a190c1843ff19b0130c8f79c9ec7c9",
     "grade": false,
     "grade_id": "cell-b0b7e3c217eea6a2",
     "locked": false,
     "schema_version": 3,
     "solution": true,
     "task": false
    }
   },
   "outputs": [],
   "source": [
    "function derivative_sqrt(a; n = 10)\n",
    "    # YOUR CODE HERE\n",
    "    throw(ErrorException(\"No code provided\"))\n",
    "end"
   ]
  },
  {
   "cell_type": "code",
   "execution_count": null,
   "id": "c2cab299",
   "metadata": {
    "deletable": false,
    "editable": false,
    "nbgrader": {
     "cell_type": "code",
     "checksum": "72be1af6a295d778f669ad1d2109661c",
     "grade": true,
     "grade_id": "cell-f3a9a91b390a3270",
     "locked": true,
     "points": 1,
     "schema_version": 3,
     "solution": false,
     "task": false
    }
   },
   "outputs": [],
   "source": [
    "for a in (0.1, 2, 25, 100)\n",
    "    @assert derivative_sqrt(a) ≈ 1/2√a\n",
    "end"
   ]
  },
  {
   "cell_type": "markdown",
   "id": "d109dc7a",
   "metadata": {},
   "source": [
    "6. Superposer sur un graphe la dérivée de la racine obtenue par la méthode babylonienne sur nombre dual et l'expression analytique."
   ]
  },
  {
   "cell_type": "code",
   "execution_count": null,
   "id": "24c36846",
   "metadata": {
    "deletable": false,
    "nbgrader": {
     "cell_type": "code",
     "checksum": "0665231a7fcfd00d694cf7710dff0644",
     "grade": true,
     "grade_id": "cell-b10d808d11cb751d",
     "locked": false,
     "points": 1,
     "schema_version": 3,
     "solution": true,
     "task": false
    }
   },
   "outputs": [],
   "source": [
    "# YOUR CODE HERE\n",
    "throw(ErrorException(\"No code provided\"))"
   ]
  },
  {
   "cell_type": "markdown",
   "id": "d288090f",
   "metadata": {},
   "source": [
    "7. Proposer une méthode analogue pour calculer la racine $p^\\textrm{ème}$ d'un nombre $a$ i.e. $\\sqrt[p]{a}$. Vérifier que la dérivée de la racine $p^\\textrm{ème}$ peut également être obtenue par exploitation des nombres duaux sans ligne de code supplémentaire."
   ]
  },
  {
   "cell_type": "code",
   "execution_count": null,
   "id": "e8e90b23",
   "metadata": {
    "deletable": false,
    "nbgrader": {
     "cell_type": "code",
     "checksum": "ae49b2ccc7e3c462ce02b58aaf0160e4",
     "grade": false,
     "grade_id": "cell-fe8183299ca40337",
     "locked": false,
     "schema_version": 3,
     "solution": true,
     "task": false
    }
   },
   "outputs": [],
   "source": [
    "function nthrt(a, p=2; x=1, n=100)\n",
    "    # YOUR CODE HERE\n",
    "    throw(ErrorException(\"No code provided\"))\n",
    "end"
   ]
  },
  {
   "cell_type": "code",
   "execution_count": null,
   "id": "fc33ab1f",
   "metadata": {
    "deletable": false,
    "editable": false,
    "nbgrader": {
     "cell_type": "code",
     "checksum": "cb81c35f01ecec3ed67d5fb0c8478ac6",
     "grade": true,
     "grade_id": "cell-611b2e70df58e157",
     "locked": true,
     "points": 1,
     "schema_version": 3,
     "solution": false,
     "task": false
    }
   },
   "outputs": [],
   "source": [
    "for a in (0.1, 2, 25, 100), p in (2, 3, 5)\n",
    "    @assert nthrt(a+ε, p) ≈ a^(1/p) + a^(1/p-1)/p*ε  \"erreur pour (a,p)=($a,$p)\"\n",
    "end"
   ]
  },
  {
   "cell_type": "markdown",
   "id": "06b9ad64",
   "metadata": {},
   "source": [
    "--------------------\n",
    "--------------------\n",
    "--------------------"
   ]
  },
  {
   "cell_type": "markdown",
   "id": "b0e42447",
   "metadata": {},
   "source": [
    "### <font color='orange'>[Exercice 3]</font> Extension de la différentiation automatique au second ordre et à plusieurs variables : application à une méthode des moindres carrés non linéaire\n",
    "\n",
    "L'objectif de cet exercice est d'étendre le concept de différentiation automatique au cas d'une fonction scalaire de plusieurs variables au second ordre, autrement dit de permettre le calcul du gradient et de la hessienne en $a$ de la fonction deux fois différentiable $f: Ω⊂\\mathbb{R}^N → \\mathbb{R}$.\n",
    "\n",
    "En partant de son développement de Taylor à l'ordre 2\n",
    "\n",
    "<a id=\"fvecdual\"></a>\n",
    "$$\n",
    "\\tag{3}\n",
    "x₀, \\varepsilon \\in \\mathbb{R}^N,\\quad\n",
    "f(x₀+\\varepsilon)=f(x₀)+∇f(x₀)^T\\varepsilon+\\frac{1}{2}\\varepsilon^T∇²f(x₀)\\varepsilon+ℴ(\\varepsilon²)\n",
    "\\quad\\textrm{avec}\\quad\n",
    "f(x₀)∈\\mathbb{R},\\,∇f(x₀)∈\\mathbb{R}^N,\\,∇²f(x₀)∈\\mathbb{R}^{N×N}\n",
    "$$\n",
    "\n",
    "on a l'idée d'introduire une nouvelle classe de nombres <u>scalaires</u> formés par un triplet constitué d'un scalaire $a$, d'un vecteur $b$ et d'une matrice carrée symétrique $c$ et d'écrire\n",
    "\n",
    "<a id=\"vecdual\"></a>\n",
    "$$\n",
    "\\tag{4}\n",
    "x=a+b^T\\varepsilon+\\frac{1}{2}\\mathrm{Tr}(cη)\n",
    "$$\n",
    "\n",
    "où $\\varepsilon$ et $η$ sont ici respectivement un vecteur de $\\mathbb{R}^N$ et une matrice de $\\mathbb{R}^{N×N}$ telles que $\\varepsilon\\varepsilon^T=η$, $η\\varepsilon=0$ et $η²=0$. On peut ainsi faire l'économie de $η$ dans <a href=\"#vecdual\">(4)</a> et réécrire tout nombre $x$ sous la forme\n",
    "\n",
    "<a id=\"vecdual2\"></a>\n",
    "$$\n",
    "\\tag{5}\n",
    "x=a+b^T\\varepsilon+\\frac{1}{2}\\varepsilon^Tc\\varepsilon\n",
    "$$\n",
    "\n",
    "Une telle famille de nombres est représentée ci-dessous par un `struct DD{N} <: Number` (où `N` permet de paramétriser ce nouveau type par la dimension $N$ et `<: Number` indique que le type dérive du type abstrait `Number` donnant un sens aux opérations usuelles) contenant les données membres `val`, `grad` et `hess` désignant respectivement $a$, $b$ et $c$ dans la décomposition <a href=\"#vecdual2\">(5)</a>. A noter que 3 constructeurs sont définis pour ce type\n",
    "\n",
    "- `DD(val, grad, hess)` définit un nombre `DD` à partir de ses 3 données membres `val`, `grad` et `hess`. Il n'est pas utile de préciser `N` car la dimension est déduite de `length(grad)`.\n",
    "\n",
    "- `DD(val, grad)` définit un nombre `DD` à partir de `val` et `grad` et fixe `hess` à la matrice nulle de dimension cohérente avec celle de `grad`.\n",
    "\n",
    "- `DD{N}(val)` définit un nombre `DD` à partir de `val` uniquement. Il est alors nécessaire de préciser dans la construction la valeur de `N` qui ne peut se déduire de `val`. `grad` et `hess` sont alors initialisés à des valeurs nulles de dimension cohérente avec `N`.\n",
    "\n",
    "\n",
    "Il est naturel de surcharger les opérateurs de base de la façon suivante\n",
    "\n",
    "$$\n",
    "\\begin{align*}\n",
    "\\left(a+b^T\\varepsilon+\\frac{1}{2}\\varepsilon^Tc\\varepsilon\\right)+\\left(a'+b'^T\\varepsilon+\\frac{1}{2}\\varepsilon^Tc'\\varepsilon\\right)&=(a+a')+(b+b')^T\\varepsilon+\\frac{1}{2}\\varepsilon^T(c+c')\\varepsilon\\\\\n",
    "\\left(a+b^T\\varepsilon+\\frac{1}{2}\\varepsilon^Tc\\varepsilon\\right)-\\left(a'+b'^T\\varepsilon+\\frac{1}{2}\\varepsilon^Tc'\\varepsilon\\right)&=(a-a')+(b-b')^T\\varepsilon+\\frac{1}{2}\\varepsilon^T(c-c')\\varepsilon\\\\\n",
    "\\left(a+b^T\\varepsilon+\\frac{1}{2}\\varepsilon^Tc\\varepsilon\\right)*\\left(a'+b'^T\\varepsilon+\\frac{1}{2}\\varepsilon^Tc'\\varepsilon\\right)&=(aa')+(ab'+a'b)^T\\varepsilon+\\frac{1}{2}\\varepsilon^T(ac'+a'c+bb'^T+b'b^T)\\varepsilon\n",
    "\\end{align*}\n",
    "$$\n",
    "\n",
    "On choisit par ailleurs de construire l'opérateur de division à partir de la définition préalable de la function d'inversion `inv`. Compléter le code de la fonction `inv(x::DD{N}) where {N}`.\n",
    "\n",
    "\n",
    "\n",
    "1. Établir à la main l'expression des données membres `val` et `grad` et fixe `hess` de l'inverse d'un nombre de type `DD{N}` par identification en écrivant que la mutiplication d'un nombre par son inverse correspond à `val=1`, `grad=0` et `hess=0`. Compléter la surcharge des opérateurs `-` et `*` ainsi que le code de la fonction `inv(x::DD{N}) where {N}`.\n",
    "    \n",
    "   Remarque : la syntaxe `where {N}` rappelle simplement que `N` est un paramètre qui sera remplacé à la compilation par la valeur voulue."
   ]
  },
  {
   "cell_type": "code",
   "execution_count": null,
   "id": "995fb215",
   "metadata": {
    "deletable": false,
    "nbgrader": {
     "cell_type": "code",
     "checksum": "491c6c25e7af7c2578b4843ea7d1243d",
     "grade": false,
     "grade_id": "cell-78a0b02aad6fbf6e",
     "locked": false,
     "schema_version": 3,
     "solution": true,
     "task": false
    }
   },
   "outputs": [],
   "source": [
    "import Base: +, -, *, /, inv, conj, ==, convert, promote_rule\n",
    "\n",
    "struct DD{N} <: Number\n",
    "    val::Float64\n",
    "    grad::Vector{Float64}\n",
    "    hess::Symmetric{Float64, Matrix{Float64}}\n",
    "    DD(val::Real, grad, hess) = new{length(grad)}(val, grad, Symmetric(hess))\n",
    "    DD(val::Real, grad) = new{length(grad)}(val, grad, Symmetric(zeros(length(grad),length(grad))))\n",
    "    DD{N}(val::Real) where {N} = new{N}(val, zeros(N), Symmetric(zeros(N,N)))\n",
    "end\n",
    "val(x::DD{N}) where {N} = x.val\n",
    "grad(x::DD{N}) where {N} = x.grad\n",
    "hess(x::DD{N}) where {N} = x.hess\n",
    "conj(x::DD{N}) where {N} = DD(conj(x.val),conj(x.grad),conj(x.hess))\n",
    "+(x::DD{N}, y::DD{N}) where {N} = DD(x.val+y.val,x.grad+y.grad,x.hess+y.hess)\n",
    "# YOUR CODE HERE\n",
    "throw(ErrorException(\"No code provided\"))\n",
    "/(x::DD{N}, y::DD{N}) where {N} = x*inv(y)\n",
    "==(x::DD{N}, y::DD{N}) where {N} = x.val == y.val && x.grad == y.grad && x.hess == y.hess\n",
    "convert(::Type{DD{N}}, x::Real) where {N} = DD{N}(x)\n",
    "promote_rule(::Type{DD{N}}, ::Type{<:Real}) where {N} = DD{N}\n",
    "Base.show(io::IO,x::DD{N}) where {N} = print(io,x.val,\" + \",x.grad,\"^T𝛆\",\" + ½ 𝛆^T\",x.hess,\"𝛆\")"
   ]
  },
  {
   "cell_type": "markdown",
   "id": "a2cf40c4",
   "metadata": {},
   "source": [
    "En dimension $N=2$, on peut introduire les deux nombres\n",
    "\n",
    "   ```julia\n",
    "   εˣ = DD(0,[1,0])\n",
    "   εʸ = DD(0,[0,1])\n",
    "   ```\n",
    "\n",
    "Pour bien comprendre le fonctionnement de ces nombres, il peut être utile de vérifier à la main les calculs de `1+εˣ`, `1+εˣ+εʸ`, `(1+εˣ)*(2+3εʸ)` et `εˣ/(1+εˣ+εʸ)` contrôlés par les `@assert` ci-dessous. Par exemple\n",
    "\n",
    "$$\n",
    "ε^x ε^y=\\frac{1}{2} \\begin{pmatrix}ε^x \\\\ ε^y\\end{pmatrix}^T \\begin{pmatrix}0 & 1 \\\\ 1 & 0\\end{pmatrix}\\begin{pmatrix}ε^x \\\\ ε^y\\end{pmatrix}\n",
    "⟹\n",
    "\\left(0, \\begin{pmatrix}1 \\\\ 0\\end{pmatrix}, \\begin{pmatrix}0 & 0 \\\\ 0 & 0\\end{pmatrix}\\right)\n",
    "*\n",
    "\\left(0, \\begin{pmatrix}0 \\\\ 1\\end{pmatrix}, \\begin{pmatrix}0 & 0 \\\\ 0 & 0\\end{pmatrix}\\right)\n",
    "=\n",
    "\\left(0, \\begin{pmatrix}0 \\\\ 0\\end{pmatrix}, \\begin{pmatrix}0 & 1 \\\\ 1 & 0\\end{pmatrix}\\right)\n",
    "$$"
   ]
  },
  {
   "cell_type": "code",
   "execution_count": null,
   "id": "aea3d848",
   "metadata": {
    "deletable": false,
    "editable": false,
    "nbgrader": {
     "cell_type": "code",
     "checksum": "ab8bd70a3732f5b609ff500e10542b2a",
     "grade": true,
     "grade_id": "cell-5a988603b7fa060e",
     "locked": true,
     "points": 2,
     "schema_version": 3,
     "solution": false,
     "task": false
    }
   },
   "outputs": [],
   "source": [
    "εˣ = DD(0,[1,0])\n",
    "εʸ = DD(0,[0,1])\n",
    "@assert 1+εˣ == DD(1, [1, 0], zeros(2,2))\n",
    "@assert εˣ*εʸ == DD(0, [0, 0], [0  1; 1  0])\n",
    "@assert 1+2εˣ-3εʸ == DD(1, [2, -3], zeros(2,2))\n",
    "@assert (1+εˣ)*(2+3εʸ) == DD(2, [2, 3], [0  3; 3  0])\n",
    "@assert εˣ/(1+εˣ+εʸ) == DD(0, [1, 0], [-2 -1; -1  0])\n",
    ";"
   ]
  },
  {
   "cell_type": "markdown",
   "id": "84f22e70",
   "metadata": {},
   "source": [
    "2. Obtenir le gradient `gradf` et la hessienne `hessf` de $f(x,y)=\\frac{(x+2y)^2}{2}$ par différentiation automatique au point $(x_0,y_0)=(3,1)$. On pourra pour cela exploiter `f(x₀+εˣ, y₀+εʸ)`."
   ]
  },
  {
   "cell_type": "code",
   "execution_count": null,
   "id": "c81d1426",
   "metadata": {
    "deletable": false,
    "nbgrader": {
     "cell_type": "code",
     "checksum": "7cbdf3d3901046b3212da5e44bb0fc0e",
     "grade": false,
     "grade_id": "cell-2d088f46ef4d79ed",
     "locked": false,
     "schema_version": 3,
     "solution": true,
     "task": false
    }
   },
   "outputs": [],
   "source": [
    "# YOUR CODE HERE\n",
    "throw(ErrorException(\"No code provided\"))"
   ]
  },
  {
   "cell_type": "code",
   "execution_count": null,
   "id": "1a8d65e9",
   "metadata": {
    "deletable": false,
    "editable": false,
    "nbgrader": {
     "cell_type": "code",
     "checksum": "ecc16efaee3b30d1f8e107ff663de930",
     "grade": true,
     "grade_id": "cell-698e9647685c9b86",
     "locked": true,
     "points": 1,
     "schema_version": 3,
     "solution": false,
     "task": false
    }
   },
   "outputs": [],
   "source": [
    "@assert gradf == [5, 10]\n",
    "@assert hessf == [1 2; 2 4]"
   ]
  },
  {
   "cell_type": "markdown",
   "id": "605c3335",
   "metadata": {},
   "source": [
    "3. Ecrire une fonction `opdiff` qui prend en argument une fonction scalaire `f` dépendant de plusieurs variables ainsi qu'un vecteur `x` et qui retourne le triplet `f(x), ∇f(x), ∇²f(x)`. Attention on suppose que la signature de `f` dépend explicitement de plusieurs variables scalaires `f(x₁, x₂, ..., xₙ)` plutôt que d'une variable vectorielle étant entendu que l'application sur un vecteur peut être réalisé grâce à l'opérateur \"splat\" `f(x...)`.\n",
    "\n",
    "    <details>\n",
    "        <summary>\n",
    "            <em><font color='gray'>Aide (cliquer pour afficher)</font></em>\n",
    "        </summary>\n",
    "    \n",
    "    - Se convaincre à partir de la question précédente que le calcul demandé résulte de celui de `f(x₁+ɛ₁, x₂+ɛ₂, ..., xₙ+ɛₙ)` où les `ɛᵢ` sont les composantes de la partie `grad` d'un nombre de type `DD` défini par \n",
    "        ```julia\n",
    "        ε = [DD(0,(1:n .== i)) for i in 1:n]\n",
    "        ```\n",
    "\n",
    "    - Visualiser ce que donne `ε` quand `n` vaut 3 par exemple.\n",
    "    </details>\n"
   ]
  },
  {
   "cell_type": "code",
   "execution_count": null,
   "id": "99fe38b2",
   "metadata": {
    "deletable": false,
    "nbgrader": {
     "cell_type": "code",
     "checksum": "0f02f0f9c9817d7d42355b6467823db0",
     "grade": false,
     "grade_id": "cell-f2c854bbd527fdc9",
     "locked": false,
     "schema_version": 3,
     "solution": true,
     "task": false
    }
   },
   "outputs": [],
   "source": [
    "function opdiff(f, x)\n",
    "    # YOUR CODE HERE\n",
    "    throw(ErrorException(\"No code provided\"))\n",
    "end"
   ]
  },
  {
   "cell_type": "code",
   "execution_count": null,
   "id": "f0aefe30",
   "metadata": {
    "deletable": false,
    "editable": false,
    "nbgrader": {
     "cell_type": "code",
     "checksum": "2009326da19977594f55640f4b3c65c6",
     "grade": true,
     "grade_id": "cell-9b925d6c2e67b633",
     "locked": true,
     "points": 2,
     "schema_version": 3,
     "solution": false,
     "task": false
    }
   },
   "outputs": [],
   "source": [
    "@assert all(opdiff((x,y)->(x+2y)^2/2, [3,1]) == (12.5, [5, 10], [1 2; 2 4]))\n",
    "\n",
    "function test_diff(n)\n",
    "    a, b, c, X = rand(), rand(n), Symmetric(rand(n,n)), rand(n)\n",
    "    f(X...) = begin let a=a, b=b, c=c end ; V=collect(X) ; return a + b'*V + 1/2 * V'*c*V end\n",
    "    v, g, h = opdiff(f, X)\n",
    "    return all((v ≈ f(X...), g ≈ b + c*X, h ≈ c))\n",
    "end\n",
    "\n",
    "for n in (1, 10, 20)\n",
    "    @assert test_diff(n) \"erreur pour n=$n\"\n",
    "end"
   ]
  },
  {
   "cell_type": "markdown",
   "id": "a59ae048",
   "metadata": {},
   "source": [
    "4. On souhaite maintenant réaliser un programme permettant de minimiser une fonction $J$ arbitraire dépendant de plusieurs variables\n",
    "\n",
    "   $$\n",
    "   \\min_{(p_1,\\ldots,p_n)\\in\\mathbb{R}^n} J(p_1,\\ldots,p_n)\n",
    "   $$\n",
    "\n",
    "   On suppose que le problème revient à chercher un vecteur de paramètres annulant son gradient par la méthode de Newton-Raphson. Autrement dit à chaque étape il est nécessaire d'évaluer le gradient ainsi que la hessienne de $J$\n",
    "   \n",
    "   $$\n",
    "   p^{k+1}=p^{k}-∇²J(p^{k})^{-1}∇J(p^{k})\n",
    "   $$\n",
    "   \n",
    "   Écrire une fonction générique `minimizer` prenant comme entrées une fonction `J`, un vecteur de paramètres initiaux `p`, un nombre maximal d'itérations `maxiter` (par défaut `100`)  et un paramètre d'arrêt `ϵ` (par défaut `1.e-15`). On considérera un algorithme de Newton-Raphson dans lequel les opérateurs différentiels sont calculés par différentiation automatique et on prendra un critère d'arrêt $\\lVert ∇J(p^{k})\\rVert<ϵ$. Il pourra être judicieux à des fins de débogage d'introduire un argument supplémentaire booléen appelé `verbose` qui, s'il est égal à `true`, implique l'affichage de valeurs intermédiaires du code (les informations à afficher sont naturellement à coder dans `minimizer` dans une séquence de type `if verbose println(...) end`)."
   ]
  },
  {
   "cell_type": "code",
   "execution_count": null,
   "id": "b81d8ee9",
   "metadata": {
    "deletable": false,
    "nbgrader": {
     "cell_type": "code",
     "checksum": "cabf3db98834e73c77f727ce160438da",
     "grade": true,
     "grade_id": "cell-0730955b1e187162",
     "locked": false,
     "points": 2,
     "schema_version": 3,
     "solution": true,
     "task": false
    }
   },
   "outputs": [],
   "source": [
    "function minimizer(J::Function, p, maxiter = 100; ϵ = 1.e-15, verbose = true)\n",
    "    # YOUR CODE HERE\n",
    "    throw(ErrorException(\"No code provided\"))\n",
    "    return \"Failed to converge!\"\n",
    "end"
   ]
  },
  {
   "cell_type": "markdown",
   "id": "be9378cc",
   "metadata": {},
   "source": [
    "5. Application n°1.\n",
    "\n",
    "   On dispose de $n$ points $(x_i, y_i)$ d'une fonction inconnue $y = f(x)$.\n",
    "   \n",
    "   ```julia\n",
    "   x = [0.0; 0.1; 0.2; 0.3; 0.4; 0.5; 0.6; 0.7; 0.8; 0.9; 1.0]\n",
    "   y = [0.6761488864859304; 0.6345697680852508; 0.6396283580587062; 0.6132010027973919;\n",
    "      0.5906142598705267; 0.5718728461471725; 0.5524549902830562; 0.538938885654085;\n",
    "      0.5373495476994958; 0.514904589752926; 0.49243437874655027]\n",
    "   ```\n",
    "   \n",
    "   On souhaite approximer $f$ par une fonction de la forme\n",
    "\n",
    "   $$\n",
    "   \\widetilde f(x) = \\frac{a}{b + x}\n",
    "   $$\n",
    "   en minimisant\n",
    "   $$\n",
    "   \\sum_{i=1}^{n} |\\widetilde f(x_i) - y_i|^2\n",
    "   $$\n",
    "\n",
    "   Écrire un code formant la fonction à minimiser et appliquer `minimizer` pour obtenir la meilleure approximation $\\widetilde f$. Tracer sur le même graphe les points donnés et la fonction approximante."
   ]
  },
  {
   "cell_type": "code",
   "execution_count": null,
   "id": "4fd6ffc8",
   "metadata": {
    "deletable": false,
    "nbgrader": {
     "cell_type": "code",
     "checksum": "d86abc13aa5cbfebf34872a3b6839278",
     "grade": true,
     "grade_id": "cell-b2240ddd33e2b10b",
     "locked": false,
     "points": 1,
     "schema_version": 3,
     "solution": true,
     "task": false
    }
   },
   "outputs": [],
   "source": [
    "x = [0.0; 0.1; 0.2; 0.3; 0.4; 0.5; 0.6; 0.7; 0.8; 0.9; 1.0]\n",
    "y = [0.6761488864859304; 0.6345697680852508; 0.6396283580587062; 0.6132010027973919;\n",
    "     0.5906142598705267; 0.5718728461471725; 0.5524549902830562; 0.538938885654085;\n",
    "     0.5373495476994958; 0.514904589752926; 0.49243437874655027]\n",
    "# YOUR CODE HERE\n",
    "throw(ErrorException(\"No code provided\"))"
   ]
  },
  {
   "cell_type": "markdown",
   "id": "5d93bffe",
   "metadata": {},
   "source": [
    "6. Application n°2.\n",
    "\n",
    "   On se donne $n$ nouveaux points $(x_i, y_i)$ d'une fonction inconnue $y = f(x)$\n",
    "   \n",
    "    ```julia\n",
    "   x = [0.0; 0.1; 0.2; 0.3; 0.4; 0.5; 0.6; 0.7; 0.8; 0.9; 1.0]\n",
    "   y = [-0.9187980789440975; -0.6159791344678258; -0.25568734869121856;\n",
    "      -0.14269370171581808; 0.3094396057228459; 0.6318327173549161;\n",
    "      0.8370437988106428; 1.0970402798788812; 1.6057799131867696;\n",
    "      1.869090784869698; 2.075369730726694]\n",
    "   ```  \n",
    "   \n",
    "   et on souhaite approximer $f$ par une fonction affine\n",
    "\n",
    "   $$\n",
    "   \\widetilde f(x) = ax+b\n",
    "   $$\n",
    "\n",
    "   en minimisant la somme des distances euclidiennes entre les points et la droite définie par $\\widetilde f$. Etant donné que la distance entre un point $(x_i,y_i)$ et la ligne droite est donnée par\n",
    "\n",
    "   $$\n",
    "   \\frac{\\lvert y_i - a x_i - b \\rvert}{\\sqrt{1+a^2}}\n",
    "   $$\n",
    "\n",
    "   la fonction objectif à minimiser s'écrit\n",
    "\n",
    "   $$\n",
    "   J(a, b) := \\sum_{i=1}^{n} \\frac{ \\left( y_i - a x_i - b \\right)^2 }{1+a^2}\n",
    "   $$\n",
    "\n",
    "   Trouver les paramètres optimaux $a$ et $b$ à l'aide de `minimizer` et tracer la droite ainsi que les points."
   ]
  },
  {
   "cell_type": "code",
   "execution_count": null,
   "id": "9c580d22",
   "metadata": {
    "deletable": false,
    "nbgrader": {
     "cell_type": "code",
     "checksum": "a5560cbe50fbbc69187341b433cc1e03",
     "grade": true,
     "grade_id": "cell-d8303bd982f098ed",
     "locked": false,
     "points": 1,
     "schema_version": 3,
     "solution": true,
     "task": false
    }
   },
   "outputs": [],
   "source": [
    "x = [0.0; 0.1; 0.2; 0.3; 0.4; 0.5; 0.6; 0.7; 0.8; 0.9; 1.0]\n",
    "y = [-0.9187980789440975; -0.6159791344678258; -0.25568734869121856;\n",
    "     -0.14269370171581808; 0.3094396057228459; 0.6318327173549161;\n",
    "     0.8370437988106428; 1.0970402798788812; 1.6057799131867696;\n",
    "     1.869090784869698; 2.075369730726694]\n",
    "# YOUR CODE HERE\n",
    "throw(ErrorException(\"No code provided\"))"
   ]
  }
 ],
 "metadata": {
  "citation-manager": {
   "items": {}
  },
  "kernelspec": {
   "display_name": "Julia 1.10.3",
   "language": "julia",
   "name": "julia-1.10"
  },
  "language_info": {
   "file_extension": ".jl",
   "mimetype": "application/julia",
   "name": "julia",
   "version": "1.10.3"
  }
 },
 "nbformat": 4,
 "nbformat_minor": 5
}
