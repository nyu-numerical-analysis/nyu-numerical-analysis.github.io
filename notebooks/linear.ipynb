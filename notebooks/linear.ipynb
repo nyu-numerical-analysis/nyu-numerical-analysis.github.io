{
 "cells": [
  {
   "cell_type": "markdown",
   "id": "f99307b0",
   "metadata": {},
   "source": [
    "# Cours ENPC - Pratique du calcul scientifique"
   ]
  },
  {
   "cell_type": "markdown",
   "id": "bd2f5f6a",
   "metadata": {},
   "source": [
    "Before you turn in this assignment, make sure everything runs as expected. First, **restart the kernel** and then **run all cells**. Make sure you fill in any place that says `YOUR CODE HERE` or \"YOUR ANSWER HERE\", as well as your name and group number below:"
   ]
  },
  {
   "cell_type": "code",
   "execution_count": null,
   "id": "32a6d69b",
   "metadata": {},
   "outputs": [],
   "source": [
    "NAME = \"\"\n",
    "GROUP = \"\""
   ]
  },
  {
   "cell_type": "markdown",
   "id": "0110082c",
   "metadata": {
    "deletable": false,
    "editable": false,
    "nbgrader": {
     "cell_type": "markdown",
     "checksum": "9980b9d44af616cc93569ce897fe12e4",
     "grade": false,
     "grade_id": "cell-9546f1bdb893cdcd",
     "locked": true,
     "schema_version": 3,
     "solution": false,
     "task": false
    }
   },
   "source": [
    "## Week 3: Linear systems"
   ]
  },
  {
   "cell_type": "code",
   "execution_count": null,
   "id": "36771460",
   "metadata": {
    "deletable": false,
    "editable": false,
    "nbgrader": {
     "cell_type": "code",
     "checksum": "048caa0bd084885be14e08ce3e57bd0d",
     "grade": false,
     "grade_id": "cell-4d638a879ba6f86e",
     "locked": true,
     "schema_version": 3,
     "solution": false,
     "task": false
    }
   },
   "outputs": [],
   "source": [
    "using LaTeXStrings\n",
    "using LinearAlgebra\n",
    "using Plots\n",
    "using Polynomials"
   ]
  },
  {
   "cell_type": "markdown",
   "id": "36f3ffa6",
   "metadata": {
    "deletable": false,
    "editable": false,
    "jp-MarkdownHeadingCollapsed": true,
    "nbgrader": {
     "cell_type": "markdown",
     "checksum": "43fa9fbd27a27d143c1148516cf7c6f5",
     "grade": false,
     "grade_id": "duplicate_id",
     "locked": true,
     "schema_version": 3,
     "solution": false,
     "task": false
    }
   },
   "source": [
    "### <font color='green'>Conditioning</font>"
   ]
  },
  {
   "cell_type": "markdown",
   "id": "8528f108",
   "metadata": {
    "deletable": false,
    "editable": false,
    "nbgrader": {
     "cell_type": "markdown",
     "checksum": "813201c938932883b159244a82ea593b",
     "grade": false,
     "grade_id": "cell-f74928936311caa6",
     "locked": true,
     "schema_version": 3,
     "solution": false,
     "task": false
    }
   },
   "source": [
    "### <font color='orange'>[Exercise 1]</font> Link between conditioning and relative error\n",
    "\n",
    "Consider the linear system\n",
    "$$\n",
    "    \\mathsf A(α) \\mathbf x :=\n",
    "    \\begin{pmatrix}\n",
    "        1 & 1 \\\\\n",
    "        1 & 1 - α\n",
    "    \\end{pmatrix}\n",
    "    \\begin{pmatrix}\n",
    "        x_1 \\\\\n",
    "        x_2\n",
    "    \\end{pmatrix} =\n",
    "    \\begin{pmatrix}\n",
    "        π \\\\\n",
    "        π - πα\n",
    "    \\end{pmatrix} =: \\mathbf b(α).\n",
    "$$\n",
    "For $α$ in the range $[10^{-15}, 10^{-2}]$,\n",
    "plot on the same graph, using logarithmic scales for both axes,\n",
    "\n",
    "- The function which to $α$ associate $\\kappa_2\\bigl(\\mathsf A(α)\\bigr) \\times ε$,\n",
    "  where $\\kappa_2\\bigl(\\mathsf A(α)\\bigr)$ is the condition number of the matrix $A(α)$ for the Euclidean norm,\n",
    "  and $ε$ is the machine epsilon for the `Float64` format.\n",
    "\n",
    "- The relative error, in Euclidean norm, obtained when solving the linear system with the backslash `\\` operator,\n",
    "  in the case where both $A(α)$ and $b(α)$ are stored in the `Float64` format."
   ]
  },
  {
   "cell_type": "code",
   "execution_count": null,
   "id": "8d8a153c",
   "metadata": {
    "deletable": false,
    "nbgrader": {
     "cell_type": "code",
     "checksum": "335b1713bc9752c208747b0322b6d601",
     "grade": true,
     "grade_id": "conditining_plot",
     "locked": false,
     "points": 2,
     "schema_version": 3,
     "solution": true,
     "task": false
    }
   },
   "outputs": [],
   "source": [
    "Af(α) = [1. 1.; 1. (1-α)]\n",
    "bf(α) = [π; π - π*α]\n",
    "\n",
    "# Exact solution\n",
    "x_exact = [0.; π]\n",
    "\n",
    "# Range of α\n",
    "αs = 10. .^ (-15:.1:-2)\n",
    "\n",
    "# YOUR CODE HERE\n",
    "throw(ErrorException(\"No code provided\"))"
   ]
  },
  {
   "cell_type": "markdown",
   "id": "b6df1382",
   "metadata": {
    "deletable": false,
    "editable": false,
    "jp-MarkdownHeadingCollapsed": true,
    "nbgrader": {
     "cell_type": "markdown",
     "checksum": "cf0ecfa8ee923f770d4ca879aba635bc",
     "grade": false,
     "grade_id": "cell-readon",
     "locked": true,
     "schema_version": 3,
     "solution": false,
     "task": false
    }
   },
   "source": [
    "### <font color='green'>Direct methods</font>"
   ]
  },
  {
   "cell_type": "markdown",
   "id": "cbecc7c4",
   "metadata": {},
   "source": [
    "### <font color='orange'>[Exercise 2]</font> LU decomposition without Gaussian elimination\n",
    "\n",
    "L'objectif de cet exercice est de proposer un algorithme permettant de réaliser la décomposition LU d'une matrice réelle $\\mathsf{A}\\in\\mathbb{R}^{n×n}$,\n",
    "**non pas par élimination gaussienne** mais par identification des entrées de $\\mathsf A$ avec celles de $\\mathsf L \\mathsf U$.\n",
    "Il s'agit de trouver un matrice triangulaire inférieure $\\mathsf L$ formée de 1 sur la diagonale\n",
    "et une matrice triangulaire supérieure $\\mathsf U$ telles que :\n",
    "<a id=\"LU\"></a>\n",
    "$$\n",
    "\\tag{LU}\n",
    "\\mathsf{A}=\\mathsf{L}\\mathsf{U}\n",
    "$$\n",
    "\n",
    "1. Écrire une fonction `my_lu(A)` qui prend comme argument une matrice `A` et qui renvoie les matrices `L` et `U`.\n",
    "   Pour calculer ces matrices, s'appuyer sur une identification successive des éléments des deux membres de <a href=\"#LU\">(LU)</a>,\n",
    "   ligne par ligne de haut en bas, et de gauche à droite au sein de chaque ligne.\n",
    "\n",
    "   <details>\n",
    "       <summary>\n",
    "           <em><font color='gray'>Hint (click to display)</font></em>\n",
    "       </summary>\n",
    "\n",
    "   Lorsqu'on suit l'ordre conseillé,\n",
    "   la comparaison de l'élément $(i, j)$ fournit une équation pour $\\ell_{ij}$ si $j < i$,\n",
    "   et une équation pour $u_{ij}$ si $j \\geq i$.\n",
    "   Notons qu'il est possible de parcourir les éléments dans d'autres ordres.\n",
    "   </details>"
   ]
  },
  {
   "cell_type": "code",
   "execution_count": null,
   "id": "e89d9d9a",
   "metadata": {
    "deletable": false,
    "nbgrader": {
     "cell_type": "code",
     "checksum": "8695d73a120ebeb4873976b3170c41a6",
     "grade": false,
     "grade_id": "my_lu",
     "locked": false,
     "schema_version": 3,
     "solution": true,
     "task": false
    }
   },
   "outputs": [],
   "source": [
    "function my_lu(A)\n",
    "    # YOUR CODE HERE\n",
    "    throw(ErrorException(\"No code provided\"))\n",
    "    return L, U\n",
    "end;"
   ]
  },
  {
   "cell_type": "code",
   "execution_count": null,
   "id": "caaa08ef",
   "metadata": {
    "deletable": false,
    "editable": false,
    "nbgrader": {
     "cell_type": "code",
     "checksum": "e751e931bee28b6133f6e42fc854d1a4",
     "grade": true,
     "grade_id": "my_lu_tests",
     "locked": true,
     "points": 3,
     "schema_version": 3,
     "solution": false,
     "task": false
    }
   },
   "outputs": [],
   "source": [
    "ref_lu(A) = LinearAlgebra.lu(A, NoPivot())\n",
    "@assert my_lu(diagm([1; 2; 3])) == (diagm([1; 1; 1]), diagm([1; 2; 3]))\n",
    "@assert my_lu([2 -1 0; -1 2 -1; 0 -1 2])[1] ≈ [1 0 0; -1/2 1 0; 0 -2/3 1]\n",
    "@assert my_lu([2 -1 0; -1 2 -1; 0 -1 2])[2] ≈ [2 -1 0; 0 3/2 -1; 0 0 4/3]\n",
    "@assert (C = [1 2 3 4; 4 3 2 1; 1 2 1 2; 1 5 4 1]; my_lu(C)[1] ≈ ref_lu(C).L)\n",
    "@assert (C = [1 2 3 4; 4 3 2 1; 1 2 1 2; 1 5 4 1]; my_lu(C)[2] ≈ ref_lu(C).U)\n",
    "@assert (C = randn(100, 100); my_lu(C)[1] ≈ ref_lu(C).L)\n",
    "@assert (C = randn(100, 100); my_lu(C)[2] ≈ ref_lu(C).U)"
   ]
  },
  {
   "cell_type": "markdown",
   "id": "ca32c7f3",
   "metadata": {},
   "source": [
    "2. On suppose maintenant que la matrice réelle définie positive `A` est à largeur de bande `b` supposée beaucoup plus petite que `n`.\n",
    "   Réécrire la fonction de décomposition LU en exploitant la largeur de bande.\n",
    "\n",
    "   <details>\n",
    "       <summary>\n",
    "           <em><font color='gray'>Hint (click to display)</font></em>\n",
    "       </summary>\n",
    "\n",
    "   Pour rappel, la largeur de bande est le plus petit nombre naturel $b$ tel que $a_{ij} = 0$ for all $i,j \\in \\{1, \\dots, n\\}^2$ such that $|i-j| > b$.\n",
    "   </details>"
   ]
  },
  {
   "cell_type": "code",
   "execution_count": null,
   "id": "067600d9",
   "metadata": {
    "deletable": false,
    "nbgrader": {
     "cell_type": "code",
     "checksum": "345d969d04ef0ba137ea32a5cdedd352",
     "grade": false,
     "grade_id": "my_banded_lu",
     "locked": false,
     "schema_version": 3,
     "solution": true,
     "task": false
    }
   },
   "outputs": [],
   "source": [
    "function my_banded_lu(A, b)\n",
    "    # YOUR CODE HERE\n",
    "    throw(ErrorException(\"No code provided\"))\n",
    "    return L, U\n",
    "end;"
   ]
  },
  {
   "cell_type": "code",
   "execution_count": null,
   "id": "66f06251",
   "metadata": {
    "deletable": false,
    "editable": false,
    "nbgrader": {
     "cell_type": "code",
     "checksum": "ad3637209e341408215737a60a2210cf",
     "grade": true,
     "grade_id": "cell-24fb0131261b7be2",
     "locked": true,
     "points": 2,
     "schema_version": 3,
     "solution": false,
     "task": false
    }
   },
   "outputs": [],
   "source": [
    "@assert begin C = randn(100, 100); my_banded_lu(C, 99)[1] ≈ ref_lu(C).L end\n",
    "@assert begin C = randn(100, 100); my_banded_lu(C, 99)[2] ≈ ref_lu(C).U end\n"
   ]
  },
  {
   "cell_type": "markdown",
   "id": "b3ce8bf4",
   "metadata": {},
   "source": [
    "3. Construire une fonction `generate_banded(n, b)` permettant de générer une matrice carrée aléatoire de taille `n` à largeur de bande donnée `b`."
   ]
  },
  {
   "cell_type": "code",
   "execution_count": null,
   "id": "739d1227",
   "metadata": {
    "deletable": false,
    "nbgrader": {
     "cell_type": "code",
     "checksum": "0f224bd7fed178242ca082f83fbfefcb",
     "grade": false,
     "grade_id": "cell-30b31cd2999ed291",
     "locked": false,
     "schema_version": 3,
     "solution": true,
     "task": false
    }
   },
   "outputs": [],
   "source": [
    "function generate_banded(n, b)\n",
    "    # YOUR CODE HERE\n",
    "    throw(ErrorException(\"No code provided\"))\n",
    "end;"
   ]
  },
  {
   "cell_type": "code",
   "execution_count": null,
   "id": "d7ebbd4b",
   "metadata": {
    "deletable": false,
    "editable": false,
    "nbgrader": {
     "cell_type": "code",
     "checksum": "41d8655d7e2ee868ba4787602046d5ec",
     "grade": true,
     "grade_id": "generate_banded",
     "locked": true,
     "points": 2,
     "schema_version": 3,
     "solution": false,
     "task": false
    }
   },
   "outputs": [],
   "source": [
    "@assert generate_banded(10, 2)[1, 5] == 0\n",
    "@assert generate_banded(10, 2)[2, 5] == 0\n",
    "@assert generate_banded(10, 2)[3, 5] != 0\n",
    "@assert generate_banded(10, 2)[4, 5] != 0\n",
    "@assert generate_banded(10, 2)[5, 5] != 0\n",
    "@assert generate_banded(10, 2)[6, 5] != 0\n",
    "@assert generate_banded(10, 2)[7, 5] != 0\n",
    "@assert generate_banded(10, 2)[8, 5] == 0\n",
    "@assert generate_banded(10, 2)[9, 5] == 0"
   ]
  },
  {
   "cell_type": "markdown",
   "id": "7ac743ff",
   "metadata": {},
   "source": [
    "4. En utilisant `generate_banded`, tester votre implémentation de `my_banded_lu`,\n",
    "   pour `n = 100` et des valeurs de `b` égales à 2, 3 et 10.\n",
    "   <details>\n",
    "       <summary>\n",
    "           <em><font color='gray'>Hint (click to display)</font></em>\n",
    "       </summary>\n",
    "\n",
    "   Vous pouvez utiliser la fonction `lu` de la bibliothèque `LinearAlgebra`,\n",
    "   avec l'argument `NoPivot()`, correspondant à la fonnction `ref_lu` définie ci-dessus,\n",
    "   comme fonction de référence.\n",
    "   Vous pouvez également utiliser la macro `@assert` pour vos tests.\n",
    "   </details>"
   ]
  },
  {
   "cell_type": "code",
   "execution_count": null,
   "id": "973443d7",
   "metadata": {
    "deletable": false,
    "nbgrader": {
     "cell_type": "code",
     "checksum": "bad8112a17c752f1653ba6086547b7e2",
     "grade": true,
     "grade_id": "cell-9dd7b3831c6e1227",
     "locked": false,
     "points": 1,
     "schema_version": 3,
     "solution": true,
     "task": false
    }
   },
   "outputs": [],
   "source": [
    "# YOUR CODE HERE\n",
    "throw(ErrorException(\"No code provided\"))"
   ]
  },
  {
   "cell_type": "markdown",
   "id": "dc59100b",
   "metadata": {
    "deletable": false,
    "editable": false,
    "jp-MarkdownHeadingCollapsed": true,
    "nbgrader": {
     "cell_type": "markdown",
     "checksum": "914f74ac51d32a18ed3dd6e2a42fced0",
     "grade": false,
     "grade_id": "cell-6be64d5472c97788",
     "locked": true,
     "schema_version": 3,
     "solution": false,
     "task": false
    }
   },
   "source": [
    "### <font color='green'>Iterative methods</font>"
   ]
  },
  {
   "cell_type": "markdown",
   "id": "187788c7",
   "metadata": {},
   "source": [
    "### <font color='orange'>[Exercise 3]</font> Richardson's iteration\n",
    "\n",
    "Considérer le système linéaire suivant:\n",
    "$$\n",
    "    \\mathsf A \\mathbf x :=\n",
    "    \\begin{pmatrix}\n",
    "        3 & 1 \\\\ 1 & 3\n",
    "    \\end{pmatrix}\n",
    "    \\begin{pmatrix}\n",
    "        x_1 \\\\\n",
    "        x_2\n",
    "    \\end{pmatrix}\n",
    "    =\n",
    "    \\begin{pmatrix}\n",
    "        11 \\\\\n",
    "        9\n",
    "    \\end{pmatrix} =: \\mathbf b.\n",
    "$$\n",
    "\n",
    " 1. Illustrer à l'aide de la fonction `Plots.contourf` les lignes de niveau de la fonction\n",
    " $$\n",
    "     f(\\mathbf x) = \\frac{1}{2} \\mathbf x^T \\mathsf A \\mathbf x - \\mathbf b^T \\mathbf x.\n",
    " $$"
   ]
  },
  {
   "cell_type": "code",
   "execution_count": null,
   "id": "f172f9d1",
   "metadata": {
    "deletable": false,
    "nbgrader": {
     "cell_type": "code",
     "checksum": "97ba96f2be41b078ddb68ab5d9a801d5",
     "grade": true,
     "grade_id": "richardson",
     "locked": false,
     "points": 1,
     "schema_version": 3,
     "solution": true,
     "task": false
    }
   },
   "outputs": [],
   "source": [
    "A = [3. 1.; 1. 3.]\n",
    "b = [11.; 9.]\n",
    "sol = A\\b\n",
    "\n",
    "# YOUR CODE HERE\n",
    "throw(ErrorException(\"No code provided\"))"
   ]
  },
  {
   "cell_type": "markdown",
   "id": "aa8241fd",
   "metadata": {},
   "source": [
    " 2. Implémenter l'itération de Richardson avec $\\omega = 0.1$ pour résoudre le système.\n",
    "    Votre fonction devra renvoyer une liste contenant toutes les itérations.\n",
    "    Initialiser l'algorithme à $\\mathbf x = 0$ et,\n",
    "    comme critère d'arrêt, utiliser\n",
    "    $$\n",
    "    \\lVert \\mathsf A \\mathbf x - \\mathbf b \\lVert \\leq \\varepsilon \\lVert \\mathbf b \\lVert, \\qquad \\varepsilon = 10^{-50}\n",
    "    $$\n",
    "    <details>\n",
    "        <summary>\n",
    "            <em><font color='gray'>Hint (click to display)</font></em>\n",
    "        </summary>\n",
    "\n",
    "    Pour ajouter un élément à la fin d'une liste,\n",
    "    utiliser la fonction `push!`:\n",
    "\n",
    "    ```julia\n",
    "    push!(xs, x)  # Adds x at the end of xs\n",
    "    ```\n",
    "    </details>"
   ]
  },
  {
   "cell_type": "code",
   "execution_count": null,
   "id": "5b36f2d8",
   "metadata": {
    "deletable": false,
    "nbgrader": {
     "cell_type": "code",
     "checksum": "c63c420ba417831d3aa9da478abebc9f",
     "grade": true,
     "grade_id": "cell-2304e66a1cccd8ea",
     "locked": false,
     "points": 2,
     "schema_version": 3,
     "solution": true,
     "task": false
    }
   },
   "outputs": [],
   "source": [
    "function richardson(ω)\n",
    "    ε = 1e-50\n",
    "    x = zeros(BigFloat, 2)\n",
    "    xs = [x]\n",
    "    # YOUR CODE HERE\n",
    "    throw(ErrorException(\"No code provided\"))\n",
    "    return xs\n",
    "end\n",
    "\n",
    "ω = .1\n",
    "xs = richardson(ω)\n",
    "scatter!(eachrow(hcat(xs...))...)\n",
    "plot!(eachrow(hcat(xs...))...)"
   ]
  },
  {
   "cell_type": "markdown",
   "id": "e16bdc15",
   "metadata": {
    "deletable": false,
    "editable": false,
    "nbgrader": {
     "cell_type": "markdown",
     "checksum": "cb36b03728ee218c61438b818fe118bc",
     "grade": false,
     "grade_id": "cell-b421e279f3546b75",
     "locked": true,
     "schema_version": 3,
     "solution": false,
     "task": false
    }
   },
   "source": [
    " 3. Faire un plot de la norme du résidu $\\lVert r_k \\rVert := \\lVert \\mathsf A \\mathbf x^{(k)} - \\mathbf b \\rVert$ en fonction de $k$,\n",
    "    en utilisant une échelle linéaire pour l'axe des abcisses et une échelle logarithmique pour l'axe des ordonnées,\n",
    "    gràce à l'argument `yscale=:log` passé à la fonction `Plots.plot`."
   ]
  },
  {
   "cell_type": "code",
   "execution_count": null,
   "id": "10766d1b",
   "metadata": {
    "deletable": false,
    "nbgrader": {
     "cell_type": "code",
     "checksum": "7e8cc4c0e9b381baca1ab41f42e9865f",
     "grade": true,
     "grade_id": "plot_error",
     "locked": false,
     "points": 1,
     "schema_version": 3,
     "solution": true,
     "task": false
    }
   },
   "outputs": [],
   "source": [
    "# YOUR CODE HERE\n",
    "throw(ErrorException(\"No code provided\"))"
   ]
  },
  {
   "cell_type": "markdown",
   "id": "2dfdfb3b",
   "metadata": {
    "deletable": false,
    "editable": false,
    "nbgrader": {
     "cell_type": "markdown",
     "checksum": "4cf077febf4bfc5bac93f161bfee4ef3",
     "grade": false,
     "grade_id": "cell-00da70569f78a550",
     "locked": true,
     "schema_version": 3,
     "solution": false,
     "task": false
    }
   },
   "source": [
    " 4. En utilisant `Polynomials.fit`, calculer une approximation du type\n",
    "    $$\n",
    "    \\log(e_k) \\approx α + βk \\qquad \\Leftrightarrow \\qquad e_k \\approx \\exp(α) \\times \\exp(β)^k.\n",
    "    $$\n",
    "    Comparer la valeur de $\\exp(β)$ au rayon spectral $\\rho(\\mathsf A - \\omega \\mathsf I)$."
   ]
  },
  {
   "cell_type": "code",
   "execution_count": null,
   "id": "a4140a01",
   "metadata": {
    "deletable": false,
    "nbgrader": {
     "cell_type": "code",
     "checksum": "d44eab4660d4544b145f68b7e82e4d38",
     "grade": true,
     "grade_id": "cell-0dcbe1c4e4e61806",
     "locked": false,
     "points": 1,
     "schema_version": 3,
     "solution": true,
     "task": false
    }
   },
   "outputs": [],
   "source": [
    "# Define b and ρ below\n",
    "# YOUR CODE HERE\n",
    "throw(ErrorException(\"No code provided\"))\n",
    "\n",
    "exp(β), ρ"
   ]
  },
  {
   "cell_type": "markdown",
   "id": "c6c4b890",
   "metadata": {},
   "source": [
    "5. Calculer le paramètre $\\omega$ optimal et refaire le plot de la décroissance de la norme du résidu dans ce cas."
   ]
  },
  {
   "cell_type": "code",
   "execution_count": null,
   "id": "b9ec626f",
   "metadata": {
    "deletable": false,
    "nbgrader": {
     "cell_type": "code",
     "checksum": "5449215d24d2c51a8a9cbd3409e09f8a",
     "grade": true,
     "grade_id": "cell-f2d06f69cd09a3aa",
     "locked": false,
     "points": 1,
     "schema_version": 3,
     "solution": true,
     "task": false
    }
   },
   "outputs": [],
   "source": [
    "# YOUR CODE HERE\n",
    "throw(ErrorException(\"No code provided\"))"
   ]
  },
  {
   "cell_type": "markdown",
   "id": "ffcff8cf",
   "metadata": {},
   "source": [
    "### <font color='orange'>[Exercise 4]</font> Basic iterative method for the Euler-Bernoulli beam\n",
    "\n",
    "The objective of this exercise is to solve the Euler-Bernoulli beam equation in one dimension,\n",
    "with homogeneous Dirichlet boundary conditions:\n",
    "$$\n",
    "u''''(x) = 1, \\qquad u(0) = u'(0) = u'(1) = u(1) = 0.\n",
    "$$\n",
    "This equation models the deflection of a beam clamped at both ends,\n",
    "under a uniform load.\n",
    "A discretization of this equation on a uniform grid using the finite difference method leads to the following linear system:\n",
    "$$\n",
    "\\begin{pmatrix}\n",
    "    6  & -4 & 1 \\\\\n",
    "    -4 & 6  & -4 & 1 \\\\\n",
    "     1 & -4 & 6      & -4 & 1 \\\\\n",
    "     & 1 & -4 & 6      & -4 & 1 \\\\\n",
    "     &  &  \\ddots  & \\ddots & \\ddots & \\ddots & \\ddots  \\\\\n",
    "     & &    &   1    & -4    & 6      & -4 & 1 \\\\\n",
    "     & & &    &   1    & -4    & 6      & -4 \\\\\n",
    "     & & &    &        &  1  & -4      & 6 \\\\\n",
    "\\end{pmatrix}\n",
    "\\begin{pmatrix}\n",
    "    u_2 \\\\\n",
    "    u_3 \\\\\n",
    "    u_4 \\\\\n",
    "    u_5 \\\\\n",
    "    \\vdots \\\\\n",
    "    u_{n-4} \\\\\n",
    "    u_{n-3} \\\\\n",
    "    u_{n-2}\n",
    "\\end{pmatrix}\n",
    "=\n",
    "h^4\n",
    "\\begin{pmatrix}\n",
    "    1 \\\\\n",
    "    1 \\\\\n",
    "    1 \\\\\n",
    "    1 \\\\\n",
    "    \\vdots \\\\\n",
    "    1 \\\\\n",
    "    1 \\\\\n",
    "    1\n",
    "\\end{pmatrix},\n",
    "\\quad\n",
    "h := \\frac{1}{n},\n",
    "\\quad\n",
    "x_i := ih.\n",
    "$$\n",
    "where $h$ is the spacing between the discretization points, and $(u_2, u_3, \\cdots, u_{n-3}, u_{n-2})$ are the values of the unknown function $u$ at the points $(x_2, x_3, \\cdots, x_{n-3}, x_{n-2})$.\n",
    "\n",
    "1. Write a function `build_matrix(n)`, which returns the matrix of the linear system.\n",
    "\n",
    "   <details>\n",
    "       <summary>\n",
    "           <em><font color='gray'>Hint (click to display)</font></em>\n",
    "       </summary>\n",
    "\n",
    "   The function `LinearAlgebra.diagm` is useful to construct the matrix.\n",
    "   For example, the command\n",
    "   ```julia\n",
    "   diagm(0 => [1, 2, 3], -1 => [5, 5])  # = [1 0 0; 5 2 0; 0 5 3]\n",
    "   ```\n",
    "   returns a 3x3 matrix with `[1, 2, 3]` on the main diagonal,\n",
    "   and `[5, 5]` on the first subdiagonal.\n",
    "   </details>"
   ]
  },
  {
   "cell_type": "code",
   "execution_count": null,
   "id": "98983be2",
   "metadata": {
    "deletable": false,
    "nbgrader": {
     "cell_type": "code",
     "checksum": "0277a9e33397ea7fab3943f1c958fe78",
     "grade": false,
     "grade_id": "cell-71834b89fc893e7b",
     "locked": false,
     "schema_version": 3,
     "solution": true,
     "task": false
    }
   },
   "outputs": [],
   "source": [
    "function build_matrix(n)\n",
    "    # YOUR CODE HERE\n",
    "    throw(ErrorException(\"No code provided\"))\n",
    "end"
   ]
  },
  {
   "cell_type": "code",
   "execution_count": null,
   "id": "8112a184",
   "metadata": {
    "deletable": false,
    "editable": false,
    "nbgrader": {
     "cell_type": "code",
     "checksum": "dfe2151e679009fa647693e2999361c5",
     "grade": true,
     "grade_id": "cell-ef8e08b0ec3d4d5b",
     "locked": true,
     "points": 1,
     "schema_version": 3,
     "solution": false,
     "task": false
    }
   },
   "outputs": [],
   "source": [
    "@assert size(build_matrix(20)) == (17, 17)\n",
    "@assert build_matrix(20)[5, 3] ≈ 1\n",
    "@assert build_matrix(20)[5, 4] ≈ -4\n",
    "@assert build_matrix(20)[5, 5] ≈ 6\n",
    "@assert build_matrix(20)[5, 6] ≈ -4\n",
    "@assert build_matrix(20)[5, 7] ≈ 1\n",
    "@assert build_matrix(20)[5, 8] ≈ 0"
   ]
  },
  {
   "cell_type": "markdown",
   "id": "9c826ed9",
   "metadata": {},
   "source": [
    "2. Write a function `build_rhs(n)`, which returns the right-hand side of the linear system."
   ]
  },
  {
   "cell_type": "code",
   "execution_count": null,
   "id": "c7292c42",
   "metadata": {
    "deletable": false,
    "nbgrader": {
     "cell_type": "code",
     "checksum": "d4585bc7974072617095ce9a283ec23a",
     "grade": false,
     "grade_id": "cell-ae67b79c0f349db8",
     "locked": false,
     "schema_version": 3,
     "solution": true,
     "task": false
    }
   },
   "outputs": [],
   "source": [
    "function build_rhs(n)\n",
    "    # YOUR CODE HERE\n",
    "    throw(ErrorException(\"No code provided\"))\n",
    "end"
   ]
  },
  {
   "cell_type": "code",
   "execution_count": null,
   "id": "9d71c827",
   "metadata": {
    "deletable": false,
    "editable": false,
    "nbgrader": {
     "cell_type": "code",
     "checksum": "6520e79658f2610f325d86b231574021",
     "grade": true,
     "grade_id": "cell-442b10910f62252e",
     "locked": true,
     "points": 1,
     "schema_version": 3,
     "solution": false,
     "task": false
    }
   },
   "outputs": [],
   "source": [
    "@assert length(build_rhs(20)) == 17\n",
    "@assert build_rhs(20)[end] == 1 / 20^4\n",
    "@assert build_rhs(20)[1] == 1 / 20^4"
   ]
  },
  {
   "cell_type": "markdown",
   "id": "a57689ce",
   "metadata": {},
   "source": [
    "3. Write a function `forward_substitution(L, y)`\n",
    "   that solves the linear system $\\mathsf L \\mathbf x = \\mathbf y$,\n",
    "   in the case where `L` is a lower-triangular matrix,\n",
    "   by using forward substitution."
   ]
  },
  {
   "cell_type": "code",
   "execution_count": null,
   "id": "21082318",
   "metadata": {
    "deletable": false,
    "nbgrader": {
     "cell_type": "code",
     "checksum": "cb750a26259102b6f78305a73ae1c51d",
     "grade": false,
     "grade_id": "cell-8abbc441ef2de365",
     "locked": false,
     "schema_version": 3,
     "solution": true,
     "task": false
    }
   },
   "outputs": [],
   "source": [
    "function forward_substitution(L, y)\n",
    "    # YOUR CODE HERE\n",
    "    throw(ErrorException(\"No code provided\"))\n",
    "end"
   ]
  },
  {
   "cell_type": "code",
   "execution_count": null,
   "id": "4a020bf3",
   "metadata": {
    "deletable": false,
    "editable": false,
    "nbgrader": {
     "cell_type": "code",
     "checksum": "a29b3eb7763a2e2925f5f31e05dda3d1",
     "grade": true,
     "grade_id": "cell-4085a1598f1048e2",
     "locked": true,
     "points": 1,
     "schema_version": 3,
     "solution": false,
     "task": false
    }
   },
   "outputs": [],
   "source": [
    "@assert begin n = 10; L = [1 0; 2 1]; forward_substitution(L, [1; 0]) ≈ [1; -2] end\n",
    "@assert begin n = 10; L = LowerTriangular(ones(n, n)); y = fill(2, n); forward_substitution(L, L*y) ≈ y end\n",
    "@assert begin n = 10; L = LowerTriangular(randn(n, n)); y = randn(n); forward_substitution(L, L*y) ≈ y end\n",
    "@assert begin n = 20; L = LowerTriangular(2ones(n, n)); y = rand(n); forward_substitution(L, L*y) ≈ y end"
   ]
  },
  {
   "cell_type": "markdown",
   "id": "bc7e149c",
   "metadata": {},
   "source": [
    "4. The successive over-relaxation method is a splitting method for solving linear systems of the form $\\mathsf A \\mathbf x = \\mathbf b$.\n",
    "   It is based on the iteration\n",
    "   $$\n",
    "   \\mathsf M \\mathbf x_{k+1} = \\mathsf N \\mathbf x_{k} + \\mathbf{b}, \\qquad \\text{where} \\quad \\mathsf M = \\frac{\\mathsf D}{\\omega} + \\mathsf L \\quad \\text{and} \\quad \\mathsf N = \\mathsf M - \\mathsf A.\n",
    "   \\tag{SOR}\n",
    "   $$\n",
    "   <a id=\"SOR\"></a>\n",
    "   Here $\\omega \\in (0, 2)$ is a parameter,\n",
    "   $\\mathsf D$ is diagonal matrix containing the diagonal of $\\mathsf A$,\n",
    "   and $\\mathsf L$ is a strictly lower triangular matrix containing the strict lower triangular part of $\\mathsf A$,\n",
    "   not including the diagonal.\n",
    "   Write a function `sor(A, b, ω)` that\n",
    "   implements this iteration, without using Julia's `\\` and `inv` functions.\n",
    "   Initialize the iteration at $\\mathbf x_0 = \\mathbf 0$,\n",
    "   and use as stopping criterion that\n",
    "   $$\n",
    "   \\lVert \\mathsf A \\mathbf x - \\mathbf b \\rVert\n",
    "   \\leq \\varepsilon \\lVert \\mathbf b \\rVert,\n",
    "   \\qquad \\varepsilon := 10^{-10}.\n",
    "   $$\n",
    "   If after `maxiter` iterations,\n",
    "   a solution that satisfies this stopping criterion has not been found,\n",
    "   return `nothing`.\n",
    "\n",
    "   <details>\n",
    "       <summary>\n",
    "           <em><font color='gray'>Hint (click to display)</font></em>\n",
    "       </summary>\n",
    "\n",
    "   - The functions `Diagonal` and `LowerTriangular`,\n",
    "     both from the `LinearAlgebra` library,\n",
    "     are useful to construct the matrices $\\mathsf D$ and $\\mathsf L$:\n",
    "     ```julia\n",
    "     D = Diagonal(A)  # Extracts the diagonal from A\n",
    "     X = LowerTriangular(A)  # Extracts lower triangular part, with diag\n",
    "     ```\n",
    "   - Since the matrix in the linear system <a href=\"#NR\">(SOR)</a> is lower triangular,\n",
    "     use the function `forward_substitution` you wrote above to solve this system at each iteration.\n",
    "   </details>"
   ]
  },
  {
   "cell_type": "code",
   "execution_count": null,
   "id": "803f42fe",
   "metadata": {
    "deletable": false,
    "nbgrader": {
     "cell_type": "code",
     "checksum": "fc62b37a59e44fbc7f00b262107c8d70",
     "grade": false,
     "grade_id": "cell-048154d0c43ed3fd",
     "locked": false,
     "schema_version": 3,
     "solution": true,
     "task": false
    }
   },
   "outputs": [],
   "source": [
    "function sor(A, b; ω = 1, ε = 1e-10, maxiter = 10^5)\n",
    "    # YOUR CODE HERE\n",
    "    throw(ErrorException(\"No code provided\"))\n",
    "end"
   ]
  },
  {
   "cell_type": "code",
   "execution_count": null,
   "id": "2d3a93c7",
   "metadata": {
    "deletable": false,
    "editable": false,
    "nbgrader": {
     "cell_type": "code",
     "checksum": "72aa316424124715eed758be466532c8",
     "grade": true,
     "grade_id": "cell-8af811797a39d253",
     "locked": true,
     "points": 2,
     "schema_version": 3,
     "solution": false,
     "task": false
    }
   },
   "outputs": [],
   "source": [
    "# Test code\n",
    "n = 20\n",
    "X = qr(randn(n, n)).Q\n",
    "A = X*Diagonal(rand(n) .+ 5)*X'\n",
    "b = randn(n)\n",
    "@assert begin ε = 1e-10; sol = sor(A, b; ω = 1.5, ε = ε); norm(A*sol - b) ≤ ε*norm(b) end\n",
    "@assert begin ε = 1e-10; sol = sor(A, b; ω = 1.5, ε = ε); norm(A*sol - b) ≥ 1e-15*norm(b) end\n",
    "@assert begin ε = 1e-12; sol = sor(A, b; ω = 1.5, ε = ε); norm(A*sol - b) ≤ ε*norm(b) end\n",
    "@assert begin ε = 1e-12; sor(A, b; ω = 2, ε = ε) == nothing end\n",
    "@assert begin ε = 1e-12; sor(A, b; ω = 1, ε = ε) ≈ A\\b end"
   ]
  },
  {
   "cell_type": "markdown",
   "id": "8cad8ebb",
   "metadata": {},
   "source": [
    "**Remark**. Here we used a function with both non-keyword (before `;`) and keyword (after `;`) arguments,\n",
    "as well as default values for the keyword arguments.\n",
    "When default values are present, the arguments become optional.\n",
    "The following example should help you understand how arguments are handled in Julia."
   ]
  },
  {
   "cell_type": "code",
   "execution_count": null,
   "id": "41d94253",
   "metadata": {},
   "outputs": [],
   "source": [
    "my_test(a , b = 2; c = 3, d = 4) = \"Arguments: $a $b $c $d\"\n",
    "@show my_test(5)\n",
    "@show my_test(5, 8)\n",
    "@show my_test(5, 8; c = 9)\n",
    "@show my_test(5, 8; d = 9)\n",
    "@show my_test(5; d = 9);\n",
    "\n",
    "# my_test(5, 8, 9)  # -> Error because there are only two non-keyword arguments\n",
    "# my_test(5, 8; 9)  # -> Error because there should only be keyword arguments after ';'"
   ]
  },
  {
   "cell_type": "markdown",
   "id": "0f33c57f",
   "metadata": {},
   "source": [
    "5. Use the relaxation method implemented in the previous item\n",
    "   with parameters $\\omega = 1.9$ and $\\varepsilon = 10^{-8}$ to solve the linear system of this exercise with $n = 50$.\n",
    "   Compare on a graph the solution you obatined with the exact solution,\n",
    "   which is given by\n",
    "   $$ u(x) = \\frac{1}{24} x^2(x - 1)^2. $$"
   ]
  },
  {
   "cell_type": "code",
   "execution_count": null,
   "id": "523d730a",
   "metadata": {
    "deletable": false,
    "nbgrader": {
     "cell_type": "code",
     "checksum": "6654ed09768210d263974c23cb6b0340",
     "grade": true,
     "grade_id": "comparison",
     "locked": false,
     "points": 1,
     "schema_version": 3,
     "solution": true,
     "task": false
    }
   },
   "outputs": [],
   "source": [
    "u(x) = 1/24 * x^2 * (x - 1)^2\n",
    "\n",
    "# YOUR CODE HERE\n",
    "throw(ErrorException(\"No code provided\"))"
   ]
  }
 ],
 "metadata": {
  "jupytext": {
   "encoding": "# -*- coding: utf-8 -*-"
  },
  "kernelspec": {
   "display_name": "Julia 1.10.2",
   "language": "julia",
   "name": "julia-1.10"
  },
  "language_info": {
   "file_extension": ".jl",
   "mimetype": "application/julia",
   "name": "julia",
   "version": "1.10.2"
  }
 },
 "nbformat": 4,
 "nbformat_minor": 5
}
