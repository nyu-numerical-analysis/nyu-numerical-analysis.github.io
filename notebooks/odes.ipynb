{
 "cells": [
  {
   "cell_type": "markdown",
   "id": "7c621059",
   "metadata": {},
   "source": [
    "# Cours ENPC - Pratique du calcul scientifique"
   ]
  },
  {
   "cell_type": "markdown",
   "id": "d86c3bba",
   "metadata": {},
   "source": [
    "Before you turn in this assignment, make sure everything runs as expected. First, **restart the kernel** and then **run all cells**. Make sure you fill in any place that says `YOUR CODE HERE` or \"YOUR ANSWER HERE\", as well as your name and group number below:"
   ]
  },
  {
   "cell_type": "code",
   "execution_count": null,
   "id": "b6d7cfdd",
   "metadata": {},
   "outputs": [],
   "source": [
    "NAME = \"\"\n",
    "GROUP = \"\""
   ]
  },
  {
   "cell_type": "markdown",
   "id": "abb6f17c",
   "metadata": {},
   "source": [
    "## Semaine 6: Équations différentielles ordinaires"
   ]
  },
  {
   "cell_type": "code",
   "execution_count": null,
   "id": "ae5a1c5c",
   "metadata": {
    "deletable": false,
    "nbgrader": {
     "cell_type": "code",
     "checksum": "84d77c557347581f9a37a3f8e852f758",
     "grade": true,
     "grade_id": "cell-608dc2ecc58efc1e",
     "locked": false,
     "points": 0,
     "schema_version": 3,
     "solution": true,
     "task": false
    }
   },
   "outputs": [],
   "source": [
    "# YOUR CODE HERE\n",
    "throw(ErrorException(\"No code provided\"))"
   ]
  },
  {
   "cell_type": "markdown",
   "id": "403bd8ed",
   "metadata": {},
   "source": [
    "### <font color='orange'>[Exercice 1]</font> Problème de la couche limite de Blasius"
   ]
  },
  {
   "cell_type": "markdown",
   "id": "58a2b926",
   "metadata": {},
   "source": [
    "Le problème de la vitesse d'un fluide visqueux newtonien s'écoulant parallèlement à une plaque plane, dans un régime laminaire à nombre de Reynolds élevé, se résout en raccordant une solution triviale (écoulement uniforme) en champ lointain et une solution de couche limite au voisinage de la plaque pour respecter la condition de vitesse nulle. Sans rentrer dans les détails relevant du cours de mécanique des fluides, on rappelle que ce problème de couche limite,\n",
    "après adimensionnement, se ramène à la résolution de l'équation différentielle suivante\n",
    "$$\n",
    "2g'''+g\\,g''=0\n",
    "\\quad\\textrm{et}\\quad\n",
    "\\left\\{\n",
    "\\begin{array}{rcl}\n",
    "g(0)&=&0\\\\\n",
    "g'(0)&=&0\\\\\n",
    "\\lim_{t\\to\\infty}g'(t)&=&1\n",
    "\\end{array}\n",
    "\\right.\n",
    "$$\n",
    "\n",
    "A des normalisations près, $t$ représente ici l'abscisse perpendiculaire à la plaque et $u=g'$ est la vitesse du fluide dans la direction de la plaque.\n",
    "\n",
    "Il apparaît de prime abord que ce problème ne relève pas *stricto sensu* des résultats vus en cours car d'une part il s'agit d'un problème impliquant des dérivées strictement supérieures à 1 et d'autre part les conditions aux limites devant être respectées par la solution impliquent à la fois les valeurs de $g$ et $g'$ à $t=0$ mais également de $g'$ à $t\\to\\infty$.\n",
    "\n",
    "La stratégie mise en place ici pour résoudre ce problème est le recours à la méthode dite **méthode de tir** : elle consiste à se ramener à une équation différentielle d'ordre 1 vectorielle en dimension 3 et à omettre provisoirement la condition $\\lim_{t\\to\\infty}g'(t)=1$ pour la remplacer par une nouvelle condition en $t=0$ à savoir $g''(0)=λ$ avec $λ$ un paramètre qu'il s'agira ensuite d'ajuster pour satisfaire la condition à l'infini.\n",
    "\n",
    "1. Montrer que l'on se ramène à une équation différentielle ordinaire d'ordre 1 de type\n",
    "     <a id=\"ode\"></a>\n",
    "    $$\n",
    "    \\tag{1}\n",
    "    x'(t)=f\\bigl(x(t)\\bigr), \\qquad x(0)=\\begin{pmatrix} 0 \\\\ 0 \\\\ λ \\end{pmatrix}\n",
    "    $$\n",
    "   en considérant la fonction vectorielle inconnue de $\\mathbb{R}$ dans $\\mathbb{R}^3$\n",
    "    $$\n",
    "    \\begin{array}{rccl}\n",
    "    x :&\n",
    "    [0,\\infty[&→&\\mathbb{R}^3 \\\\\n",
    "    &t&↦&x(t)=   \\begin{pmatrix}\n",
    "                g(t)\\\\\n",
    "                g'(t)\\\\\n",
    "                g''(t)\n",
    "                \\end{pmatrix}\n",
    "    \\end{array}\n",
    "    $$\n",
    "    et la fonction de $\\mathbb{R}^3$ dans $\\mathbb{R}^3$\n",
    "    $$\n",
    "    \\begin{array}{rccl}\n",
    "    f :&\n",
    "    \\mathbb{R}^3&→&\\mathbb{R}^3 \\\\\n",
    "    &x&↦&f(x)=   \\begin{pmatrix}\n",
    "                x_2\\\\\n",
    "                x_3\\\\\n",
    "                -\\frac{x_1\\,x_3}{2}\n",
    "                \\end{pmatrix}\n",
    "    \\end{array}\n",
    "    $$\n",
    "\n",
    "    Construire les fonctions `f_Blasius` et `df_Blasius` prenant comme argument un vecteur de dimension 3 `x` et renvoyant respectivement le vecteur $f(x)$ et la matrice jacobienne $∇f(x)$."
   ]
  },
  {
   "cell_type": "code",
   "execution_count": null,
   "id": "cddd8169",
   "metadata": {
    "deletable": false,
    "nbgrader": {
     "cell_type": "code",
     "checksum": "c6cbd2076e7bf8cb65350f05531da010",
     "grade": true,
     "grade_id": "cell-5b0618c35fbef78e",
     "locked": false,
     "points": 0,
     "schema_version": 3,
     "solution": true,
     "task": false
    }
   },
   "outputs": [],
   "source": [
    "function f_Blasius(x)\n",
    "    # YOUR CODE HERE\n",
    "    throw(ErrorException(\"No code provided\"))\n",
    "end\n",
    "\n",
    "function df_Blasius(x)\n",
    "    # YOUR CODE HERE\n",
    "    throw(ErrorException(\"No code provided\"))\n",
    "end;"
   ]
  },
  {
   "cell_type": "markdown",
   "id": "c1e3b280",
   "metadata": {},
   "source": [
    "2. Implémenter une fonction `newton_raphson(x, f, df, maxiter=100; ε = 1e-12)` **dans le cadre général d'une fonction vectorielle** renvoyant le résultat de l'algorithme de Newton-Raphson partant d'un point initial `x` pour une fonction `f` de jacobienne `df` avec un nombre d'itérations maximal `maxiter` ($100$ par défaut) et une tolérance `ε` ($10^{-12}$ par défaut) pour un critère d'arrêt $\\lVert f(x) \\rVert<ε$."
   ]
  },
  {
   "cell_type": "code",
   "execution_count": null,
   "id": "a78f301a",
   "metadata": {
    "deletable": false,
    "nbgrader": {
     "cell_type": "code",
     "checksum": "62d68925b91a420a83d4a1feb5977064",
     "grade": true,
     "grade_id": "cell-f599b525b6133383",
     "locked": false,
     "points": 0,
     "schema_version": 3,
     "solution": true,
     "task": false
    }
   },
   "outputs": [],
   "source": [
    "function newton_raphson(x, f, df, maxiter=100; ε = 1e-12)\n",
    "    # YOUR CODE HERE\n",
    "    throw(ErrorException(\"No code provided\"))\n",
    "end;"
   ]
  },
  {
   "cell_type": "markdown",
   "id": "2d6423af",
   "metadata": {},
   "source": [
    "\n",
    "3. On donne ci-dessous les codes renvoyant l'itération suivante des schémas d'Euler explicite et implicite à partir de la valeur précédente `xₙ`, l'incrément `Δ` de la variable $t$ ainsi que la fonction `f` décrivant l'équation différentielle <a href=\"#ode\">(1)</a> et éventuellement la jacobienne `df` de `f` si elle est nécessaire dans le schéma (on notera que si celle-ci n'est pas nécessaire on peut remplacer l'argument `df` par `_` pour éviter de le nommer mais il est important de garder ce 4ème argument pour respecter la même signature pour tous les schémas)\n",
    "   Implémenter de manière analogue les schémas de `Crank_Nicolson` et de `Heun`\n",
    "\n",
    "   <details>\n",
    "        <summary>\n",
    "            <em><font color='gray'>Indication (cliquer pour afficher)</font></em>\n",
    "        </summary>\n",
    "       \n",
    "    On rappelle, pour une ODE générale $\\partial_t x(t) = f(t,x(t))$, les schémas de Heun et Crank-Nicolson.\n",
    "   \n",
    "   - <b>Heun</b>: $$ x_{n+1} = x_n + \\frac{\\Delta}{2}\\left[f(t_n,x_n)+f\\left(t_{n+1},x_n + \\Delta f(t_n,x_n)\\right)\\right] $$\n",
    "   - <b>Crank-Nicolson</b>: $$ x_{n+1} = x_n + \\frac{\\Delta}{2}\\left[f(t_n,x_n)+f(t_{n+1},x_{n+1})\\right] $$\n",
    "\n",
    "    La méthode de Crank-Nicolson, contrairement à la méthode de Heun, est une méthode <u>implicite</u>.\n",
    "    </details>\n",
    "   "
   ]
  },
  {
   "cell_type": "code",
   "execution_count": null,
   "id": "833aa165",
   "metadata": {
    "deletable": false,
    "nbgrader": {
     "cell_type": "code",
     "checksum": "bc0347e7d517d5dad8c7429df5dfa6b8",
     "grade": true,
     "grade_id": "cell-ab10a6b65031b394",
     "locked": false,
     "points": 0,
     "schema_version": 3,
     "solution": true,
     "task": false
    }
   },
   "outputs": [],
   "source": [
    "Euler_exp(xₙ, Δ, f, _) = xₙ + Δ*f(xₙ)\n",
    "Euler_imp(xₙ, Δ, f, df) = newton_raphson(xₙ, x -> x-xₙ-Δ*f(x), x -> I-Δ*df(x))\n",
    "\n",
    "function Crank_Nicolson(xₙ, Δ, f, df)\n",
    "    # YOUR CODE HERE\n",
    "    throw(ErrorException(\"No code provided\"))\n",
    "end\n",
    "\n",
    "function Heun(xₙ, Δ, f, _)\n",
    "    # YOUR CODE HERE\n",
    "    throw(ErrorException(\"No code provided\"))\n",
    "end;"
   ]
  },
  {
   "cell_type": "markdown",
   "id": "65cfdaa3",
   "metadata": {},
   "source": [
    "4. Implémenter un solveur générique `solve_ode(x₀, tᶠ, Δ ; alg=Euler_exp)` prenant comme arguments\n",
    "\n",
    "    - le vecteur initial `x₀`,\n",
    "\n",
    "    - la valeur finale `tᶠ` de l'intervalle de résolution (ne pouvant bien sûr pas prendre l'infini dans une résolution numérique. On supposera dans la suite que la valeur de $10$ sera suffisante pour représenter une valeur grande en notant que l'échelle de grandeur de $t$ fournie par une analyse dimensionnelle de l'équation différentielle initiale est l'unité),\n",
    "\n",
    "    - le pas de résolution `Δ`,\n",
    "\n",
    "    - `alg` le choix du schéma (parmi les fonctions implémentées à la question précédente ou d'autres que vous voudriez tester...).\n",
    "\n",
    "    Ce solveur générique devra renvoyer les tableaux des valeurs de $t$ (vecteur de scalaires) et de $x$ (vecteur de vecteurs de $\\mathbb{R}^3$)."
   ]
  },
  {
   "cell_type": "code",
   "execution_count": null,
   "id": "5b1062ff",
   "metadata": {
    "deletable": false,
    "nbgrader": {
     "cell_type": "code",
     "checksum": "bc1546287a1f375c01059a69d7b8227e",
     "grade": true,
     "grade_id": "cell-1e84dca36fb3b3c3",
     "locked": false,
     "points": 0,
     "schema_version": 3,
     "solution": true,
     "task": false
    }
   },
   "outputs": [],
   "source": [
    "function solve_ode(x₀, tᶠ, Δ; alg=Crank_Nicolson)\n",
    "    X = [x₀]\n",
    "    T = [0.]\n",
    "    # YOUR CODE HERE\n",
    "    throw(ErrorException(\"No code provided\"))\n",
    "    return T, X\n",
    "end;"
   ]
  },
  {
   "cell_type": "markdown",
   "id": "ea443a1a",
   "metadata": {},
   "source": [
    "5. Tester la résolution en traçant pour les différents algorithmes $t$ en fonction de $g'(t)=x_2(t)$ (il suffit d'inverser les axes pour que $t$ représente l'axe des ordonnées et $g'(t)$ la vitesse du fluide parallèle à l'axe des $x$). On choisira $x_0=(0, 0, 0.2)$ puis $x_0=(0, 0, 0.5)$. Conjecturer l'existence d'un $λ$ permettant de satisfaire la condition à l'infini."
   ]
  },
  {
   "cell_type": "code",
   "execution_count": null,
   "id": "86aa1028",
   "metadata": {
    "deletable": false,
    "nbgrader": {
     "cell_type": "code",
     "checksum": "716884d3c06c0513eef916fd2b67939c",
     "grade": true,
     "grade_id": "cell-790de4ae8b149237",
     "locked": false,
     "points": 0,
     "schema_version": 3,
     "solution": true,
     "task": false
    }
   },
   "outputs": [],
   "source": [
    "tᶠ = 10.\n",
    "Δ = tᶠ/101\n",
    "\n",
    "pl=plot(xlabel=\"u\", ylabel=\"x\")\n",
    "for λ in (0.2, 0.5)\n",
    "    x₀ = [0., 0., λ]\n",
    "    for alg in (Euler_imp, Euler_exp, Crank_Nicolson, Heun)\n",
    "        # YOUR CODE HERE\n",
    "        throw(ErrorException(\"No code provided\"))\n",
    "    end\n",
    "end\n",
    "pl"
   ]
  },
  {
   "cell_type": "markdown",
   "id": "63f63194",
   "metadata": {},
   "source": [
    "6.  Pour trouver la valeur adéquate de $λ$, on se propose de mettre en œuvre l'algorithme de Newton-Raphson sur une fonction scalaire prenant comme argument $λ$ et qui s'annule lorsque l'estimation de la valeur à l'infini de $g'$ est respectée (autrement dit $x_2(t^f)-1=0$). Cette fonction impose donc la résolution numérique complète de l'équation différentielle puisqu'elle fait intervenir $x_2(t^f)$. Il n'est donc pas question de pouvoir la différentier par rapport à $λ$ à la main.\n",
    "    C'est pourquoi on se propose de s'appuyer sur la notion de différentiation automatique vue au TD précédent.\n",
    "    On va utiliser l'implémentation fournie par la bibliothèque `ForwardDiff`.\n",
    "\n",
    "    Voici un exemple de calcul automatique de la dérivée d'une fonction à une variable.\n",
    "      ```julia\n",
    "      using ForwardDiff\n",
    "      f(x) = exp(sin(x)^2)\n",
    "      ForwardDiff.derivative(f, 2.)  # derivative of f at x = 2.0\n",
    "    ```\n",
    "    De manière analogue à ce qui a été vu au TD précédent, il est aussi possible de manipuler directement l'implémentation de `ForwardDiff` des nombres duaux:\n",
    "    ```julia\n",
    "      import ForwardDiff:Dual\n",
    "      x = Dual(2., 1.)\n",
    "    ```\n",
    "    On a initialisé un nombre dual. Le premier argument dans le constructeur contient sa valeur scalaire, et le deuxième contient sa dérivée par rapport au paramètre d'intérêt, qui n'est autre que `x` lui-même. Pour récupérer la valeur de la fonction et sa dérivée par rapport à `x`, on peut utiliser la syntaxe suivante:\n",
    "    ```julia\n",
    "      result = f(x)\n",
    "      f_x = result.value # f(2.0)\n",
    "      df_x = result.partials[1] #f'(2.0)\n",
    "    ```\n",
    "\n",
    "    Il est pratique d'introduire un nombre dual représentant une dérivée générique, comme dans le TD précédent:\n",
    "    ```julia\n",
    "      const dx = Dual(0.,1.)\n",
    "      result = f(2.0 + dx) # équivalent à f(Dual(2.0,1.0))\n",
    "    ```\n",
    "\n",
    "    <details>\n",
    "        <summary>\n",
    "            <em><font color='gray'> Pour aller plus loin (cliquer pour afficher)</font></em>\n",
    "        </summary>\n",
    "        \n",
    "    En fait, l'implémentation de `ForwardDiff` est bien plus puissante (car générique), et permet de calculer les dérivées d'ordre supérieur de la même façon. L'astuce consiste à construire des <b>nombres duaux de nombres duaux</b>:\n",
    "\n",
    "    ```julia\n",
    "      x = 2.0\n",
    "      x_dx = Dual(x,1.0) # nombre dual d'ordre 1\n",
    "      x_dx_dxx = Dual(x_dx,1.0) # nombre dual d'ordre 2\n",
    "\n",
    "      result = f(x_dx_dxx) # nombre dual d'ordre 2. `result.value` et `result.partials[1]` sont tous les deux des nombres duaux d'ordre 1\n",
    "\n",
    "      @assert result.value isa Dual\n",
    "      @assert result.partials[1] isa Dual\n",
    "\n",
    "      f_x = result.value.value # f(x)\n",
    "      df_x = result.value.partials[1] # f'(x)\n",
    "      df_x_alt = result.partials[1].value # également f'(x)\n",
    "      d2f_x = result.partials[1].partials[1] # f''(x)\n",
    "    ```\n",
    "    <b>ATTENTION</b>: cette méthode devient <b>très</b> inefficace pour des dérivées d'ordre grand, car de nombreuses dérivées égales par le théorème de Schwartz n'ont pas besoin d'être recalculées (dans l'exemple ci-dessus on voit que $f'(x)$ est calculée deux fois).\n",
    "\n",
    "    À titre d'exemple, on montre qu'on peut utiliser cette stratégie pour surcharger l'opérateur `adjoint` (`adjoint(x)` est syntactiquement équivalent à `x'`) de facon à ce que, appliqué à une fonction réelle, il renvoie une nouvelle fonction égale à sa dérivée. On peut récupérer les dérivées supérieures en appliquant l'opérateur de manière itérée.\n",
    "\n",
    "    ```julia\n",
    "    import Base: adjoint\n",
    "    adjoint(f::Function) = x->f(Dual(x,1.0)).partials[1]\n",
    "    f'(2.0) # dérivée de f en x=2\n",
    "    f''(2.0) # dérivée seconde de f en x=2\n",
    "    ```\n",
    "    Et ainsi de suite...\n",
    "    ```julia\n",
    "    X = randn(100)\n",
    "    @assert all(cos''''''.(X) .== -cos.(X))\n",
    "    ```\n",
    "    </details>\n",
    "\n",
    "\n",
    "    Ecrire une fonction de résolution par Newton-Raphson `newton_raphson_dual(x, f, maxiter=100; ε = 1e-12)` d'une fonction scalaire `f` dans laquelle la dérivée de `f` au point courant sera obtenue par exploitation des nombres duaux."
   ]
  },
  {
   "cell_type": "code",
   "execution_count": null,
   "id": "e70c9b71",
   "metadata": {
    "deletable": false,
    "nbgrader": {
     "cell_type": "code",
     "checksum": "9cb16a171eee26c88d6ce93ae0fc22a7",
     "grade": true,
     "grade_id": "cell-dd65fda6d992fe09",
     "locked": false,
     "points": 0,
     "schema_version": 3,
     "solution": true,
     "task": false
    }
   },
   "outputs": [],
   "source": [
    "using ForwardDiff\n",
    "\n",
    "const dx = ForwardDiff.Dual(0,1)\n",
    "\n",
    "function newton_raphson_dual(x, f, maxiter=100; ε = 1e-12)\n",
    "    # YOUR CODE HERE\n",
    "    throw(ErrorException(\"No code provided\"))\n",
    "end;"
   ]
  },
  {
   "cell_type": "markdown",
   "id": "a3493dc6",
   "metadata": {},
   "source": [
    "7. Implémenter la fonction `shooting_residual(λ, tᶠ, Δ; alg=Crank_Nicolson)` devant s'annuler lorsque la résolution respecte la condition estimée \"à l'infini\"."
   ]
  },
  {
   "cell_type": "code",
   "execution_count": null,
   "id": "cdef0171",
   "metadata": {
    "deletable": false,
    "nbgrader": {
     "cell_type": "code",
     "checksum": "64ff41f72049f5670cf796c9830f3898",
     "grade": true,
     "grade_id": "cell-4ea0d6f6af807425",
     "locked": false,
     "points": 0,
     "schema_version": 3,
     "solution": true,
     "task": false
    }
   },
   "outputs": [],
   "source": [
    "function shooting_residual(λ, tᶠ, Δ; alg=Crank_Nicolson)\n",
    "    # YOUR CODE HERE\n",
    "    throw(ErrorException(\"No code provided\"))\n",
    "end;"
   ]
  },
  {
   "cell_type": "markdown",
   "id": "ec56a830",
   "metadata": {},
   "source": [
    "8. Tester la résolution de la valeur de $λ$ en appliquant l'algorithme de Newton-Raphson à la fonction `shooting_residual`,\n",
    "   et tracer les courbes donnant les valeurs de $λ$ en fonction de $Δ$ pour les différents schémas.\n",
    "    <details>\n",
    "        <summary>\n",
    "            <em><font color='gray'>Indication (cliquer pour afficher)</font></em>\n",
    "        </summary>\n",
    "\n",
    "    Attention, la fonction `newton_raphson_dual` est implémentée avec une fonction `f` ne dépendant que d'un seul argument donc il faut se ramener à une fonction déduite de `shooting_residual` qui ne dépend plus que du seul argument `λ`.\n",
    "    Il suffit pour cela de fixer localement les valeurs de autres arguments `tᶠ`, `Δ` et `alg` et d'appeler `newton_raphson_dual` avec la fonction anonyme `λ -> shooting_residual(λ, tᶠ, Δ; alg=alg)`.\n",
    "    </details>"
   ]
  },
  {
   "cell_type": "code",
   "execution_count": null,
   "id": "39f1c4db",
   "metadata": {
    "deletable": false,
    "nbgrader": {
     "cell_type": "code",
     "checksum": "d08bd0db939fd21a352a301e21cf3370",
     "grade": true,
     "grade_id": "cell-2688f2737ee6767a",
     "locked": false,
     "points": 0,
     "schema_version": 3,
     "solution": true,
     "task": false
    }
   },
   "outputs": [],
   "source": [
    "lΔ = tᶠ ./ (2 .^(4:13))\n",
    "pl = plot(xlabel=\"Δ\", ylabel=\"u′(0)\", xaxis=:log2)\n",
    "for alg in (Euler_imp, Euler_exp, Crank_Nicolson, Heun)\n",
    "    # YOUR CODE HERE\n",
    "    throw(ErrorException(\"No code provided\"))\n",
    "end\n",
    "pl"
   ]
  },
  {
   "cell_type": "markdown",
   "id": "5c4b0643",
   "metadata": {},
   "source": [
    "9. En déduire une bonne estimation de $λ$ et tracer à nouveau le profil de vitesse (i.e. $t$ en fonction de $g'(t)=x_2(t)$) pour cette valeur de $λ$ pour les différents schémas."
   ]
  },
  {
   "cell_type": "code",
   "execution_count": null,
   "id": "daa29899",
   "metadata": {
    "deletable": false,
    "nbgrader": {
     "cell_type": "code",
     "checksum": "83b358ca4236b4441ff101c70cb3688b",
     "grade": true,
     "grade_id": "cell-47340b54c49f3bda",
     "locked": false,
     "points": 0,
     "schema_version": 3,
     "solution": true,
     "task": false
    }
   },
   "outputs": [],
   "source": [
    "# Calculate λ\n",
    "# YOUR CODE HERE\n",
    "throw(ErrorException(\"No code provided\"))\n",
    "\n",
    "pl = plot(xlabel=\"u\", ylabel=\"x\")\n",
    "x₀ = [0., 0., λ]\n",
    "# YOUR CODE HERE\n",
    "throw(ErrorException(\"No code provided\"))\n",
    "pl"
   ]
  },
  {
   "cell_type": "markdown",
   "id": "bb8c44f2",
   "metadata": {},
   "source": [
    "### <font color='orange'>[Exercise 2]</font> Résolution de l'équation de la chaleur"
   ]
  },
  {
   "cell_type": "markdown",
   "id": "06389d8a",
   "metadata": {},
   "source": [
    "On s'intéresse dans cet exercice à l'équation de la chaleur unidimensionnelle\n",
    "avec une condition aux limites de Dirichlet homogène et une condition initiale donnée:\n",
    "$$\n",
    "\\tag{EDP}\n",
    "\\partial_t u = \\alpha \\partial_x^2 u,\n",
    "\\qquad u(0, t) = u(1, t) = 0,\n",
    "\\qquad u(x, 0) = v(x),\n",
    "$$\n",
    "où $v(x) = \\sin(\\pi x) - \\sin(3\\pi x) + 2 \\sin(4\\pi x)$ est une fonction donnée,\n",
    "et où $\\alpha > 0$ est la diffusivité thermique.\n",
    "Tout au long de cet exercice, on prendra $\\alpha = 0.02$.\n",
    "On admettra qu'il existe une unique solution classique $u(x, t)$ au problème <a>(EDP)</a>,\n",
    "qui est donnée par\n",
    "$$\n",
    "u(x, t) = \\sin(\\pi x) \\mathrm e^{- \\alpha \\pi^2 t} - \\sin(3\\pi x) \\mathrm e^{- 9 \\alpha \\pi^2  t} + 2 \\sin(4\\pi x) \\mathrm e^{- 16 \\alpha \\pi^2 t}.\n",
    "$$\n",
    "\n",
    "À titre d'exercice, on pourra vérifier par un calcul que $u$ est bien solution de <a>(EDP)</a>, et conjecturer la forme de la solution pour une condition initiale plus générale $u(x,0) = \\sum_{k=1}^N c_k \\sin(k\\pi x)$.\n",
    "\n",
    "1. Avec la macro `@anim` de `Plots`, animer l'évolution de de la solution exacte, pour $t \\in [0, 1]$."
   ]
  },
  {
   "cell_type": "code",
   "execution_count": null,
   "id": "8bc1da88",
   "metadata": {
    "deletable": false,
    "nbgrader": {
     "cell_type": "code",
     "checksum": "cb9e9298f0e7b35508c3888cb8c6ce6d",
     "grade": true,
     "grade_id": "cell-c7dd1194c8035473",
     "locked": false,
     "points": 0,
     "schema_version": 3,
     "solution": true,
     "task": false
    }
   },
   "outputs": [],
   "source": [
    "# Thermal diffusivity\n",
    "const α = .02\n",
    "\n",
    "# Exact solution\n",
    "u_exact(x, t) = sinpi(x) * exp(-α*π^2*t) -\n",
    "                sinpi(3x) * exp(-9α*π^2*t) +\n",
    "                2sinpi(4*x) * exp(-16α*π^2*t)\n",
    "\n",
    "# Initial condition\n",
    "u_init(x) = sinpi(x) - sinpi(3x) + 2sinpi(4*x)\n",
    "ts = LinRange(0, 1, 50)\n",
    "\n",
    "# YOUR CODE HERE\n",
    "throw(ErrorException(\"No code provided\"))\n",
    "gif(anim, fps=5, show_msg=false)"
   ]
  },
  {
   "cell_type": "markdown",
   "id": "7c404a34",
   "metadata": {},
   "source": [
    "Soit une grille d'abcisses équidistantes\n",
    "$$\n",
    "0 = x_0 < x_1 < \\dots < x_{N-1} < x_N = 1, \\qquad x_i = \\frac{i}{N},\n",
    "$$\n",
    "et soit $(u_i)_{i \\in \\{0, \\dots N\\}}$ la valeur de la solution à ces points.\n",
    "Aux limites, il est clair que $u_0(t) = u_N(t) = 0$ pour tout $t$.\n",
    "Aux points intérieurs,\n",
    "une approximation par différence finie centrale de la dérivée seconde donne\n",
    "$$\n",
    "\\partial_x^2 u(x_i, t) \\approx \\frac{1}{Δx^2} \\Bigl( u_{i-1}(t) - 2u_i(t) + u_{i+1}(t) \\Bigr), \\qquad \\Delta x = \\frac{1}{N}, \\qquad i \\in \\{1, \\dotsc, N-1\\}.\n",
    "$$\n",
    "On en déduit,\n",
    "par l'équation <a>(EDP)</a> et par la condition initiale,\n",
    "que le vecteur $\\mathbf u(t) = \\bigl(u_1(t), \\dotsc, u_{N-1}(t) \\bigr)^T$ satisfait approximativement l'équation différentielle suivante:\n",
    "$$\n",
    "\\tag{EDO}\n",
    "\\frac{\\mathrm d}{\\mathrm d t}\n",
    "\\begin{pmatrix}\n",
    "    u_1 \\\\\n",
    "    u_2 \\\\\n",
    "    u_3 \\\\\n",
    "    \\vdots \\\\\n",
    "    u_{N-2} \\\\\n",
    "    u_{N-1}\n",
    "\\end{pmatrix}\n",
    "\\approx\n",
    "\\frac{\\alpha \\mathsf A_N}{Δx^2}\n",
    "\\begin{pmatrix}\n",
    "    u_1 \\\\\n",
    "    u_2 \\\\\n",
    "    u_3 \\\\\n",
    "    \\vdots \\\\\n",
    "    u_{N-2} \\\\\n",
    "    u_{N-1}\n",
    "\\end{pmatrix}, \\qquad\n",
    "\\begin{pmatrix}\n",
    "    u_1(0) \\\\\n",
    "    u_2(0) \\\\\n",
    "    u_3(0) \\\\\n",
    "    \\vdots \\\\\n",
    "    u_{N-2}(0) \\\\\n",
    "    u_{N-1}(0)\n",
    "\\end{pmatrix} =\n",
    "\\begin{pmatrix}\n",
    "    v(x_1) \\\\\n",
    "    v(x_2) \\\\\n",
    "    v(x_3) \\\\\n",
    "    \\vdots \\\\\n",
    "    v(x_{N-2}) \\\\\n",
    "    v(x_{N-1})\n",
    "\\end{pmatrix},\n",
    "$$\n",
    "où $\\mathsf A_N \\in \\mathbb R^{(N-1)\\times (N-1)}$ est la matrice suivante (dimension <font color=red>N-1 x N-1</font>):\n",
    "$$\n",
    "\\begin{pmatrix}\n",
    "    -2 & 1 \\\\\n",
    "    1 & -2  & 1 \\\\\n",
    "       & 1 & -2      & 1 \\\\\n",
    "       &    & \\ddots & \\ddots & \\ddots & \\\\\n",
    "       &    &        & 1    & -2      & 1 \\\\\n",
    "       &    &        &     & 1      & -2 \\\\\n",
    "\\end{pmatrix}.\n",
    "$$\n",
    "L'équation <a>(ODE)</a> n'est qu'approximativement satisfaite par la solution exacte,\n",
    "mais elle constitue une équation différentielle bien posée dont la résolution fournit une méthode d'approximation de la solution exacte de l'EDP;\n",
    "c'est la méthode des différences finies.\n",
    "\n",
    "1. En utilisant la fonction `LinearAlgebra.eigvals`, illustrer en fonction de $N \\in \\{5, \\dotsc 50\\}$\n",
    "   les valeurs propres de la matrice $\\mathsf A_N \\in \\mathbb R^{(N-1) \\times (N-1)}$.\n",
    "   <details>\n",
    "        <summary>\n",
    "            <em><font color='gray'>Hint (click to display)</font></em>\n",
    "        </summary>\n",
    "\n",
    "    - Il faut dans cet exercice trouver une manière d'illustrer clairement les valeurs propres en fonction de `N`.\n",
    "    La méthode à utiliser pour ce faire n'est pas imposée,\n",
    "    mais rappelons que pour des nombres `a` et `b`,\n",
    "    la commande `scatter([a], [b])` permet de tracer un point en $(a, b)$.\n",
    "    - La fonction `SymTridiagonal` de `LinearAlgebra` permet de construire efficacement une matrice tridiagonale symétrique.\n",
    "    </details>"
   ]
  },
  {
   "cell_type": "code",
   "execution_count": null,
   "id": "c3fad960",
   "metadata": {
    "deletable": false,
    "nbgrader": {
     "cell_type": "code",
     "checksum": "0d7c6c850e2b9d46ab304be429b1f66e",
     "grade": true,
     "grade_id": "cell-b32dc794888e2b17",
     "locked": false,
     "points": 0,
     "schema_version": 3,
     "solution": true,
     "task": false
    }
   },
   "outputs": [],
   "source": [
    "# YOUR CODE HERE\n",
    "throw(ErrorException(\"No code provided\"))"
   ]
  },
  {
   "cell_type": "markdown",
   "id": "da7bbb97",
   "metadata": {},
   "source": [
    "  Si votre réponse au point précédent est bonne,\n",
    "  il devrait apparaître clairement sur le graphique que les valeurs propres de la matrice $\\mathsf A_N$\n",
    "  sont toutes comprises dans l'intervalle fermé $[-4, 0]$.\n",
    "  On admettra que toutes les valeurs propres sont en fait,\n",
    "  pour tout $N$, incluses dans l'intervalle **ouvert** $(-4, 0)$."
   ]
  },
  {
   "cell_type": "markdown",
   "id": "f77bacda",
   "metadata": {},
   "source": [
    "  2. Pour résoudre numériquement l'équation différentielle <a>(EDO)</a>,\n",
    "     on considère tout d'abord la méthode d'Euler explicite:\n",
    "     $$\n",
    "     \\mathbf u_{n+1} = \\mathbf u_{n} + \\left(\\alpha \\frac{\\Delta t}{\\Delta x^2} \\right) \\mathsf A_N \\mathbf u_{n}.\n",
    "     $$\n",
    "     On dira qu'une méthode d'intégration numérique pour <a>(EDP)</a> est stable\n",
    "     quand, de manière analogue à la solution exacte,\n",
    "     la solution numérique décroit vers 0 lorsque $n \\to \\infty$\n",
    "     (dans n'importe quelle norme, puisque toutes les normes sont équivalentes en dimension finie).\n",
    "     Trouver un condition **suffisante**,\n",
    "     en fonction de $\\alpha$, $\\Delta x$ et $\\Delta t$,\n",
    "     valable pour toute valeur de $N$ et toute condition initiale,\n",
    "     garantissant la stabilité numérique de la méthode d'Euler explicite.\n",
    "\n",
    "     <details>\n",
    "     <summary>\n",
    "     <em><font color='gray'>Indication (cliquer pour afficher)</font></em>\n",
    "     </summary>\n",
    "\n",
    "     - Le schéma d'Euler explicite peut s'écrire comme une simple itération linéaire, pour une certaine matrice symétrique.\n",
    "     - On pourra utiliser la norme matricielle $\\|\\cdot\\|_2$ subordonnée à la norme Euclidienne, et son interprétation spectrale $\\|M\\|_2 = \\max_{\\lambda\\in\\sigma(M)} |\\lambda|$ pour $M$ symétrique.\n",
    "     </details>"
   ]
  },
  {
   "cell_type": "code",
   "execution_count": null,
   "id": "abe4ed4a",
   "metadata": {
    "deletable": false,
    "nbgrader": {
     "cell_type": "code",
     "checksum": "5f9b56ab480fcf9e79e282bac77a157e",
     "grade": true,
     "grade_id": "cell-7fe1a12b289d3b9c",
     "locked": false,
     "points": 0,
     "schema_version": 3,
     "solution": true,
     "task": false
    }
   },
   "outputs": [],
   "source": [
    "function stab_condition(Δt, Δx, α = α)\n",
    "    # Should return `true` or `false`\n",
    "    # YOUR CODE HERE\n",
    "    throw(ErrorException(\"No code provided\"))\n",
    "end;"
   ]
  },
  {
   "cell_type": "markdown",
   "id": "3e21b63b",
   "metadata": {},
   "source": [
    "3. Écrire une fonction `solve_pde(Δt, N, tᶠ= 1, alg)` permettant de résoudre approximativement l'équation <a>(ODE)</a> sur l'intervalle de temps $[0, tᶠ]$ par la méthode `alg`,\n",
    "   avec un pas temps $\\Delta t$ et un pas de discrétisation en espace $\\Delta x = 1/N$.\n",
    "\n",
    "   L'argument `alg` doit être une fonction prenant comme arguments `(tₙ, Zₙ, f, Δt)`,\n",
    "   comme la fonction `euler_exp` donnée ci-dessous,\n",
    "   et effectuant un pas d'intégration numérique de taille $\\Delta t$ pour une équation différentielle générique de la forme $Z' = f(t, Z)$.\n",
    "   Votre fonction devra renvoyer un vecteur de temps `ts` et un vecteur de vecteurs `us` contenant la solution à ces temps.\n",
    "   <details>\n",
    "        <summary>\n",
    "            <em><font color='gray'>Hint (click to display)</font></em>\n",
    "        </summary>\n",
    "\n",
    "    La fonction `push!(vec, x)` permet d'insérer `x` à la fin de la collection `vec`.\n",
    "\n",
    "    ```julia\n",
    "        a = [1., 2., 3.]  # typeof(a) = Vector{Float64}\n",
    "        vec = [a]  # typeof(vec) = Vector{Vector{Float64}}\n",
    "        push!(vec, [2., 3., 4.])  # vec = [[1.0, 2.0, 3.0], [2.0, 3.0, 4.0]]\n",
    "    ```\n",
    "    </details>"
   ]
  },
  {
   "cell_type": "code",
   "execution_count": null,
   "id": "9d007c53",
   "metadata": {
    "deletable": false,
    "nbgrader": {
     "cell_type": "code",
     "checksum": "ec1bac9b4d19f5258eebfb461f528c1c",
     "grade": true,
     "grade_id": "cell-95895ee3cb07b1db",
     "locked": false,
     "points": 0,
     "schema_version": 3,
     "solution": true,
     "task": false
    }
   },
   "outputs": [],
   "source": [
    "euler_exp(tₙ, Zₙ, f, Δt) = Zₙ + Δt*f(tₙ, Zₙ)\n",
    "\n",
    "function solve_pde(Δt, N, tᶠ; alg=euler_exp)\n",
    "    # Number of subintervals\n",
    "    Δx = 1/N\n",
    "\n",
    "    # Matrix A for N given\n",
    "    my_A = A(N)\n",
    "\n",
    "    # Interior discretization points\n",
    "    x = Δx*(1:N-1)\n",
    "\n",
    "    # YOUR CODE HERE\n",
    "    throw(ErrorException(\"No code provided\"))\n",
    "    return ts, us\n",
    "end;"
   ]
  },
  {
   "cell_type": "markdown",
   "id": "a8d2ff1b",
   "metadata": {},
   "source": [
    "4. Écrire une fonction `animate_solution(ts, us)` qui,\n",
    "   étant donné `ts` un vecteur de temps,\n",
    "   et `us` un vecteur de vecteurs qui contient la solution aux temps `ts`,\n",
    "   renvoie une animation illustrant l'évolution de la solution numérique du problème <a>(PDE)</a>.\n",
    "   Inclure aussi la solution exacte dans cette animation.\n",
    "   <details>\n",
    "        <summary>\n",
    "            <em><font color='gray'>Hint (click to display)</font></em>\n",
    "        </summary>\n",
    "\n",
    "    Les vecteurs dans `us` contiennent la solution aux points intérieurs uniquement.\n",
    "    Pour améliorer la qualité de la visualisaiton, vous pouvez ajouter les valeurs de la solution aux limites $x_0$ and $x_N$.\n",
    "    Pour ajouter des éléments au début et à la fin d'un vecteur,\n",
    "    vous pouvez utiliser la concaténation grâce à `;`\n",
    "\n",
    "    ```julia\n",
    "        v1 = [1., 2., 3.]\n",
    "        v2 = [0.; v1; 0.]  # v2 = [0., 1., 2., 3., 0.]\n",
    "    ```\n",
    "    </details>"
   ]
  },
  {
   "cell_type": "code",
   "execution_count": null,
   "id": "6626a9b3",
   "metadata": {
    "deletable": false,
    "nbgrader": {
     "cell_type": "code",
     "checksum": "5b9db079b393293116e9c21c7a285dfd",
     "grade": true,
     "grade_id": "cell-bf854880a691de1a",
     "locked": false,
     "points": 0,
     "schema_version": 3,
     "solution": true,
     "task": false
    }
   },
   "outputs": [],
   "source": [
    "function animate_solution(ts, us)\n",
    "    N = length(us[1]) + 1\n",
    "    Δx = 1/N\n",
    "    x = Δx*(0:N)\n",
    "\n",
    "    # YOUR CODE HERE\n",
    "    throw(ErrorException(\"No code provided\"))\n",
    "\n",
    "    return anim\n",
    "end;"
   ]
  },
  {
   "cell_type": "markdown",
   "id": "200abed6",
   "metadata": {
    "deletable": false,
    "editable": false,
    "nbgrader": {
     "cell_type": "markdown",
     "checksum": "073502b38cf44fe78af060d17194eddf",
     "grade": false,
     "grade_id": "cell-3e9f7f5ef038c0d5",
     "locked": true,
     "schema_version": 3,
     "solution": false,
     "task": false
    }
   },
   "source": [
    "- Pour les paramètres $\\Delta t$ et $\\Delta x$ correspondant à la première animation ci-dessous,\n",
    "  la méthode d'Euler explicite devrait être **stable**.\n",
    "  Dans ce cas, la solution numérique en temps long s'approche du vecteur propre associé à la valeur propre la plus petite,\n",
    "  en valeur absolue, de la matrice $\\mathsf A_N$.\n",
    "  C'est logique, car le schéma d'Euler explicite peut être vu comme une application,\n",
    "  sans normalisation à chaque pas,\n",
    "  de la méthode de la puissance itérée pour la matrice $$\\mathsf B_N = \\mathsf I + \\frac{α \\Delta t }{ \\Delta x^2 } \\mathsf A_N.$$\n",
    "\n",
    "  Pour les paramètres $\\Delta t$ et $\\Delta x$ correspondant à la seconde animation,\n",
    "  la méthode d'Euler explicite devrait être **instable**.\n",
    "  Le profil de l'instabilité en temps long est cette fois-ci donné par le vecteur propre associé à la valeur propre dominante (en valeur absolue) de $\\mathsf A_N$."
   ]
  },
  {
   "cell_type": "code",
   "execution_count": null,
   "id": "747e655f",
   "metadata": {},
   "outputs": [],
   "source": [
    "N = 50; Δx = 1/N; \n",
    "for Δt in (.008, .012)\n",
    "    is_stable = stab_condition(Δt, Δx)\n",
    "    println(\"Stability condition met: $is_stable: \" , α * Δt / Δx^2)\n",
    "    ts, us = solve_pde(Δt, N, 2.)\n",
    "    anim = animate_solution(ts, us)\n",
    "    display(gif(anim, fps = 10, show_msg=false))\n",
    "end;"
   ]
  },
  {
   "cell_type": "markdown",
   "id": "46b6a8dd",
   "metadata": {},
   "source": [
    "5. Écrire une fonction `rk4(tₙ, Zₙ, f, Δ)` implémentant un pas de temps de taille $\\Delta$ de la méthode de Runge-Kutta d'ordre 4 pour une équation différentielle générique de la forme $Z' = f(t, Z)$.\n",
    "   Cette méthode est basée sur l'itération suivante:\n",
    "   $$\n",
    "      \\mathbf Z_{n+1} = \\mathbf Z_n + \\frac{\\Delta}{6}\\left(\\mathbf k_1 + 2\\mathbf k_2 + 2\\mathbf k_3 + \\mathbf k_4 \\right),\n",
    "   $$\n",
    "   où\n",
    "   \\begin{align*}\n",
    "   \\mathbf k_1 &= \\ f(t_n, \\mathbf Z_n), \\\\\n",
    "   \\mathbf k_2 &= \\ f\\!\\left(t_n + \\frac{\\Delta}{2}, \\mathbf Z_n + \\frac{\\Delta}{2} \\mathbf k_1\\right), \\\\\n",
    "   \\mathbf k_3 &= \\ f\\!\\left(t_n + \\frac{\\Delta}{2}, \\mathbf Z_n + \\frac{\\Delta}{2} \\mathbf k_2\\right), \\\\\n",
    "   \\mathbf k_4 &= \\ f\\!\\left(t_n + \\Delta, \\mathbf Z_n + \\Delta\\mathbf k_3\\right).\n",
    "   \\end{align*}\n",
    "   La fonction devra renvoyer $\\mathbf Z_{n+1}$."
   ]
  },
  {
   "cell_type": "code",
   "execution_count": null,
   "id": "b0ad88a1",
   "metadata": {
    "deletable": false,
    "nbgrader": {
     "cell_type": "code",
     "checksum": "c1ced58a8933340315c673118ac20fdd",
     "grade": true,
     "grade_id": "cell-a139b0f46ce47751",
     "locked": false,
     "points": 0,
     "schema_version": 3,
     "solution": true,
     "task": false
    }
   },
   "outputs": [],
   "source": [
    "function rk4(tₙ, Zₙ, f, Δ)\n",
    "    # YOUR CODE HERE\n",
    "    throw(ErrorException(\"No code provided\"))\n",
    "end\n",
    "\n",
    "@assert rk4(0., [0.], (t, Z) -> [1.], 1.) ≈ [1.0]\n",
    "@assert rk4(1., [0.], (t, Z) -> [t], 1.)  ≈ [3/2]\n",
    "@assert rk4(0., [0.; 0.], (t, Z) -> [t^2; t^3], 1.) ≈ [1/3; 1/4]"
   ]
  },
  {
   "cell_type": "markdown",
   "id": "457a0e21",
   "metadata": {},
   "source": [
    "5. Le domaine de stabilité absolue de la méthode de Runge-Kutta d'ordre 4 est illustré ci-dessous.\n",
    "   Sur base de cette figure, \n",
    "   déduire que l'intégration numérique sera stable si\n",
    "   $$\n",
    "   \\frac{\\alpha \\Delta t}{\\Delta x^2} \\leq L \\approx \\frac{2.75}{4}.\n",
    "   $$\n",
    "   Vérifier cette condition numériquement en illustrant la solution pour les paramètres\n",
    "   $(\\Delta x, \\Delta t) = (.02, .012)$ and $(\\Delta x, \\Delta t) = (.02, .015)$.\n",
    "   La méthode de Runge-Kutta d'ordre 4 est-elle plus ou moins stable que la méthode d'Euler explicite?"
   ]
  },
  {
   "cell_type": "code",
   "execution_count": null,
   "id": "fcd1be6f",
   "metadata": {},
   "outputs": [],
   "source": [
    "xlims = (-6, 2)\n",
    "ylims = (-4, 4)\n",
    "Plots.plot(size=(900, 600))\n",
    "x = LinRange(xlims..., 400)\n",
    "y = LinRange(ylims..., 400)\n",
    "is_method_stable(z, p) = abs(sum(z^i/factorial(i) for i in 0:p)) < 1\n",
    "stable = is_method_stable.(x' .+ im*y, 4)\n",
    "Plots.contourf!(x, y, stable, c=:Pastel1_3,\n",
    "                aspect_ratio=:equal, levels=[0, 1, 2],\n",
    "                xlabel=L\"\\Re(\\Delta \\lambda)\",\n",
    "                ylabel=L\"\\Im(\\Delta \\lambda)\",\n",
    "                colorbar=:none, xlims=xlims, ylims=ylims)\n",
    "Plots.contour!(x, y, stable, levels=5, c=:red)\n",
    "Plots.vline!([0], color=:gray, label=nothing)\n",
    "Plots.hline!([0], color=:gray, label=nothing)\n",
    "Plots.vline!([-2.75], color=:gray, label=nothing)"
   ]
  },
  {
   "cell_type": "code",
   "execution_count": null,
   "id": "b11dd1df",
   "metadata": {
    "deletable": false,
    "nbgrader": {
     "cell_type": "code",
     "checksum": "f5507e9823975eb2899b3238cefcb835",
     "grade": true,
     "grade_id": "cell-13738106ed4ebc8d",
     "locked": false,
     "points": 0,
     "schema_version": 3,
     "solution": true,
     "task": false
    }
   },
   "outputs": [],
   "source": [
    "N = 50; Δx = 1/N; Δt = .015\n",
    "for Δt in (.012, .015)\n",
    "    println(\"4α * Δt / Δx^2 = \", 4α * Δt / Δx^2)\n",
    "    # YOUR CODE HERE\n",
    "    throw(ErrorException(\"No code provided\"))\n",
    "end;"
   ]
  }
 ],
 "metadata": {
  "jupytext": {
   "encoding": "# -*- coding: utf-8 -*-"
  },
  "kernelspec": {
   "display_name": "Julia 1.10.3",
   "language": "julia",
   "name": "julia-1.10"
  },
  "language_info": {
   "file_extension": ".jl",
   "mimetype": "application/julia",
   "name": "julia",
   "version": "1.10.3"
  }
 },
 "nbformat": 4,
 "nbformat_minor": 5
}
